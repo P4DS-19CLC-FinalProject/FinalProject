{
 "cells": [
  {
   "cell_type": "markdown",
   "id": "1c7f5c36",
   "metadata": {},
   "source": [
    "# Đồ Án Cuối Kỳ"
   ]
  },
  {
   "cell_type": "markdown",
   "id": "706dc657",
   "metadata": {},
   "source": [
    "## Môi trường code"
   ]
  },
  {
   "cell_type": "code",
   "execution_count": 1,
   "id": "b03384ae",
   "metadata": {},
   "outputs": [
    {
     "data": {
      "text/plain": [
       "'/home/uyen_trang/miniconda3/envs/min_ds-env/bin/python'"
      ]
     },
     "execution_count": 1,
     "metadata": {},
     "output_type": "execute_result"
    }
   ],
   "source": [
    "import sys\n",
    "sys.executable"
   ]
  },
  {
   "cell_type": "markdown",
   "id": "9d134961",
   "metadata": {},
   "source": [
    "## Import các thư viện cần thiết"
   ]
  },
  {
   "cell_type": "code",
   "execution_count": 2,
   "id": "b4458189",
   "metadata": {},
   "outputs": [],
   "source": [
    "import pandas as pd\n",
    "import numpy as np\n",
    "import re"
   ]
  },
  {
   "cell_type": "markdown",
   "id": "829831c8",
   "metadata": {},
   "source": [
    "## Thu thập dữ liệu"
   ]
  },
  {
   "cell_type": "markdown",
   "id": "817899ce",
   "metadata": {},
   "source": [
    "Dữ liệu được thu thập trên Kaggle"
   ]
  },
  {
   "cell_type": "markdown",
   "id": "5eb6e5e4",
   "metadata": {},
   "source": [
    "## Khám phá dữ liệu"
   ]
  },
  {
   "cell_type": "markdown",
   "id": "9927e400",
   "metadata": {},
   "source": [
    "## Đọc dữ liệu từ file csv"
   ]
  },
  {
   "cell_type": "code",
   "execution_count": 3,
   "id": "0a40a1d5",
   "metadata": {},
   "outputs": [
    {
     "data": {
      "text/html": [
       "<div>\n",
       "<style scoped>\n",
       "    .dataframe tbody tr th:only-of-type {\n",
       "        vertical-align: middle;\n",
       "    }\n",
       "\n",
       "    .dataframe tbody tr th {\n",
       "        vertical-align: top;\n",
       "    }\n",
       "\n",
       "    .dataframe thead th {\n",
       "        text-align: right;\n",
       "    }\n",
       "</style>\n",
       "<table border=\"1\" class=\"dataframe\">\n",
       "  <thead>\n",
       "    <tr style=\"text-align: right;\">\n",
       "      <th></th>\n",
       "      <th>Uniq Id</th>\n",
       "      <th>Crawl Timestamp</th>\n",
       "      <th>Category</th>\n",
       "      <th>Product Title</th>\n",
       "      <th>Product Description</th>\n",
       "      <th>Brand</th>\n",
       "      <th>Pack Size Or Quantity</th>\n",
       "      <th>Mrp</th>\n",
       "      <th>Price</th>\n",
       "      <th>Site Name</th>\n",
       "      <th>Offers</th>\n",
       "      <th>Combo Offers</th>\n",
       "      <th>Stock Availibility</th>\n",
       "      <th>Product Asin</th>\n",
       "      <th>Image Urls</th>\n",
       "    </tr>\n",
       "  </thead>\n",
       "  <tbody>\n",
       "    <tr>\n",
       "      <th>0</th>\n",
       "      <td>eb49cc038190f6f03c272f79fbbce894</td>\n",
       "      <td>2019-10-30 11:38:11 +0000</td>\n",
       "      <td>Skin Care</td>\n",
       "      <td>Lee posh Lactic Acid 60% Anti ageing Pigmenta...</td>\n",
       "      <td>PROFESSIONAL GRADE Face Peel: this peel stimul...</td>\n",
       "      <td>Lee Posh</td>\n",
       "      <td>NaN</td>\n",
       "      <td>2000.00</td>\n",
       "      <td>799.00</td>\n",
       "      <td>Amazon In</td>\n",
       "      <td>60.05%</td>\n",
       "      <td>NaN</td>\n",
       "      <td>YES</td>\n",
       "      <td>B072BGHNJ1</td>\n",
       "      <td>https://images-na.ssl-images-amazon.com/images...</td>\n",
       "    </tr>\n",
       "    <tr>\n",
       "      <th>1</th>\n",
       "      <td>1657cc30c438affede6a5060d6847363</td>\n",
       "      <td>2019-10-31 15:46:54 +0000</td>\n",
       "      <td>Skin Care</td>\n",
       "      <td>Branded SLB Works New 1.5mm Titanium 1200 nee...</td>\n",
       "      <td>Item name: 1.5mm titanium 1200 needles microne...</td>\n",
       "      <td>SLB Works</td>\n",
       "      <td>NaN</td>\n",
       "      <td>2040.00</td>\n",
       "      <td>2040.00</td>\n",
       "      <td>Amazon In</td>\n",
       "      <td>0%</td>\n",
       "      <td>NaN</td>\n",
       "      <td>YES</td>\n",
       "      <td>B07QDTZYSJ</td>\n",
       "      <td>https://images-na.ssl-images-amazon.com/images...</td>\n",
       "    </tr>\n",
       "    <tr>\n",
       "      <th>2</th>\n",
       "      <td>41654633cce38c8650690f6dbac01fd3</td>\n",
       "      <td>2019-10-30 09:53:23 +0000</td>\n",
       "      <td>Skin Care</td>\n",
       "      <td>Generic 1 Pc brand snail eye cream remove dar...</td>\n",
       "      <td>Use: eye, item type: cream, net wt: 20g, gzzz:...</td>\n",
       "      <td>Generic</td>\n",
       "      <td>NaN</td>\n",
       "      <td>1824.00</td>\n",
       "      <td>1042.00</td>\n",
       "      <td>Amazon In</td>\n",
       "      <td>42.87%</td>\n",
       "      <td>NaN</td>\n",
       "      <td>YES</td>\n",
       "      <td>B07DCSN8MP</td>\n",
       "      <td>https://images-na.ssl-images-amazon.com/images...</td>\n",
       "    </tr>\n",
       "    <tr>\n",
       "      <th>3</th>\n",
       "      <td>08b1bd85c3efc2d7aa556fd79b073382</td>\n",
       "      <td>2019-10-29 16:16:52 +0000</td>\n",
       "      <td>Skin Care</td>\n",
       "      <td>Generic Anti Snoring Snore Stopper Sleep Apne...</td>\n",
       "      <td>Prevent the tongue from dropping backward or b...</td>\n",
       "      <td>Generic</td>\n",
       "      <td>NaN</td>\n",
       "      <td>2185.00</td>\n",
       "      <td>1399.00</td>\n",
       "      <td>Amazon In</td>\n",
       "      <td>35.97%</td>\n",
       "      <td>NaN</td>\n",
       "      <td>YES</td>\n",
       "      <td>B07GLW9VQN</td>\n",
       "      <td>https://images-na.ssl-images-amazon.com/images...</td>\n",
       "    </tr>\n",
       "    <tr>\n",
       "      <th>4</th>\n",
       "      <td>3ac3f213732512d1d11bb73ab3b1900f</td>\n",
       "      <td>2019-10-31 09:32:06 +0000</td>\n",
       "      <td>Grocery &amp; Gourmet Foods</td>\n",
       "      <td>Harveys Crunchy &amp; Creame Gourmet Delicacies C...</td>\n",
       "      <td>Harvey's wafer Cream Wafer 110g. Made in India</td>\n",
       "      <td>Harveys</td>\n",
       "      <td>NaN</td>\n",
       "      <td>594.00</td>\n",
       "      <td>570.00</td>\n",
       "      <td>Amazon In</td>\n",
       "      <td>4.04%</td>\n",
       "      <td>NaN</td>\n",
       "      <td>YES</td>\n",
       "      <td>B07NFYYLF1</td>\n",
       "      <td>https://images-na.ssl-images-amazon.com/images...</td>\n",
       "    </tr>\n",
       "  </tbody>\n",
       "</table>\n",
       "</div>"
      ],
      "text/plain": [
       "                            Uniq Id            Crawl Timestamp  \\\n",
       "0  eb49cc038190f6f03c272f79fbbce894  2019-10-30 11:38:11 +0000   \n",
       "1  1657cc30c438affede6a5060d6847363  2019-10-31 15:46:54 +0000   \n",
       "2  41654633cce38c8650690f6dbac01fd3  2019-10-30 09:53:23 +0000   \n",
       "3  08b1bd85c3efc2d7aa556fd79b073382  2019-10-29 16:16:52 +0000   \n",
       "4  3ac3f213732512d1d11bb73ab3b1900f  2019-10-31 09:32:06 +0000   \n",
       "\n",
       "                  Category                                      Product Title  \\\n",
       "0                Skin Care   Lee posh Lactic Acid 60% Anti ageing Pigmenta...   \n",
       "1                Skin Care   Branded SLB Works New 1.5mm Titanium 1200 nee...   \n",
       "2                Skin Care   Generic 1 Pc brand snail eye cream remove dar...   \n",
       "3                Skin Care   Generic Anti Snoring Snore Stopper Sleep Apne...   \n",
       "4  Grocery & Gourmet Foods   Harveys Crunchy & Creame Gourmet Delicacies C...   \n",
       "\n",
       "                                 Product Description      Brand  \\\n",
       "0  PROFESSIONAL GRADE Face Peel: this peel stimul...   Lee Posh   \n",
       "1  Item name: 1.5mm titanium 1200 needles microne...  SLB Works   \n",
       "2  Use: eye, item type: cream, net wt: 20g, gzzz:...    Generic   \n",
       "3  Prevent the tongue from dropping backward or b...    Generic   \n",
       "4     Harvey's wafer Cream Wafer 110g. Made in India    Harveys   \n",
       "\n",
       "  Pack Size Or Quantity      Mrp    Price  Site Name  Offers Combo Offers  \\\n",
       "0                   NaN  2000.00   799.00  Amazon In  60.05%          NaN   \n",
       "1                   NaN  2040.00  2040.00  Amazon In      0%          NaN   \n",
       "2                   NaN  1824.00  1042.00  Amazon In  42.87%          NaN   \n",
       "3                   NaN  2185.00  1399.00  Amazon In  35.97%          NaN   \n",
       "4                   NaN   594.00   570.00  Amazon In   4.04%          NaN   \n",
       "\n",
       "  Stock Availibility Product Asin  \\\n",
       "0                YES   B072BGHNJ1   \n",
       "1                YES   B07QDTZYSJ   \n",
       "2                YES   B07DCSN8MP   \n",
       "3                YES   B07GLW9VQN   \n",
       "4                YES   B07NFYYLF1   \n",
       "\n",
       "                                          Image Urls  \n",
       "0  https://images-na.ssl-images-amazon.com/images...  \n",
       "1  https://images-na.ssl-images-amazon.com/images...  \n",
       "2  https://images-na.ssl-images-amazon.com/images...  \n",
       "3  https://images-na.ssl-images-amazon.com/images...  \n",
       "4  https://images-na.ssl-images-amazon.com/images...  "
      ]
     },
     "execution_count": 3,
     "metadata": {},
     "output_type": "execute_result"
    }
   ],
   "source": [
    "df = pd.read_csv('data.csv')\n",
    "df.head()"
   ]
  },
  {
   "cell_type": "markdown",
   "id": "d342c7b6",
   "metadata": {},
   "source": [
    "### Dữ liệu có bao nhiêu dòng và cột?"
   ]
  },
  {
   "cell_type": "code",
   "execution_count": 4,
   "id": "c5e9c5cd",
   "metadata": {},
   "outputs": [
    {
     "data": {
      "text/plain": [
       "(30000, 15)"
      ]
     },
     "execution_count": 4,
     "metadata": {},
     "output_type": "execute_result"
    }
   ],
   "source": [
    "num_rows = len(df)\n",
    "num_cols = len(df.columns)\n",
    "num_rows, num_cols"
   ]
  },
  {
   "cell_type": "markdown",
   "id": "764a3545",
   "metadata": {},
   "source": [
    "### Ý nghĩa của mỗi dòng. Có vấn đề các dòng có ý nghĩa khác nhau không?"
   ]
  },
  {
   "cell_type": "markdown",
   "id": "38354fbf",
   "metadata": {},
   "source": []
  },
  {
   "cell_type": "markdown",
   "id": "85f46c6c",
   "metadata": {},
   "source": [
    "### Dữ liệu có các dòng bị lặp không?"
   ]
  },
  {
   "cell_type": "code",
   "execution_count": 5,
   "id": "040d352b",
   "metadata": {},
   "outputs": [
    {
     "data": {
      "text/plain": [
       "False"
      ]
     },
     "execution_count": 5,
     "metadata": {},
     "output_type": "execute_result"
    }
   ],
   "source": [
    "have_duplicated_rows = df.duplicated().any()\n",
    "have_duplicated_rows"
   ]
  },
  {
   "cell_type": "markdown",
   "id": "91fa1529",
   "metadata": {},
   "source": [
    "### Ý nghĩa của mỗi cột"
   ]
  },
  {
   "cell_type": "markdown",
   "id": "cf3e4a39",
   "metadata": {},
   "source": []
  },
  {
   "cell_type": "markdown",
   "id": "1f05102b",
   "metadata": {},
   "source": [
    "### Mỗi cột có kiểu dữ liệu gì? Có cột nào có kiểu dữ liệu chưa phù hợp để có thể xử lý tiếp không?"
   ]
  },
  {
   "cell_type": "markdown",
   "id": "d8b37dd5",
   "metadata": {},
   "source": [
    "Lấy `dtype` (kiểu dữ liệu của mỗi phần tử) của mỗi cột trong `df` và lưu kết quả vào series `col_dtypes`; series này có index là tên cột. \n"
   ]
  },
  {
   "cell_type": "code",
   "execution_count": 6,
   "id": "f1e9bb98",
   "metadata": {},
   "outputs": [
    {
     "data": {
      "text/plain": [
       "Uniq Id                  object\n",
       "Crawl Timestamp          object\n",
       "Category                 object\n",
       "Product Title            object\n",
       "Product Description      object\n",
       "Brand                    object\n",
       "Pack Size Or Quantity    object\n",
       "Mrp                      object\n",
       "Price                    object\n",
       "Site Name                object\n",
       "Offers                   object\n",
       "Combo Offers             object\n",
       "Stock Availibility       object\n",
       "Product Asin             object\n",
       "Image Urls               object\n",
       "dtype: object"
      ]
     },
     "execution_count": 6,
     "metadata": {},
     "output_type": "execute_result"
    }
   ],
   "source": [
    "col_type = dict(df.dtypes)\n",
    "col_dtypes=pd.Series(col_type)\n",
    "col_dtypes"
   ]
  },
  {
   "cell_type": "markdown",
   "id": "584b8d9a",
   "metadata": {},
   "source": [
    "### Cột có dtype là object nghĩa là sao?"
   ]
  },
  {
   "cell_type": "markdown",
   "id": "b04587e2",
   "metadata": {},
   "source": [
    "Ta cần biết tập các kiểu dữ liệu thật sự có trong mỗi cột để dễ dàng tiền xử lý"
   ]
  },
  {
   "cell_type": "code",
   "execution_count": 7,
   "id": "d005ca07",
   "metadata": {},
   "outputs": [
    {
     "name": "stdout",
     "output_type": "stream",
     "text": [
      "Uniq Id {<class 'str'>}\n",
      "Crawl Timestamp {<class 'str'>}\n",
      "Category {<class 'str'>}\n",
      "Product Title {<class 'str'>}\n",
      "Product Description {<class 'str'>, <class 'float'>}\n",
      "Brand {<class 'str'>, <class 'float'>}\n",
      "Pack Size Or Quantity {<class 'str'>, <class 'float'>}\n",
      "Mrp {<class 'str'>, <class 'float'>}\n",
      "Price {<class 'str'>, <class 'float'>}\n",
      "Site Name {<class 'str'>}\n",
      "Offers {<class 'str'>, <class 'float'>}\n",
      "Combo Offers {<class 'str'>, <class 'float'>}\n",
      "Stock Availibility {<class 'str'>}\n",
      "Product Asin {<class 'str'>}\n",
      "Image Urls {<class 'str'>}\n"
     ]
    }
   ],
   "source": [
    "def object_type(value):\n",
    "    return type(value)\n",
    "def open_object_dtype(s):\n",
    "    dtypes = set(s.apply(object_type))    \n",
    "    return dtypes\n",
    "\n",
    "print('Uniq Id',open_object_dtype(df['Uniq Id']))\n",
    "print('Crawl Timestamp',open_object_dtype(df['Crawl Timestamp']))\n",
    "print('Category',open_object_dtype(df['Category']))\n",
    "print('Product Title',open_object_dtype(df['Product Title']))\n",
    "print('Product Description',open_object_dtype(df['Product Description']))\n",
    "print('Brand',open_object_dtype(df['Brand']))\n",
    "print('Pack Size Or Quantity',open_object_dtype(df['Pack Size Or Quantity']))\n",
    "print('Mrp',open_object_dtype(df['Mrp']))\n",
    "print('Price',open_object_dtype(df['Price']))\n",
    "print('Site Name',open_object_dtype(df['Site Name']))\n",
    "print('Offers',open_object_dtype(df['Offers']))\n",
    "print('Combo Offers',open_object_dtype(df['Combo Offers']))\n",
    "print('Stock Availibility',open_object_dtype(df['Stock Availibility']))\n",
    "print('Product Asin',open_object_dtype(df['Product Asin']))\n",
    "print('Image Urls',open_object_dtype(df['Image Urls']))"
   ]
  },
  {
   "cell_type": "markdown",
   "id": "8b71c2af",
   "metadata": {},
   "source": [
    "## Tiền xử lý (nếu cần)"
   ]
  },
  {
   "cell_type": "markdown",
   "id": "24c5ccb4",
   "metadata": {},
   "source": [
    "Ta sẽ tiền xử lý các cột `Crawl Timestamp`,`Mrp`, `Price`, `Offers`"
   ]
  },
  {
   "cell_type": "markdown",
   "id": "57989a00",
   "metadata": {},
   "source": [
    "### Chuyển dtype của cột \"Crawl Timestamp\" sang datetime "
   ]
  },
  {
   "cell_type": "code",
   "execution_count": 8,
   "id": "73d01cea",
   "metadata": {},
   "outputs": [
    {
     "data": {
      "text/plain": [
       "0       2019-10-30 11:38:11+00:00\n",
       "1       2019-10-31 15:46:54+00:00\n",
       "2       2019-10-30 09:53:23+00:00\n",
       "3       2019-10-29 16:16:52+00:00\n",
       "4       2019-10-31 09:32:06+00:00\n",
       "                   ...           \n",
       "29995   2019-10-31 06:29:39+00:00\n",
       "29996   2019-10-30 04:10:36+00:00\n",
       "29997   2019-10-30 22:54:39+00:00\n",
       "29998   2019-10-31 08:20:12+00:00\n",
       "29999   2019-10-30 07:54:05+00:00\n",
       "Name: Crawl Timestamp, Length: 30000, dtype: datetime64[ns, UTC]"
      ]
     },
     "execution_count": 8,
     "metadata": {},
     "output_type": "execute_result"
    }
   ],
   "source": [
    "df['Crawl Timestamp'] = pd.to_datetime(df['Crawl Timestamp'],format = \"%Y-%m-%d %H:%M:%S\")\n",
    "df['Crawl Timestamp']"
   ]
  },
  {
   "cell_type": "markdown",
   "id": "c2066408",
   "metadata": {},
   "source": [
    "### Chuyển dtype của cột \"Offers\" sang float"
   ]
  },
  {
   "cell_type": "markdown",
   "id": "92d838b5",
   "metadata": {},
   "source": [
    "Cột `Offers`có dtype gồm 2 loại là `str` và `float`. `float` là ứng với NaN, còn `str` thì ứng với các giá trị `%`. Vì vậy ta thực hiện ép kiểu cho NaN từ `float` sang `str`, sau đó ta thực hiện cắt bỏ ký tự `%` phía sau mỗi chuỗi, ép kiểu về `float` và chia cho 100"
   ]
  },
  {
   "cell_type": "code",
   "execution_count": 9,
   "id": "40d53f82",
   "metadata": {},
   "outputs": [
    {
     "data": {
      "text/plain": [
       "0        0.6005\n",
       "1        0.0000\n",
       "2        0.4287\n",
       "3        0.3597\n",
       "4        0.0404\n",
       "          ...  \n",
       "29995    0.1004\n",
       "29996    0.0000\n",
       "29997    0.0000\n",
       "29998    0.0000\n",
       "29999    0.0000\n",
       "Name: Offers, Length: 30000, dtype: float64"
      ]
     },
     "execution_count": 9,
     "metadata": {},
     "output_type": "execute_result"
    }
   ],
   "source": [
    "def p2f(x):\n",
    "    if(type(x) == float):\n",
    "        x= str(x)\n",
    "    return float(x.strip('%'))/100\n",
    "df['Offers'] = df['Offers'].apply(p2f)\n",
    "df['Offers']"
   ]
  },
  {
   "cell_type": "markdown",
   "id": "2756d14b",
   "metadata": {},
   "source": [
    "### Chuyển dtype của cột \"Mrp\" và \"Price\" sang float"
   ]
  },
  {
   "cell_type": "markdown",
   "id": "7606b6ec",
   "metadata": {},
   "source": [
    "- Cột `Mrp` có dtype gồm 2 loại là `str` và `float`. `float` là ứng với NaN, còn `str` thì ứng với chuỗi (dạng số)\n",
    "\n",
    "- Kiểm tra cột `Mrp`có giá trị có dấu `.` ở đầu chuỗi ví dụ `.250.00`, điều này gây khó khăn trong việc ép kiểu dữ liệu từ `str` sang `float`. Để xử lý điều này, ta sẽ sử dụng hàm `lstrip` \n",
    "- Xử lý xong ta cũng chưa thể chuyển kiểu dữ liệu ngay được vì trong các cột này có giá trị là \" \" (chuỗi có một khoảng trắng). Vậy thì trước khi chuyển, ta sẽ replace các giá trị \" \" bằng NaN. \n",
    "- Cột `Price` cũng giống như cột `Mrp` nên ta xử lý tương tự "
   ]
  },
  {
   "cell_type": "code",
   "execution_count": 10,
   "id": "5cb42126",
   "metadata": {},
   "outputs": [],
   "source": [
    "def fixing(x):\n",
    "    if(type(x) == str):\n",
    "        return x.lstrip('.')\n",
    "#Mrp        \n",
    "df['Mrp'] = df['Mrp'].apply(fixing)\n",
    "df['Mrp'] = df['Mrp'].replace(r'^\\s*$', np.nan, regex=True)\n",
    "df['Mrp'] = pd.to_numeric(df['Mrp'])\n",
    "##Price\n",
    "df['Price'] = df['Price'].apply(fixing)\n",
    "df['Price'] = df['Price'].replace(r'^\\s*$', np.nan, regex=True)\n",
    "df['Price'] = pd.to_numeric(df['Price'])"
   ]
  },
  {
   "cell_type": "code",
   "execution_count": 11,
   "id": "99814c57",
   "metadata": {},
   "outputs": [
    {
     "data": {
      "text/plain": [
       "0       NaN\n",
       "1       NaN\n",
       "2       NaN\n",
       "3       NaN\n",
       "4       NaN\n",
       "         ..\n",
       "29995   NaN\n",
       "29996   NaN\n",
       "29997   NaN\n",
       "29998   NaN\n",
       "29999   NaN\n",
       "Name: Pack Size Or Quantity, Length: 30000, dtype: float64"
      ]
     },
     "execution_count": 11,
     "metadata": {},
     "output_type": "execute_result"
    }
   ],
   "source": [
    "def change_unit(x):\n",
    "    if(type(x) == str):\n",
    "        try:\n",
    "            num = float(re.findall('\\d+', x)[0])\n",
    "        except:\n",
    "            return np.nan\n",
    "        if('K' in x):\n",
    "            num = num * 1000\n",
    "        return num\n",
    "df['Pack Size Or Quantity'] = df['Pack Size Or Quantity'].replace(r'^\\s*$', np.nan, regex=True)\n",
    "df['Pack Size Or Quantity'] = df['Pack Size Or Quantity'].apply(change_unit)\n",
    "\n",
    "df['Pack Size Or Quantity']\n"
   ]
  },
  {
   "cell_type": "markdown",
   "id": "2f3d8572",
   "metadata": {},
   "source": [
    "## Khám phá dữ liệu (tiếp tục)"
   ]
  },
  {
   "cell_type": "markdown",
   "id": "ef69bdc6",
   "metadata": {},
   "source": [
    "### Với mỗi cột numeric, các giá trị được phân phối như thế nào?"
   ]
  },
  {
   "cell_type": "markdown",
   "id": "82be5a24",
   "metadata": {},
   "source": [
    "Ta có 6 cột numeric: `Crawl Timestamp`,`Pack Size Or Quantity`,`Mrp`, `Price`, `Offers`,`Combo Offers`\n",
    "\n",
    "Với mỗi cột numeric bạn sẽ tính tỉ lệ % giá trị thiếu (từ 0 đến 100), min, max. Bạn lưu kết quả vào dataframe nume_col_profiles_df. Dataframe này có 3 dòng là \"missing_ratio\", \"min\", \"max\"; và có 6 cột là `Crawl Timestamp`,`Pack Size Or Quantity`,`Mrp`, `Price`, `Offers`,`Combo Offers`"
   ]
  },
  {
   "cell_type": "code",
   "execution_count": 12,
   "id": "b46fba50",
   "metadata": {},
   "outputs": [
    {
     "data": {
      "text/html": [
       "<div>\n",
       "<style scoped>\n",
       "    .dataframe tbody tr th:only-of-type {\n",
       "        vertical-align: middle;\n",
       "    }\n",
       "\n",
       "    .dataframe tbody tr th {\n",
       "        vertical-align: top;\n",
       "    }\n",
       "\n",
       "    .dataframe thead th {\n",
       "        text-align: right;\n",
       "    }\n",
       "</style>\n",
       "<table border=\"1\" class=\"dataframe\">\n",
       "  <thead>\n",
       "    <tr style=\"text-align: right;\">\n",
       "      <th></th>\n",
       "      <th>Crawl Timestamp</th>\n",
       "      <th>Pack Size Or Quantity</th>\n",
       "      <th>Mrp</th>\n",
       "      <th>Price</th>\n",
       "      <th>Offers</th>\n",
       "    </tr>\n",
       "  </thead>\n",
       "  <tbody>\n",
       "    <tr>\n",
       "      <th>missing_ratio</th>\n",
       "      <td>0.0</td>\n",
       "      <td>65.926667</td>\n",
       "      <td>2.33</td>\n",
       "      <td>2.0</td>\n",
       "      <td>1.553333</td>\n",
       "    </tr>\n",
       "    <tr>\n",
       "      <th>min</th>\n",
       "      <td>2019-10-28 14:30:19+00:00</td>\n",
       "      <td>4.000000</td>\n",
       "      <td>12.00</td>\n",
       "      <td>12.0</td>\n",
       "      <td>0.000000</td>\n",
       "    </tr>\n",
       "    <tr>\n",
       "      <th>max</th>\n",
       "      <td>2019-10-31 19:13:19+00:00</td>\n",
       "      <td>650000.000000</td>\n",
       "      <td>80000.00</td>\n",
       "      <td>21990.0</td>\n",
       "      <td>0.972400</td>\n",
       "    </tr>\n",
       "  </tbody>\n",
       "</table>\n",
       "</div>"
      ],
      "text/plain": [
       "                         Crawl Timestamp  Pack Size Or Quantity       Mrp  \\\n",
       "missing_ratio                        0.0              65.926667      2.33   \n",
       "min            2019-10-28 14:30:19+00:00               4.000000     12.00   \n",
       "max            2019-10-31 19:13:19+00:00          650000.000000  80000.00   \n",
       "\n",
       "                 Price    Offers  \n",
       "missing_ratio      2.0  1.553333  \n",
       "min               12.0  0.000000  \n",
       "max            21990.0  0.972400  "
      ]
     },
     "execution_count": 12,
     "metadata": {},
     "output_type": "execute_result"
    }
   ],
   "source": [
    "nume_col_df = df[[\"Crawl Timestamp\",\"Pack Size Or Quantity\",\"Mrp\", \"Price\", \"Offers\"]]\n",
    "percent_missing = nume_col_df.isnull().sum() * 100 / len(nume_col_df)\n",
    "\n",
    "data = [list(percent_missing),list(nume_col_df.min()),list(nume_col_df.max())]\n",
    "\n",
    "nume_col_profiles_df = pd.DataFrame(data,columns = nume_col_df.columns,index = [\"missing_ratio\", \"min\", \"max\"])\n",
    "nume_col_profiles_df"
   ]
  },
  {
   "cell_type": "markdown",
   "id": "85aa1dad",
   "metadata": {},
   "source": [
    "### Nhận xét về \"missing_ratio\", \"min\", \"max\" của các cột numeric"
   ]
  },
  {
   "cell_type": "markdown",
   "id": "43a516e2",
   "metadata": {},
   "source": []
  },
  {
   "cell_type": "markdown",
   "id": "ec1413f1",
   "metadata": {},
   "source": [
    "### Với mỗi cột categorical, các giá trị được phân phối như thế nào?"
   ]
  },
  {
   "cell_type": "markdown",
   "id": "0e944f40",
   "metadata": {},
   "source": [
    "Ta có 11 cột categorical: 'Uniq Id','Product Title',\n",
    "       'Product Description', 'Brand', 'Pack Size Or Quantity', 'Mrp', 'Price',\n",
    "       'Site Name', 'Offers', 'Combo Offers', 'Stock Availibility',\n",
    "       'Product Asin', 'Image Urls'\n",
    "\n",
    "Với mỗi cột categorical, bạn tính tỉ lệ % giá trị thiếu (từ 0 đến 100), số lượng giá trị khác nhau (không xét giá trị thiếu), list/array các giá trị khác nhau (không xét giá trị thiếu). Bạn lưu kết quả vào dataframe cate_col_profiles_df. Dataframe này có 3 dòng là \"missing_ratio\", \"num_diff_vals\", \"diff_vals\"; và có n cột là (n là số lượng cột categorical)"
   ]
  },
  {
   "cell_type": "code",
   "execution_count": 13,
   "id": "f0376ca0",
   "metadata": {},
   "outputs": [
    {
     "data": {
      "text/html": [
       "<div>\n",
       "<style scoped>\n",
       "    .dataframe tbody tr th:only-of-type {\n",
       "        vertical-align: middle;\n",
       "    }\n",
       "\n",
       "    .dataframe tbody tr th {\n",
       "        vertical-align: top;\n",
       "    }\n",
       "\n",
       "    .dataframe thead th {\n",
       "        text-align: right;\n",
       "    }\n",
       "</style>\n",
       "<table border=\"1\" class=\"dataframe\">\n",
       "  <thead>\n",
       "    <tr style=\"text-align: right;\">\n",
       "      <th></th>\n",
       "      <th>Uniq Id</th>\n",
       "      <th>Category</th>\n",
       "      <th>Product Title</th>\n",
       "      <th>Product Description</th>\n",
       "      <th>Brand</th>\n",
       "      <th>Site Name</th>\n",
       "      <th>Combo Offers</th>\n",
       "      <th>Stock Availibility</th>\n",
       "      <th>Product Asin</th>\n",
       "      <th>Image Urls</th>\n",
       "    </tr>\n",
       "  </thead>\n",
       "  <tbody>\n",
       "    <tr>\n",
       "      <th>missing_ratio</th>\n",
       "      <td>0.0</td>\n",
       "      <td>0.0</td>\n",
       "      <td>0.0</td>\n",
       "      <td>6.633333</td>\n",
       "      <td>0.29</td>\n",
       "      <td>0.0</td>\n",
       "      <td>99.876667</td>\n",
       "      <td>0.0</td>\n",
       "      <td>0.0</td>\n",
       "      <td>0.0</td>\n",
       "    </tr>\n",
       "    <tr>\n",
       "      <th>num_diff_vals</th>\n",
       "      <td>30000</td>\n",
       "      <td>6</td>\n",
       "      <td>29630</td>\n",
       "      <td>22584</td>\n",
       "      <td>8454</td>\n",
       "      <td>1</td>\n",
       "      <td>36</td>\n",
       "      <td>2</td>\n",
       "      <td>30000</td>\n",
       "      <td>29578</td>\n",
       "    </tr>\n",
       "    <tr>\n",
       "      <th>diff_vals</th>\n",
       "      <td>[eb49cc038190f6f03c272f79fbbce894, 1657cc30c43...</td>\n",
       "      <td>[Skin Care, Grocery &amp; Gourmet Foods, Bath &amp; Sh...</td>\n",
       "      <td>[ Lee posh Lactic Acid 60% Anti ageing Pigment...</td>\n",
       "      <td>[PROFESSIONAL GRADE Face Peel: this peel stimu...</td>\n",
       "      <td>[Lee Posh, SLB Works, Generic, Harveys, ShiKai...</td>\n",
       "      <td>[Amazon In]</td>\n",
       "      <td>[ Myoc Neem Face Wash: Buy 2 Neem face Wash 10...</td>\n",
       "      <td>[YES, NO]</td>\n",
       "      <td>[B072BGHNJ1, B07QDTZYSJ, B07DCSN8MP, B07GLW9VQ...</td>\n",
       "      <td>[https://images-na.ssl-images-amazon.com/image...</td>\n",
       "    </tr>\n",
       "  </tbody>\n",
       "</table>\n",
       "</div>"
      ],
      "text/plain": [
       "                                                         Uniq Id  \\\n",
       "missing_ratio                                                0.0   \n",
       "num_diff_vals                                              30000   \n",
       "diff_vals      [eb49cc038190f6f03c272f79fbbce894, 1657cc30c43...   \n",
       "\n",
       "                                                        Category  \\\n",
       "missing_ratio                                                0.0   \n",
       "num_diff_vals                                                  6   \n",
       "diff_vals      [Skin Care, Grocery & Gourmet Foods, Bath & Sh...   \n",
       "\n",
       "                                                   Product Title  \\\n",
       "missing_ratio                                                0.0   \n",
       "num_diff_vals                                              29630   \n",
       "diff_vals      [ Lee posh Lactic Acid 60% Anti ageing Pigment...   \n",
       "\n",
       "                                             Product Description  \\\n",
       "missing_ratio                                           6.633333   \n",
       "num_diff_vals                                              22584   \n",
       "diff_vals      [PROFESSIONAL GRADE Face Peel: this peel stimu...   \n",
       "\n",
       "                                                           Brand    Site Name  \\\n",
       "missing_ratio                                               0.29          0.0   \n",
       "num_diff_vals                                               8454            1   \n",
       "diff_vals      [Lee Posh, SLB Works, Generic, Harveys, ShiKai...  [Amazon In]   \n",
       "\n",
       "                                                    Combo Offers  \\\n",
       "missing_ratio                                          99.876667   \n",
       "num_diff_vals                                                 36   \n",
       "diff_vals      [ Myoc Neem Face Wash: Buy 2 Neem face Wash 10...   \n",
       "\n",
       "              Stock Availibility  \\\n",
       "missing_ratio                0.0   \n",
       "num_diff_vals                  2   \n",
       "diff_vals              [YES, NO]   \n",
       "\n",
       "                                                    Product Asin  \\\n",
       "missing_ratio                                                0.0   \n",
       "num_diff_vals                                              30000   \n",
       "diff_vals      [B072BGHNJ1, B07QDTZYSJ, B07DCSN8MP, B07GLW9VQ...   \n",
       "\n",
       "                                                      Image Urls  \n",
       "missing_ratio                                                0.0  \n",
       "num_diff_vals                                              29578  \n",
       "diff_vals      [https://images-na.ssl-images-amazon.com/image...  "
      ]
     },
     "execution_count": 13,
     "metadata": {},
     "output_type": "execute_result"
    }
   ],
   "source": [
    "cate_col_df = df[['Uniq Id','Category', 'Product Title',\n",
    "       'Product Description', 'Brand','Site Name', 'Combo Offers', 'Stock Availibility',\n",
    "       'Product Asin', 'Image Urls']]\n",
    "percent_missing = cate_col_df.isnull().sum() * 100 / len(cate_col_df)\n",
    "data = [list(percent_missing),\n",
    "        list(cate_col_df.nunique(axis=0)),\n",
    "       [cate_col_df[\"Uniq Id\"].dropna().unique(),\n",
    "        cate_col_df[\"Category\"].dropna().unique(),\n",
    "        cate_col_df[\"Product Title\"].dropna().unique(),\n",
    "        cate_col_df[\"Product Description\"].dropna().unique(),\n",
    "       cate_col_df[\"Brand\"].dropna().unique(),\n",
    "       cate_col_df[\"Site Name\"].dropna().unique(),\n",
    "       cate_col_df[\"Combo Offers\"].dropna().unique(),\n",
    "       cate_col_df[\"Stock Availibility\"].dropna().unique(),\n",
    "       cate_col_df[\"Product Asin\"].dropna().unique(),\n",
    "       cate_col_df[\"Image Urls\"].dropna().unique()]]\n",
    "\n",
    "\n",
    "cate_col_profiles_df = pd.DataFrame(data,\n",
    "                                    columns = cate_col_df.columns,\n",
    "                                    index = [\"missing_ratio\", \"num_diff_vals\", \"diff_vals\"])\n",
    "cate_col_profiles_df"
   ]
  },
  {
   "cell_type": "markdown",
   "id": "ba12f46a",
   "metadata": {},
   "source": [
    "### Nhận xét về \"missing_ratio\", \"num_diff_vals\", \"diff_vals\" của các cột categorical"
   ]
  },
  {
   "cell_type": "markdown",
   "id": "055d1ca5",
   "metadata": {},
   "source": []
  },
  {
   "cell_type": "markdown",
   "id": "033dfcff",
   "metadata": {},
   "source": [
    "## Đưa ra câu hỏi có ý nghĩa cần trả lời"
   ]
  },
  {
   "cell_type": "code",
   "execution_count": null,
   "id": "6f94519d",
   "metadata": {},
   "outputs": [],
   "source": []
  },
  {
   "cell_type": "markdown",
   "id": "d725cf6e",
   "metadata": {},
   "source": [
    "## Tiền xử lý (nếu cần) + phân tích dữ liệu để trả lời cho câu hỏi 1"
   ]
  },
  {
   "cell_type": "code",
   "execution_count": null,
   "id": "efccb591",
   "metadata": {},
   "outputs": [],
   "source": []
  },
  {
   "cell_type": "markdown",
   "id": "03a26399",
   "metadata": {},
   "source": [
    "## Tiền xử lý (nếu cần) + phân tích dữ liệu để trả lời cho câu hỏi 2"
   ]
  },
  {
   "cell_type": "code",
   "execution_count": null,
   "id": "84ff09d5",
   "metadata": {},
   "outputs": [],
   "source": []
  }
 ],
 "metadata": {
  "kernelspec": {
   "display_name": "Python 3 (ipykernel)",
   "language": "python",
   "name": "python3"
  },
  "language_info": {
   "codemirror_mode": {
    "name": "ipython",
    "version": 3
   },
   "file_extension": ".py",
   "mimetype": "text/x-python",
   "name": "python",
   "nbconvert_exporter": "python",
   "pygments_lexer": "ipython3",
   "version": "3.8.8"
  }
 },
 "nbformat": 4,
 "nbformat_minor": 5
}
