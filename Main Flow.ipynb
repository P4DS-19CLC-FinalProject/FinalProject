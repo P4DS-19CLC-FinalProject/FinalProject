{
 "cells": [
  {
   "cell_type": "markdown",
   "metadata": {},
   "source": [
    "# Đồ Án Cuối Kỳ"
   ]
  },
  {
   "cell_type": "markdown",
   "metadata": {},
   "source": [
    "## Môi trường code"
   ]
  },
  {
   "cell_type": "code",
   "execution_count": 1,
   "metadata": {},
   "outputs": [
    {
     "data": {
      "text/plain": [
       "'/home/nson/anaconda3/bin/python'"
      ]
     },
     "execution_count": 1,
     "metadata": {},
     "output_type": "execute_result"
    }
   ],
   "source": [
    "import sys\n",
    "sys.executable"
   ]
  },
  {
   "cell_type": "markdown",
   "metadata": {},
   "source": [
    "## Import các thư viện cần thiết"
   ]
  },
  {
   "cell_type": "code",
   "execution_count": 2,
   "metadata": {},
   "outputs": [],
   "source": [
    "import pandas as pd\n",
    "import numpy as np\n",
    "import re\n",
    "import operator"
   ]
  },
  {
   "cell_type": "markdown",
   "metadata": {},
   "source": [
    "## Thu thập dữ liệu"
   ]
  },
  {
   "cell_type": "markdown",
   "metadata": {},
   "source": [
    "Trong bài này, tụi em sẽ dùng dữ liệu đã được thu thập sẵn là file \"data.csv\" đính kèm; đây là dữ liệu về sản phẩm được bán ở website Amazon . Dữ liệu này được lấy trên Kaggle [ở đây](https://www.kaggle.com/promptcloud/product-listing-from-amazon-india?fbclid=IwAR35mYSniLTkn1ZedNxc_m9UNbuIksUAjAfpTRp9ystlxaZZVOMZIkFNKiI)."
   ]
  },
  {
   "cell_type": "markdown",
   "metadata": {},
   "source": [
    "## Khám phá dữ liệu"
   ]
  },
  {
   "cell_type": "markdown",
   "metadata": {},
   "source": [
    "## Đọc dữ liệu từ file csv"
   ]
  },
  {
   "cell_type": "code",
   "execution_count": 3,
   "metadata": {},
   "outputs": [
    {
     "data": {
      "text/html": [
       "<div>\n",
       "<style scoped>\n",
       "    .dataframe tbody tr th:only-of-type {\n",
       "        vertical-align: middle;\n",
       "    }\n",
       "\n",
       "    .dataframe tbody tr th {\n",
       "        vertical-align: top;\n",
       "    }\n",
       "\n",
       "    .dataframe thead th {\n",
       "        text-align: right;\n",
       "    }\n",
       "</style>\n",
       "<table border=\"1\" class=\"dataframe\">\n",
       "  <thead>\n",
       "    <tr style=\"text-align: right;\">\n",
       "      <th></th>\n",
       "      <th>Uniq Id</th>\n",
       "      <th>Crawl Timestamp</th>\n",
       "      <th>Category</th>\n",
       "      <th>Product Title</th>\n",
       "      <th>Product Description</th>\n",
       "      <th>Brand</th>\n",
       "      <th>Pack Size Or Quantity</th>\n",
       "      <th>Mrp</th>\n",
       "      <th>Price</th>\n",
       "      <th>Site Name</th>\n",
       "      <th>Offers</th>\n",
       "      <th>Combo Offers</th>\n",
       "      <th>Stock Availibility</th>\n",
       "      <th>Product Asin</th>\n",
       "      <th>Image Urls</th>\n",
       "    </tr>\n",
       "  </thead>\n",
       "  <tbody>\n",
       "    <tr>\n",
       "      <th>0</th>\n",
       "      <td>eb49cc038190f6f03c272f79fbbce894</td>\n",
       "      <td>2019-10-30 11:38:11 +0000</td>\n",
       "      <td>Skin Care</td>\n",
       "      <td>Lee posh Lactic Acid 60% Anti ageing Pigmenta...</td>\n",
       "      <td>PROFESSIONAL GRADE Face Peel: this peel stimul...</td>\n",
       "      <td>Lee Posh</td>\n",
       "      <td>NaN</td>\n",
       "      <td>2000.00</td>\n",
       "      <td>799.00</td>\n",
       "      <td>Amazon In</td>\n",
       "      <td>60.05%</td>\n",
       "      <td>NaN</td>\n",
       "      <td>YES</td>\n",
       "      <td>B072BGHNJ1</td>\n",
       "      <td>https://images-na.ssl-images-amazon.com/images...</td>\n",
       "    </tr>\n",
       "    <tr>\n",
       "      <th>1</th>\n",
       "      <td>1657cc30c438affede6a5060d6847363</td>\n",
       "      <td>2019-10-31 15:46:54 +0000</td>\n",
       "      <td>Skin Care</td>\n",
       "      <td>Branded SLB Works New 1.5mm Titanium 1200 nee...</td>\n",
       "      <td>Item name: 1.5mm titanium 1200 needles microne...</td>\n",
       "      <td>SLB Works</td>\n",
       "      <td>NaN</td>\n",
       "      <td>2040.00</td>\n",
       "      <td>2040.00</td>\n",
       "      <td>Amazon In</td>\n",
       "      <td>0%</td>\n",
       "      <td>NaN</td>\n",
       "      <td>YES</td>\n",
       "      <td>B07QDTZYSJ</td>\n",
       "      <td>https://images-na.ssl-images-amazon.com/images...</td>\n",
       "    </tr>\n",
       "    <tr>\n",
       "      <th>2</th>\n",
       "      <td>41654633cce38c8650690f6dbac01fd3</td>\n",
       "      <td>2019-10-30 09:53:23 +0000</td>\n",
       "      <td>Skin Care</td>\n",
       "      <td>Generic 1 Pc brand snail eye cream remove dar...</td>\n",
       "      <td>Use: eye, item type: cream, net wt: 20g, gzzz:...</td>\n",
       "      <td>Generic</td>\n",
       "      <td>NaN</td>\n",
       "      <td>1824.00</td>\n",
       "      <td>1042.00</td>\n",
       "      <td>Amazon In</td>\n",
       "      <td>42.87%</td>\n",
       "      <td>NaN</td>\n",
       "      <td>YES</td>\n",
       "      <td>B07DCSN8MP</td>\n",
       "      <td>https://images-na.ssl-images-amazon.com/images...</td>\n",
       "    </tr>\n",
       "    <tr>\n",
       "      <th>3</th>\n",
       "      <td>08b1bd85c3efc2d7aa556fd79b073382</td>\n",
       "      <td>2019-10-29 16:16:52 +0000</td>\n",
       "      <td>Skin Care</td>\n",
       "      <td>Generic Anti Snoring Snore Stopper Sleep Apne...</td>\n",
       "      <td>Prevent the tongue from dropping backward or b...</td>\n",
       "      <td>Generic</td>\n",
       "      <td>NaN</td>\n",
       "      <td>2185.00</td>\n",
       "      <td>1399.00</td>\n",
       "      <td>Amazon In</td>\n",
       "      <td>35.97%</td>\n",
       "      <td>NaN</td>\n",
       "      <td>YES</td>\n",
       "      <td>B07GLW9VQN</td>\n",
       "      <td>https://images-na.ssl-images-amazon.com/images...</td>\n",
       "    </tr>\n",
       "    <tr>\n",
       "      <th>4</th>\n",
       "      <td>3ac3f213732512d1d11bb73ab3b1900f</td>\n",
       "      <td>2019-10-31 09:32:06 +0000</td>\n",
       "      <td>Grocery &amp; Gourmet Foods</td>\n",
       "      <td>Harveys Crunchy &amp; Creame Gourmet Delicacies C...</td>\n",
       "      <td>Harvey's wafer Cream Wafer 110g. Made in India</td>\n",
       "      <td>Harveys</td>\n",
       "      <td>NaN</td>\n",
       "      <td>594.00</td>\n",
       "      <td>570.00</td>\n",
       "      <td>Amazon In</td>\n",
       "      <td>4.04%</td>\n",
       "      <td>NaN</td>\n",
       "      <td>YES</td>\n",
       "      <td>B07NFYYLF1</td>\n",
       "      <td>https://images-na.ssl-images-amazon.com/images...</td>\n",
       "    </tr>\n",
       "  </tbody>\n",
       "</table>\n",
       "</div>"
      ],
      "text/plain": [
       "                            Uniq Id            Crawl Timestamp  \\\n",
       "0  eb49cc038190f6f03c272f79fbbce894  2019-10-30 11:38:11 +0000   \n",
       "1  1657cc30c438affede6a5060d6847363  2019-10-31 15:46:54 +0000   \n",
       "2  41654633cce38c8650690f6dbac01fd3  2019-10-30 09:53:23 +0000   \n",
       "3  08b1bd85c3efc2d7aa556fd79b073382  2019-10-29 16:16:52 +0000   \n",
       "4  3ac3f213732512d1d11bb73ab3b1900f  2019-10-31 09:32:06 +0000   \n",
       "\n",
       "                  Category                                      Product Title  \\\n",
       "0                Skin Care   Lee posh Lactic Acid 60% Anti ageing Pigmenta...   \n",
       "1                Skin Care   Branded SLB Works New 1.5mm Titanium 1200 nee...   \n",
       "2                Skin Care   Generic 1 Pc brand snail eye cream remove dar...   \n",
       "3                Skin Care   Generic Anti Snoring Snore Stopper Sleep Apne...   \n",
       "4  Grocery & Gourmet Foods   Harveys Crunchy & Creame Gourmet Delicacies C...   \n",
       "\n",
       "                                 Product Description      Brand  \\\n",
       "0  PROFESSIONAL GRADE Face Peel: this peel stimul...   Lee Posh   \n",
       "1  Item name: 1.5mm titanium 1200 needles microne...  SLB Works   \n",
       "2  Use: eye, item type: cream, net wt: 20g, gzzz:...    Generic   \n",
       "3  Prevent the tongue from dropping backward or b...    Generic   \n",
       "4     Harvey's wafer Cream Wafer 110g. Made in India    Harveys   \n",
       "\n",
       "  Pack Size Or Quantity      Mrp    Price  Site Name  Offers Combo Offers  \\\n",
       "0                   NaN  2000.00   799.00  Amazon In  60.05%          NaN   \n",
       "1                   NaN  2040.00  2040.00  Amazon In      0%          NaN   \n",
       "2                   NaN  1824.00  1042.00  Amazon In  42.87%          NaN   \n",
       "3                   NaN  2185.00  1399.00  Amazon In  35.97%          NaN   \n",
       "4                   NaN   594.00   570.00  Amazon In   4.04%          NaN   \n",
       "\n",
       "  Stock Availibility Product Asin  \\\n",
       "0                YES   B072BGHNJ1   \n",
       "1                YES   B07QDTZYSJ   \n",
       "2                YES   B07DCSN8MP   \n",
       "3                YES   B07GLW9VQN   \n",
       "4                YES   B07NFYYLF1   \n",
       "\n",
       "                                          Image Urls  \n",
       "0  https://images-na.ssl-images-amazon.com/images...  \n",
       "1  https://images-na.ssl-images-amazon.com/images...  \n",
       "2  https://images-na.ssl-images-amazon.com/images...  \n",
       "3  https://images-na.ssl-images-amazon.com/images...  \n",
       "4  https://images-na.ssl-images-amazon.com/images...  "
      ]
     },
     "execution_count": 3,
     "metadata": {},
     "output_type": "execute_result"
    }
   ],
   "source": [
    "product_df = pd.read_csv('data.csv')\n",
    "product_df.head()"
   ]
  },
  {
   "cell_type": "markdown",
   "metadata": {},
   "source": [
    "### Dữ liệu có bao nhiêu dòng và cột?"
   ]
  },
  {
   "cell_type": "code",
   "execution_count": 4,
   "metadata": {},
   "outputs": [
    {
     "data": {
      "text/plain": [
       "(30000, 15)"
      ]
     },
     "execution_count": 4,
     "metadata": {},
     "output_type": "execute_result"
    }
   ],
   "source": [
    "num_rows = len(product_df)\n",
    "num_cols = len(product_df.columns)\n",
    "num_rows, num_cols"
   ]
  },
  {
   "cell_type": "markdown",
   "metadata": {},
   "source": [
    "### Ý nghĩa của mỗi dòng. Có vấn đề các dòng có ý nghĩa khác nhau không?"
   ]
  },
  {
   "cell_type": "markdown",
   "metadata": {},
   "source": [
    "Theo mô tả dữ liệu của sản phẩm từ Web bán hàng Amazon và theo quan sát sơ bộ về dữ liệu thì một dòng cho biết thông tin của một sản phẩm. Có vẻ không có dòng nào bị \"lạc loài\"."
   ]
  },
  {
   "cell_type": "markdown",
   "metadata": {},
   "source": [
    "### Dữ liệu có các dòng bị lặp không?"
   ]
  },
  {
   "cell_type": "markdown",
   "metadata": {},
   "source": [
    "Sẽ kiểm tra vụ này và lưu kết quả vào biến `have_duplicated_rows`. Biến này sẽ có giá trị True nếu dữ liệu có các dòng bị lặp và có giá trị False nếu ngược."
   ]
  },
  {
   "cell_type": "code",
   "execution_count": 5,
   "metadata": {},
   "outputs": [
    {
     "name": "stdout",
     "output_type": "stream",
     "text": [
      "Không trùng lặp\n"
     ]
    }
   ],
   "source": [
    "have_duplicated_rows = product_df.duplicated().any()\n",
    "if have_duplicated_rows:\n",
    "    print('Có trùng lặp')\n",
    "else :\n",
    "    print ('Không trùng lặp')\n",
    "\n"
   ]
  },
  {
   "cell_type": "markdown",
   "metadata": {},
   "source": [
    "### Ý nghĩa của mỗi cột"
   ]
  },
  {
   "cell_type": "markdown",
   "metadata": {},
   "source": [
    "Dưới đây là phần mô tả dữ liệu từ từ Web bán hàng Amazon về các cột trong file \"data.csv\":\n",
    "- **Uniq Id**: a unique identifier for each product.\n",
    "- **Crawl Timestamp**: Data collection time for this product.\n",
    "- **Category**: Product category.\n",
    "- **Product Title**: where you list your product in an eCommerce store.\n",
    "- **Product Description**: Detailed description of the product\n",
    "- **Brand**: The brand that owns the Product.\n",
    "- **Pack Size Or Quantity**: Size and quantity of products available.\n",
    "- **Mrp**: Product prices according to the plans of the brands.\n",
    "- **Price**: Product prices after promotions of brands.\n",
    "- **Site Name**: the name of the website that is selling the product.\n",
    "- **Offers**: Percentage on offer\n",
    "- **Combo Offers**: Combo packages.\n",
    "- **Stock Availibility**: The product is available or not (if the product is available, it is YES, if it is not, it is NO) .\n",
    "- **Product Asin**: ASIN (Amazon Standard Identification Number) is one of the unique product identifiers used for managing the Amazon product catalog. In a technical sense, it's a 10-digit code made up of numbers and letters.\n",
    "- **Image Urls**: Link to the product's profile picture."
   ]
  },
  {
   "cell_type": "markdown",
   "metadata": {},
   "source": [
    "### Mỗi cột có kiểu dữ liệu gì? Có cột nào có kiểu dữ liệu chưa phù hợp để có thể xử lý tiếp không?"
   ]
  },
  {
   "cell_type": "markdown",
   "metadata": {},
   "source": [
    "Lấy `dtype` (kiểu dữ liệu của mỗi phần tử) của mỗi cột trong `product_df` và lưu kết quả vào series `col_dtypes`; series này có index là tên cột. \n"
   ]
  },
  {
   "cell_type": "code",
   "execution_count": 6,
   "metadata": {},
   "outputs": [
    {
     "data": {
      "text/plain": [
       "Uniq Id                  object\n",
       "Crawl Timestamp          object\n",
       "Category                 object\n",
       "Product Title            object\n",
       "Product Description      object\n",
       "Brand                    object\n",
       "Pack Size Or Quantity    object\n",
       "Mrp                      object\n",
       "Price                    object\n",
       "Site Name                object\n",
       "Offers                   object\n",
       "Combo Offers             object\n",
       "Stock Availibility       object\n",
       "Product Asin             object\n",
       "Image Urls               object\n",
       "dtype: object"
      ]
     },
     "execution_count": 6,
     "metadata": {},
     "output_type": "execute_result"
    }
   ],
   "source": [
    "col_dtypes = product_df.dtypes\n",
    "col_dtypes"
   ]
  },
  {
   "cell_type": "markdown",
   "metadata": {},
   "source": [
    "### Cột có dtype là object nghĩa là sao?"
   ]
  },
  {
   "cell_type": "markdown",
   "metadata": {},
   "source": [
    "`product_df` có 11 cột có `dtype` là `object`: \"Uniq Id\", \"Crawl Timestamp\", \"Category\", \"Product Title\", \"Brand\", \"Site Name\", \"Combo Offers\", \"Stock Availibility\", \"Product Asin\", \"Product Description\", \"Image Urls\". Trong Pandas, kiểu dữ liệu `object` thường ám chỉ chuỗi, nhưng thật ra kiểu dữ liệu `object` có thể chứa một đối tượng bất kỳ trong Python (vì thật ra ở bên dưới kiểu dữ liệu `object` chứa địa chỉ). Nếu một cột trong dataframe có `dtype` là `object` thì có thể các phần tử trong cột này sẽ có kiểu dữ liệu khác nhau; để biết được kiểu dữ liệu thật sự của các phần tử trong cột này thì ta phải truy xuất vào từng phần tử và dùng câu lệnh `type` để xem kiểu dữ liệu, ví dụ `type(s.iloc[i])` với `s` là một cột.\n",
    "\n",
    "Công việc là viết hàm nhận đầu vào là một cột `s` (series) có `dtype` là `object` và trả về tập các kiểu dữ liệu thật sự có trong cột này. Trong hàm này, bạn có thể dùng phương thức `apply` của series."
   ]
  },
  {
   "cell_type": "markdown",
   "metadata": {},
   "source": [
    "Ta cần biết tập các kiểu dữ liệu thật sự có trong mỗi cột để dễ dàng tiền xử lý"
   ]
  },
  {
   "cell_type": "code",
   "execution_count": 7,
   "metadata": {},
   "outputs": [
    {
     "name": "stdout",
     "output_type": "stream",
     "text": [
      "Uniq Id {<class 'str'>}\n",
      "Crawl Timestamp {<class 'str'>}\n",
      "Category {<class 'str'>}\n",
      "Product Title {<class 'str'>}\n",
      "Product Description {<class 'str'>, <class 'float'>}\n",
      "Brand {<class 'str'>, <class 'float'>}\n",
      "Pack Size Or Quantity {<class 'str'>, <class 'float'>}\n",
      "Mrp {<class 'str'>, <class 'float'>}\n",
      "Price {<class 'str'>, <class 'float'>}\n",
      "Site Name {<class 'str'>}\n",
      "Offers {<class 'str'>, <class 'float'>}\n",
      "Combo Offers {<class 'str'>, <class 'float'>}\n",
      "Stock Availibility {<class 'str'>}\n",
      "Product Asin {<class 'str'>}\n",
      "Image Urls {<class 'str'>}\n"
     ]
    }
   ],
   "source": [
    "def object_type(value):\n",
    "    return type(value)\n",
    "def open_object_dtype(s):\n",
    "    dtypes = set(s.apply(object_type))    \n",
    "    return dtypes\n",
    "\n",
    "print('Uniq Id',open_object_dtype(product_df['Uniq Id']))\n",
    "print('Crawl Timestamp',open_object_dtype(product_df['Crawl Timestamp']))\n",
    "print('Category',open_object_dtype(product_df['Category']))\n",
    "print('Product Title',open_object_dtype(product_df['Product Title']))\n",
    "print('Product Description',open_object_dtype(product_df['Product Description']))\n",
    "print('Brand',open_object_dtype(product_df['Brand']))\n",
    "print('Pack Size Or Quantity',open_object_dtype(product_df['Pack Size Or Quantity']))\n",
    "print('Mrp',open_object_dtype(product_df['Mrp']))\n",
    "print('Price',open_object_dtype(product_df['Price']))\n",
    "print('Site Name',open_object_dtype(product_df['Site Name']))\n",
    "print('Offers',open_object_dtype(product_df['Offers']))\n",
    "print('Combo Offers',open_object_dtype(product_df['Combo Offers']))\n",
    "print('Stock Availibility',open_object_dtype(product_df['Stock Availibility']))\n",
    "print('Product Asin',open_object_dtype(product_df['Product Asin']))\n",
    "print('Image Urls',open_object_dtype(product_df['Image Urls']))"
   ]
  },
  {
   "cell_type": "markdown",
   "metadata": {},
   "source": [
    "## Tiền xử lý (nếu cần)"
   ]
  },
  {
   "cell_type": "markdown",
   "metadata": {},
   "source": [
    "Ta sẽ tiền xử lý các cột `Crawl Timestamp`,`Mrp`, `Price`, `Offers` , `Pack Size Or Quantity`"
   ]
  },
  {
   "cell_type": "markdown",
   "metadata": {},
   "source": [
    "### Chuyển dtype của cột \"Crawl Timestamp\" sang datetime\n"
   ]
  },
  {
   "cell_type": "code",
   "execution_count": 8,
   "metadata": {},
   "outputs": [
    {
     "data": {
      "text/plain": [
       "0       2019-10-30 11:38:11+00:00\n",
       "1       2019-10-31 15:46:54+00:00\n",
       "2       2019-10-30 09:53:23+00:00\n",
       "3       2019-10-29 16:16:52+00:00\n",
       "4       2019-10-31 09:32:06+00:00\n",
       "                   ...           \n",
       "29995   2019-10-31 06:29:39+00:00\n",
       "29996   2019-10-30 04:10:36+00:00\n",
       "29997   2019-10-30 22:54:39+00:00\n",
       "29998   2019-10-31 08:20:12+00:00\n",
       "29999   2019-10-30 07:54:05+00:00\n",
       "Name: Crawl Timestamp, Length: 30000, dtype: datetime64[ns, UTC]"
      ]
     },
     "execution_count": 8,
     "metadata": {},
     "output_type": "execute_result"
    }
   ],
   "source": [
    "product_df['Crawl Timestamp'] = pd.to_datetime(product_df['Crawl Timestamp'],format = \"%Y-%m-%d %H:%M:%S\")\n",
    "product_df['Crawl Timestamp']"
   ]
  },
  {
   "cell_type": "markdown",
   "metadata": {},
   "source": [
    "### Chuyển dtype của cột \"Offers\" sang float"
   ]
  },
  {
   "cell_type": "markdown",
   "metadata": {},
   "source": [
    "Cột Offers có dtype gồm 2 loại là str và float. float là ứng với NaN, còn str thì ứng với các giá trị %. Vì vậy ta thực hiện ép kiểu cho NaN từ float sang str, sau đó ta thực hiện cắt bỏ ký tự % phía sau mỗi chuỗi, ép kiểu về float và chia cho 100"
   ]
  },
  {
   "cell_type": "code",
   "execution_count": 9,
   "metadata": {},
   "outputs": [],
   "source": [
    "product_df[\"Offers\"] = product_df[\"Offers\"].str.replace('%','').astype(float) / 100"
   ]
  },
  {
   "cell_type": "markdown",
   "metadata": {},
   "source": [
    "### Chuyển dtype của cột \"Mrp\" và \"Price\" sang float"
   ]
  },
  {
   "cell_type": "markdown",
   "metadata": {},
   "source": [
    "- Cột Mrp có dtype gồm 2 loại là str và float. float là ứng với NaN, còn str thì ứng với chuỗi (dạng số)\n",
    "\n",
    "- Kiểm tra cột Mrp có giá trị có dấu . ở đầu chuỗi ví dụ .250.00, điều này gây khó khăn trong việc ép kiểu dữ liệu từ str sang float. Để xử lý điều này, ta sẽ sử dụng hàm lstrip\n",
    "\n",
    "- Xử lý xong ta cũng chưa thể chuyển kiểu dữ liệu ngay được vì trong các cột này có giá trị là \" \" (chuỗi có một khoảng trắng). Vậy thì trước khi chuyển, ta sẽ replace các giá trị \" \" bằng NaN.\n",
    "\n",
    "- Cột Price cũng giống như cột Mrp nên ta xử lý tương tự"
   ]
  },
  {
   "cell_type": "code",
   "execution_count": 10,
   "metadata": {},
   "outputs": [],
   "source": [
    "product_df[\"Mrp\"] = product_df[\"Mrp\"].str.lstrip('.')\n",
    "product_df['Mrp'] = product_df['Mrp'].replace(r'^\\s*$', np.nan, regex=True)\n",
    "product_df['Mrp'] = product_df['Mrp'].astype(float)\n",
    "\n",
    "product_df[\"Price\"] =  product_df[\"Price\"].str.lstrip('.')\n",
    "product_df['Price'] = product_df['Price'].replace(r'^\\s*$', np.nan, regex=True)\n",
    "product_df['Price']  = product_df['Price'].astype(float)"
   ]
  },
  {
   "cell_type": "markdown",
   "metadata": {},
   "source": [
    "### Chuyển dtype của cột \"Pack Size Or Quantity\" sang float"
   ]
  },
  {
   "cell_type": "code",
   "execution_count": 11,
   "metadata": {},
   "outputs": [
    {
     "data": {
      "text/plain": [
       "0       NaN\n",
       "1       NaN\n",
       "2       NaN\n",
       "3       NaN\n",
       "4       NaN\n",
       "         ..\n",
       "29995   NaN\n",
       "29996   NaN\n",
       "29997   NaN\n",
       "29998   NaN\n",
       "29999   NaN\n",
       "Name: Pack Size Or Quantity, Length: 30000, dtype: float64"
      ]
     },
     "execution_count": 11,
     "metadata": {},
     "output_type": "execute_result"
    }
   ],
   "source": [
    "def change_unit(x):\n",
    "    if(type(x) == str):\n",
    "        try:\n",
    "            num = float(re.findall('\\d+', x)[0])\n",
    "        except:\n",
    "            return np.nan\n",
    "        if('K' in x):\n",
    "            num = num * 1000\n",
    "        return num\n",
    "\n",
    "product_df['Pack Size Or Quantity'] = product_df['Pack Size Or Quantity'].replace(r'^\\s*$', np.nan, regex=True)\n",
    "product_df['Pack Size Or Quantity'] = product_df['Pack Size Or Quantity'].apply(change_unit)\n",
    "\n",
    "product_df['Pack Size Or Quantity']\n"
   ]
  },
  {
   "cell_type": "markdown",
   "metadata": {},
   "source": [
    "## Khám phá dữ liệu (tiếp tục)"
   ]
  },
  {
   "cell_type": "markdown",
   "metadata": {},
   "source": [
    "### Với mỗi cột numeric, các giá trị được phân phối như thế nào?"
   ]
  },
  {
   "cell_type": "markdown",
   "metadata": {},
   "source": [
    "Ta có 6 cột numeric: Crawl Timestamp,Pack Size Or Quantity,Mrp, Price, Offers,Combo Offers"
   ]
  },
  {
   "cell_type": "markdown",
   "metadata": {},
   "source": [
    "Với mỗi cột numeric bạn sẽ tính tỉ lệ % giá trị thiếu (từ 0 đến 100), min, max. Bạn lưu kết quả vào dataframe nume_col_profiles_df. Dataframe này có 3 dòng là \"missing_ratio\", \"min\", \"max\"; và có 6 cột là Crawl Timestamp,Pack Size Or Quantity,Mrp, Price, Offers,Combo Offers"
   ]
  },
  {
   "cell_type": "code",
   "execution_count": 12,
   "metadata": {},
   "outputs": [
    {
     "data": {
      "text/html": [
       "<div>\n",
       "<style scoped>\n",
       "    .dataframe tbody tr th:only-of-type {\n",
       "        vertical-align: middle;\n",
       "    }\n",
       "\n",
       "    .dataframe tbody tr th {\n",
       "        vertical-align: top;\n",
       "    }\n",
       "\n",
       "    .dataframe thead th {\n",
       "        text-align: right;\n",
       "    }\n",
       "</style>\n",
       "<table border=\"1\" class=\"dataframe\">\n",
       "  <thead>\n",
       "    <tr style=\"text-align: right;\">\n",
       "      <th></th>\n",
       "      <th>Crawl Timestamp</th>\n",
       "      <th>Pack Size Or Quantity</th>\n",
       "      <th>Mrp</th>\n",
       "      <th>Price</th>\n",
       "      <th>Offers</th>\n",
       "    </tr>\n",
       "  </thead>\n",
       "  <tbody>\n",
       "    <tr>\n",
       "      <th>missing_ratio</th>\n",
       "      <td>0</td>\n",
       "      <td>65.926667</td>\n",
       "      <td>2.33</td>\n",
       "      <td>2.0</td>\n",
       "      <td>1.553333</td>\n",
       "    </tr>\n",
       "    <tr>\n",
       "      <th>min</th>\n",
       "      <td>2019-10-28 14:30:19+00:00</td>\n",
       "      <td>4.000000</td>\n",
       "      <td>12.00</td>\n",
       "      <td>12.0</td>\n",
       "      <td>0.000000</td>\n",
       "    </tr>\n",
       "    <tr>\n",
       "      <th>max</th>\n",
       "      <td>2019-10-31 19:13:19+00:00</td>\n",
       "      <td>650000.000000</td>\n",
       "      <td>80000.00</td>\n",
       "      <td>21990.0</td>\n",
       "      <td>0.972400</td>\n",
       "    </tr>\n",
       "  </tbody>\n",
       "</table>\n",
       "</div>"
      ],
      "text/plain": [
       "                         Crawl Timestamp  Pack Size Or Quantity       Mrp  \\\n",
       "missing_ratio                          0              65.926667      2.33   \n",
       "min            2019-10-28 14:30:19+00:00               4.000000     12.00   \n",
       "max            2019-10-31 19:13:19+00:00          650000.000000  80000.00   \n",
       "\n",
       "                 Price    Offers  \n",
       "missing_ratio      2.0  1.553333  \n",
       "min               12.0  0.000000  \n",
       "max            21990.0  0.972400  "
      ]
     },
     "execution_count": 12,
     "metadata": {},
     "output_type": "execute_result"
    }
   ],
   "source": [
    "nume_col_df = product_df[[\"Crawl Timestamp\",\"Pack Size Or Quantity\",\\\n",
    "                          \"Mrp\", \"Price\", \"Offers\"]]\n",
    "percent_missing = nume_col_df.isnull().sum() * 100 / len(nume_col_df)\n",
    "\n",
    "data = [list(percent_missing),list(nume_col_df.min()),list(nume_col_df.max())]\n",
    "\n",
    "nume_col_profiles_df = pd.DataFrame(data,columns = nume_col_df.columns\\\n",
    "                                    ,index =[\"missing_ratio\", \"min\", \"max\"])\n",
    "nume_col_profiles_df"
   ]
  },
  {
   "cell_type": "markdown",
   "metadata": {},
   "source": [
    "### Nhận xét về \"missing_ratio\", \"min\", \"max\" của các cột numeric"
   ]
  },
  {
   "cell_type": "markdown",
   "metadata": {},
   "source": [
    "Không có gì bất thường."
   ]
  },
  {
   "cell_type": "markdown",
   "metadata": {},
   "source": [
    "### Với mỗi cột categorical, các giá trị được phân phối như thế nào?"
   ]
  },
  {
   "cell_type": "markdown",
   "metadata": {},
   "source": [
    "Ta có 11 cột categorical: 'Uniq Id','Product Title', 'Product Description', 'Brand', 'Pack Size Or Quantity', 'Mrp', 'Price', 'Site Name', 'Offers', 'Combo Offers', 'Stock Availibility', 'Product Asin', 'Image Urls'"
   ]
  },
  {
   "cell_type": "markdown",
   "metadata": {},
   "source": [
    "Với mỗi cột categorical, bạn tính tỉ lệ % giá trị thiếu (từ 0 đến 100), số lượng giá trị khác nhau (không xét giá trị thiếu), list/array các giá trị khác nhau (không xét giá trị thiếu). Bạn lưu kết quả vào dataframe cate_col_profiles_df. Dataframe này có 3 dòng là \"missing_ratio\", \"num_diff_vals\", \"diff_vals\"; và có 11 cột là (11 là số lượng cột categorical)"
   ]
  },
  {
   "cell_type": "code",
   "execution_count": 13,
   "metadata": {},
   "outputs": [
    {
     "data": {
      "text/html": [
       "<div>\n",
       "<style scoped>\n",
       "    .dataframe tbody tr th:only-of-type {\n",
       "        vertical-align: middle;\n",
       "    }\n",
       "\n",
       "    .dataframe tbody tr th {\n",
       "        vertical-align: top;\n",
       "    }\n",
       "\n",
       "    .dataframe thead th {\n",
       "        text-align: right;\n",
       "    }\n",
       "</style>\n",
       "<table border=\"1\" class=\"dataframe\">\n",
       "  <thead>\n",
       "    <tr style=\"text-align: right;\">\n",
       "      <th></th>\n",
       "      <th>Uniq Id</th>\n",
       "      <th>Category</th>\n",
       "      <th>Product Title</th>\n",
       "      <th>Product Description</th>\n",
       "      <th>Brand</th>\n",
       "      <th>Site Name</th>\n",
       "      <th>Combo Offers</th>\n",
       "      <th>Stock Availibility</th>\n",
       "      <th>Product Asin</th>\n",
       "      <th>Image Urls</th>\n",
       "    </tr>\n",
       "  </thead>\n",
       "  <tbody>\n",
       "    <tr>\n",
       "      <th>missing_ratio</th>\n",
       "      <td>0</td>\n",
       "      <td>0</td>\n",
       "      <td>0</td>\n",
       "      <td>6.63333</td>\n",
       "      <td>0.29</td>\n",
       "      <td>0</td>\n",
       "      <td>99.8767</td>\n",
       "      <td>0</td>\n",
       "      <td>0</td>\n",
       "      <td>0</td>\n",
       "    </tr>\n",
       "    <tr>\n",
       "      <th>num_diff_vals</th>\n",
       "      <td>30000</td>\n",
       "      <td>6</td>\n",
       "      <td>29630</td>\n",
       "      <td>22584</td>\n",
       "      <td>8454</td>\n",
       "      <td>1</td>\n",
       "      <td>36</td>\n",
       "      <td>2</td>\n",
       "      <td>30000</td>\n",
       "      <td>29578</td>\n",
       "    </tr>\n",
       "    <tr>\n",
       "      <th>diff_vals</th>\n",
       "      <td>[eb49cc038190f6f03c272f79fbbce894, 1657cc30c43...</td>\n",
       "      <td>[Skin Care, Grocery &amp; Gourmet Foods, Bath &amp; Sh...</td>\n",
       "      <td>[ Lee posh Lactic Acid 60% Anti ageing Pigment...</td>\n",
       "      <td>[PROFESSIONAL GRADE Face Peel: this peel stimu...</td>\n",
       "      <td>[Lee Posh, SLB Works, Generic, Harveys, ShiKai...</td>\n",
       "      <td>[Amazon In]</td>\n",
       "      <td>[ Myoc Neem Face Wash: Buy 2 Neem face Wash 10...</td>\n",
       "      <td>[YES, NO]</td>\n",
       "      <td>[B072BGHNJ1, B07QDTZYSJ, B07DCSN8MP, B07GLW9VQ...</td>\n",
       "      <td>[https://images-na.ssl-images-amazon.com/image...</td>\n",
       "    </tr>\n",
       "  </tbody>\n",
       "</table>\n",
       "</div>"
      ],
      "text/plain": [
       "                                                         Uniq Id  \\\n",
       "missing_ratio                                                  0   \n",
       "num_diff_vals                                              30000   \n",
       "diff_vals      [eb49cc038190f6f03c272f79fbbce894, 1657cc30c43...   \n",
       "\n",
       "                                                        Category  \\\n",
       "missing_ratio                                                  0   \n",
       "num_diff_vals                                                  6   \n",
       "diff_vals      [Skin Care, Grocery & Gourmet Foods, Bath & Sh...   \n",
       "\n",
       "                                                   Product Title  \\\n",
       "missing_ratio                                                  0   \n",
       "num_diff_vals                                              29630   \n",
       "diff_vals      [ Lee posh Lactic Acid 60% Anti ageing Pigment...   \n",
       "\n",
       "                                             Product Description  \\\n",
       "missing_ratio                                            6.63333   \n",
       "num_diff_vals                                              22584   \n",
       "diff_vals      [PROFESSIONAL GRADE Face Peel: this peel stimu...   \n",
       "\n",
       "                                                           Brand    Site Name  \\\n",
       "missing_ratio                                               0.29            0   \n",
       "num_diff_vals                                               8454            1   \n",
       "diff_vals      [Lee Posh, SLB Works, Generic, Harveys, ShiKai...  [Amazon In]   \n",
       "\n",
       "                                                    Combo Offers  \\\n",
       "missing_ratio                                            99.8767   \n",
       "num_diff_vals                                                 36   \n",
       "diff_vals      [ Myoc Neem Face Wash: Buy 2 Neem face Wash 10...   \n",
       "\n",
       "              Stock Availibility  \\\n",
       "missing_ratio                  0   \n",
       "num_diff_vals                  2   \n",
       "diff_vals              [YES, NO]   \n",
       "\n",
       "                                                    Product Asin  \\\n",
       "missing_ratio                                                  0   \n",
       "num_diff_vals                                              30000   \n",
       "diff_vals      [B072BGHNJ1, B07QDTZYSJ, B07DCSN8MP, B07GLW9VQ...   \n",
       "\n",
       "                                                      Image Urls  \n",
       "missing_ratio                                                  0  \n",
       "num_diff_vals                                              29578  \n",
       "diff_vals      [https://images-na.ssl-images-amazon.com/image...  "
      ]
     },
     "execution_count": 13,
     "metadata": {},
     "output_type": "execute_result"
    }
   ],
   "source": [
    "cate_col_df = product_df[['Uniq Id','Category', 'Product Title',\n",
    "       'Product Description', 'Brand','Site Name', 'Combo Offers', 'Stock Availibility',\n",
    "       'Product Asin', 'Image Urls']]\n",
    "percent_missing = cate_col_df.isnull().sum() * 100 / len(cate_col_df)\n",
    "data = [list(percent_missing),\n",
    "        list(cate_col_df.nunique(axis=0)),\n",
    "       [cate_col_df[\"Uniq Id\"].dropna().unique(),\n",
    "        cate_col_df[\"Category\"].dropna().unique(),\n",
    "        cate_col_df[\"Product Title\"].dropna().unique(),\n",
    "        cate_col_df[\"Product Description\"].dropna().unique(),\n",
    "       cate_col_df[\"Brand\"].dropna().unique(),\n",
    "       cate_col_df[\"Site Name\"].dropna().unique(),\n",
    "       cate_col_df[\"Combo Offers\"].dropna().unique(),\n",
    "       cate_col_df[\"Stock Availibility\"].dropna().unique(),\n",
    "       cate_col_df[\"Product Asin\"].dropna().unique(),\n",
    "       cate_col_df[\"Image Urls\"].dropna().unique()]]\n",
    "\n",
    "\n",
    "cate_col_profiles_df = pd.DataFrame(data,\n",
    "                                    columns = cate_col_df.columns,\n",
    "                                    index = [\"missing_ratio\", \"num_diff_vals\", \"diff_vals\"])\n",
    "cate_col_profiles_df"
   ]
  },
  {
   "cell_type": "markdown",
   "metadata": {},
   "source": [
    "### Nhận xét về \"missing_ratio\", \"num_diff_vals\", \"diff_vals\" của các cột categorical"
   ]
  },
  {
   "cell_type": "markdown",
   "metadata": {},
   "source": [
    "Không có gì bất thường."
   ]
  },
  {
   "cell_type": "markdown",
   "metadata": {},
   "source": [
    "## Đưa ra câu hỏi có ý nghĩa cần trả lời"
   ]
  },
  {
   "cell_type": "markdown",
   "metadata": {},
   "source": [
    "Sau khi đã khám phá dữ liệu và hiểu hơn về dữ liệu, ta thấy có một số câu hỏi có thể được trả lời bằng dữ liệu:\n",
    "- câu hỏi của thành viên 1 - Nguyễn Sơn - 19127539\n",
    "    - Số lượng các sản phẩm thay đổi như thế nào theo thể loại ?\n",
    "        - ý nghĩa của câu này đại khái muốn khai thác thông tin về thị trường mà web amazon này nhắm đến . thông qua các con số về số lượng sản phẩm trên từng loại sản phẩm.\n",
    "    - Với các sản phẩm ở mỗi Category, tỉ lệ có hàng tồn kho hay không tính đến thời điểm dữ liệu được thu thập là bao nhiêu?\n",
    "        - ý nghĩa của câu này là cho ta thấy rõ hơn về tỉ lệ có thể  cung cấp các sản phẩm của các thể loại.\n",
    "        - cũng có cả line để ta quan sát và so sánh được giữa các thể loại với nhau\n",
    "    - Thể loại nào được giảm giá nhìu nhất ở Amazon cho đến lúc thu nhập dữ liệu này? \n",
    "        - Muốn có thể được khách hàng quan tâm hơn thì điều không thể thiếu đó là giảm giá và câu hỏi trên đây sẽ cho ta thấy rõ hơn về sự quan tâm khách hàng của các Category nào đối với khách hàng là tốt nhất.\n",
    "        - và điều đó cũng một phần nào đó hiểu được rõ hơn về sự quan tâm của Web Amazon đối với khách hàng thông qua thị trường chính họ đang cạnh tranh với các Web bán hàng khác\n"
   ]
  },
  {
   "cell_type": "markdown",
   "metadata": {},
   "source": [
    "## Tiền xử lý"
   ]
  },
  {
   "cell_type": "markdown",
   "metadata": {},
   "source": [
    "### Thêm cột \"price is reduced\" vào dataframe "
   ]
  },
  {
   "cell_type": "markdown",
   "metadata": {},
   "source": [
    "Trong các câu hỏi ở trên, có câu cần đến thông tin về giá được giảm giá của mỗi sản phẩm. Do đó, trước khi phân tích để trả lời cho các câu hỏi, phải tiền xử lý bằng cách thêm cột \"price is reduced\" (giá được giảm trong sản phẩm) vào product_df. Sau khi thêm thì product_df phải thay đổi."
   ]
  },
  {
   "cell_type": "code",
   "execution_count": 14,
   "metadata": {},
   "outputs": [],
   "source": [
    "series = product_df['Mrp'] *   product_df['Offers']\n",
    "series.name = \"price is reduced\"\n",
    "\n",
    "product_df = pd.concat([product_df,series],axis=1)"
   ]
  },
  {
   "cell_type": "markdown",
   "metadata": {},
   "source": [
    "## Phần tích dữ liệu để trả lời các câu hỏi"
   ]
  },
  {
   "cell_type": "markdown",
   "metadata": {},
   "source": [
    "###  Thể loài nào được giảm giá nhìu nhất ở Amazon cho đến lúc thu nhập dữ liệu này?`\n",
    "\n",
    "- Thể Loại ở đây được lưu trong cột \"Category\". lưu kết quả vào dict `top1_discount` theo thứ tự phần tử đầu tiên là có nhiều discount nhất, phần tử thứ hai là có nhiều discount nhì, ..."
   ]
  },
  {
   "cell_type": "code",
   "execution_count": 15,
   "metadata": {},
   "outputs": [
    {
     "data": {
      "text/plain": [
       "('Skin Care', 10400674.049084002)"
      ]
     },
     "execution_count": 15,
     "metadata": {},
     "output_type": "execute_result"
    }
   ],
   "source": [
    "top1 = product_df.groupby(['Category','price is reduced']).size()\n",
    "dict_price_reduced_cat = {}\n",
    "\n",
    "for i in pd.Series.unique(product_df['Category']):\n",
    "    all_price_reduce_cat = top1[i].values * top1[i].index\n",
    "    sum_price_reduce_cat = pd.Series(all_price_reduce_cat).sum()\n",
    "    dict_price_reduced_cat[i] = sum_price_reduce_cat\n",
    "    \n",
    "sorted_dict_price_reduced_cat = sorted(dict_price_reduced_cat.items(), key=operator.itemgetter(0) , reverse =True)\n",
    "\n",
    "top1_reduced = sorted_dict_price_reduced_cat[0]\n",
    "top1_reduced"
   ]
  },
  {
   "cell_type": "markdown",
   "metadata": {},
   "source": [
    "### Số lượng các sản phẩm thay đổi như thế nào theo thể loại ?"
   ]
  },
  {
   "cell_type": "markdown",
   "metadata": {},
   "source": [
    "- Bước 1: Tính số lượng sản phẩm của mỗi thể loại. lưu kết quả vào series `num_products_each_category`, trong đó index là thể loại.\n",
    "- Bước 2: Từ kết quả ở trên, bạn vẽ đồ thị dạng line, trong đó trục hoành là thể loại và trục tung là số lượng sản phẩm. Dùng thêm marker là điểm tròn để cho thấy rõ các điểm dữ liệu. Đặt tên trục hoành là \"Category\" và tên trục tung là \"NumProducts\"."
   ]
  },
  {
   "cell_type": "markdown",
   "metadata": {},
   "source": [
    "Bước 1"
   ]
  },
  {
   "cell_type": "code",
   "execution_count": 16,
   "metadata": {},
   "outputs": [],
   "source": [
    "num_products_each_category = pd.Series(product_df['Category'].value_counts(),index = pd.Series.unique(product_df['Category']))"
   ]
  },
  {
   "cell_type": "markdown",
   "metadata": {},
   "source": [
    "Bước 2"
   ]
  },
  {
   "cell_type": "code",
   "execution_count": 17,
   "metadata": {},
   "outputs": [
    {
     "data": {
      "text/plain": [
       "<matplotlib.axes._subplots.AxesSubplot at 0x7ff0aa0d8ad0>"
      ]
     },
     "execution_count": 17,
     "metadata": {},
     "output_type": "execute_result"
    },
    {
     "data": {
      "image/png": "[encoded data removed]",
      "text/plain": [
       "<Figure size 432x288 with 1 Axes>"
      ]
     },
     "metadata": {
      "needs_background": "light"
     },
     "output_type": "display_data"
    }
   ],
   "source": [
    "df = pd.DataFrame({'Category': num_products_each_category.index,\n",
    "                   'NumProducts': np.array(num_products_each_category.values)})\n",
    "\n",
    "df.plot.line(x='Category', y='NumProducts', marker='o' ,rot = 30 )"
   ]
  },
  {
   "cell_type": "markdown",
   "metadata": {},
   "source": [
    "### Với các sản phẩm ở mỗi Category, tỉ lệ có hàng tồn kho hay không tính đến thời điểm dữ liệu được thu thập là bao nhiêu?"
   ]
  },
  {
   "cell_type": "markdown",
   "metadata": {},
   "source": [
    "- Bước 1: Tính tỉ lệ (từ 0 đến 1) có hàng để cung cấp của mỗi thể loại (thể loại ở đây là thể loại trên web Amazon có thể cung cấp, còn cung được hay không cung được là tính tới thời điểm dữ liệu được thu thập)\n",
    "- Bạn lưu kết quả vào series`stock_availibility_ratio_each_category`, trong đó index là thể loại.\n",
    "- Bước 2: Từ kết quả ở trên, bạn vẽ đồ thị dạng line, trong đó trục hoành là thể loại và trục tung là tỉ lệ cung cấp được. Dùng thêm marker là điểm tròn để cho thấy rõ các điểm dữ liệu. Đặt tên trục hoành là \"Category\" và tên trục tung là \"StockAvailibilityRatio\". Ngoài ra, bạn cũng cần chỉnh miền giá trị của trục tung là từ 0 đến 1."
   ]
  },
  {
   "cell_type": "markdown",
   "metadata": {},
   "source": [
    "Bước 1"
   ]
  },
  {
   "cell_type": "code",
   "execution_count": 18,
   "metadata": {},
   "outputs": [],
   "source": [
    "# YOUR CODE HERE\n",
    "gb_stock_availibility_category = product_df.groupby(['Category','Stock Availibility']).size()\n",
    "\n",
    "\n",
    "gb_stock_availibility_category.name = \"Total\"\n",
    "\n",
    "df_stock_availibility_category = gb_stock_availibility_category.to_frame()\n",
    "\n",
    "\n",
    "stock_availibility_ratio_each_category = df_stock_availibility_category.groupby(level=0).apply(lambda x:\n",
    "                                                 x / float(x.sum()))\n",
    "\n",
    "stock_availibility_ratio_each_category = stock_availibility_ratio_each_category.reset_index()\n",
    "\n",
    "stock_availibility_ratio_each_category = stock_availibility_ratio_each_category\\\n",
    "[stock_availibility_ratio_each_category['Stock Availibility']==\"YES\"]\n",
    "\n",
    "stock_availibility_ratio_each_category = stock_availibility_ratio_each_category.set_index('Category')\n",
    "\n",
    "stock_availibility_ratio_each_category = stock_availibility_ratio_each_category['Total']"
   ]
  },
  {
   "cell_type": "markdown",
   "metadata": {},
   "source": [
    "Bước 2"
   ]
  },
  {
   "cell_type": "code",
   "execution_count": 19,
   "metadata": {},
   "outputs": [
    {
     "data": {
      "text/plain": [
       "<matplotlib.axes._subplots.AxesSubplot at 0x7ff0a971c4d0>"
      ]
     },
     "execution_count": 19,
     "metadata": {},
     "output_type": "execute_result"
    },
    {
     "data": {
      "image/png": "[encoded data removed]",
      "text/plain": [
       "<Figure size 432x288 with 1 Axes>"
      ]
     },
     "metadata": {
      "needs_background": "light"
     },
     "output_type": "display_data"
    }
   ],
   "source": [
    "df = pd.DataFrame({'Category': stock_availibility_ratio_each_category.index,\n",
    "                   'StockAvailibilityRatio': stock_availibility_ratio_each_category.values})\n",
    "\n",
    "df.plot.line(x='Category', y='StockAvailibilityRatio', marker='o' , ylim = (0,1) ,rot =30)\n"
   ]
  },
  {
   "cell_type": "markdown",
   "metadata": {},
   "source": [
    "## Đưa ra câu hỏi có ý nghĩa cần trả lời"
   ]
  },
  {
   "cell_type": "markdown",
   "metadata": {},
   "source": [
    "- Câu 1: Cho biết xu hướng bán hàng của các thương hiệu"
   ]
  },
  {
   "cell_type": "markdown",
   "metadata": {},
   "source": [
    "## Tiền xử lý (nếu cần) + phân tích dữ liệu để trả lời cho câu hỏi 2"
   ]
  },
  {
   "cell_type": "markdown",
   "metadata": {},
   "source": [
    "Để trả lời cho câu hỏi này, ta sẽ chia tâp dữ liệu thành 6 phần tương ứng với 6 giá trị khác nhau trong cột Category. Với mỗi giá trị trong cột Category:"
   ]
  },
  {
   "cell_type": "markdown",
   "metadata": {},
   "source": [
    "- Bước 1: Ta cần tìm từ khóa xuất hiện nhiều nhất trong 1000 sản phẩm có giá bán Price cao nhất\n",
    "- Bước 2: Liệt kê các dòng dữ liệu có xuất hiện từ khóa đó, vẽ biểu đồ density thể hiện sự phân bố giá bán của các sản phẩm và biểu đồ tròn thể hiện thị phần của mỗi thương hiệu về dòng sản phẩm đó"
   ]
  },
  {
   "cell_type": "code",
   "execution_count": 20,
   "metadata": {},
   "outputs": [
    {
     "data": {
      "text/plain": [
       "Skin Care                  15033\n",
       "Grocery & Gourmet Foods     8064\n",
       "Hair Care                   2459\n",
       "Bath & Shower               2140\n",
       "Fragrance                   2107\n",
       "Detergents & Dishwash        197\n",
       "Name: Category, dtype: int64"
      ]
     },
     "execution_count": 20,
     "metadata": {},
     "output_type": "execute_result"
    }
   ],
   "source": [
    "product_df['Category'].value_counts()"
   ]
  },
  {
   "cell_type": "code",
   "execution_count": 21,
   "metadata": {},
   "outputs": [],
   "source": [
    "def most_frequent_word(df, category,top):\n",
    "\n",
    "    category = df[df['Category'] == category]\n",
    "    category_top = category.nlargest(top,'Price')\n",
    "    keyword = Counter(\" \".join(category_top['Product Title']).split(\" \")).items()\n",
    "    count = sorted(keyword, key=lambda f: f[1],reverse = True)\n",
    "    count_dict = dict(count)\n",
    "    del count_dict['']\n",
    "    result = dict()\n",
    "    for key,value in count_dict.items():\n",
    "        if(key[0].isupper()):\n",
    "            result[key]=value\n",
    "    return result\n"
   ]
  },
  {
   "cell_type": "code",
   "execution_count": 22,
   "metadata": {},
   "outputs": [],
   "source": [
    "def density_plot(cate_df):\n",
    "\n",
    "    # plotting density plot for price using distplot()\n",
    "    sns.kdeplot(cate_df['Price'])\n",
    "     \n",
    "    # visualizing plot using matplotlib.pyplot library\n",
    "    plt.show()"
   ]
  },
  {
   "cell_type": "code",
   "execution_count": 23,
   "metadata": {},
   "outputs": [],
   "source": [
    "def pie_chart(cate_df):\n",
    "    brand = dict(cate_df['Brand'].value_counts())\n",
    "    \n",
    "    fig = plt.figure(figsize = (15, 15))\n",
    "    colors = plt.cm.Dark2(np.linspace(0, 1, len(brand)))\n",
    "    plt.pie(brand.values(),colors = colors)\n",
    "    plt.legend(labels = brand.keys())\n",
    "    plt.show()"
   ]
  },
  {
   "cell_type": "code",
   "execution_count": 24,
   "metadata": {},
   "outputs": [],
   "source": [
    "def plot_category(df,category,top=1000):\n",
    "    word = most_frequent_word(df,category,top)\n",
    "    first_pair = next(iter((word.items())))\n",
    "    key = first_pair[0]\n",
    "    cate_df = df[df['Category'] == category]\n",
    "    cate_df = cate_df[cate_df['Product Title'].str.contains(pat = key)]\n",
    "    density_plot(cate_df)\n",
    "    pie_chart(cate_df)"
   ]
  },
  {
   "cell_type": "code",
   "execution_count": 25,
   "metadata": {},
   "outputs": [
    {
     "ename": "NameError",
     "evalue": "name 'Counter' is not defined",
     "output_type": "error",
     "traceback": [
      "\u001b[0;31m---------------------------------------------------------------------------\u001b[0m",
      "\u001b[0;31mNameError\u001b[0m                                 Traceback (most recent call last)",
      "\u001b[0;32m<ipython-input-25-6beb574faf1d>\u001b[0m in \u001b[0;36m<module>\u001b[0;34m\u001b[0m\n\u001b[0;32m----> 1\u001b[0;31m \u001b[0mplot_category\u001b[0m\u001b[0;34m(\u001b[0m\u001b[0mproduct_df\u001b[0m\u001b[0;34m,\u001b[0m\u001b[0;34m'Skin Care'\u001b[0m\u001b[0;34m,\u001b[0m\u001b[0mtop\u001b[0m\u001b[0;34m=\u001b[0m\u001b[0;36m1000\u001b[0m\u001b[0;34m)\u001b[0m\u001b[0;34m\u001b[0m\u001b[0;34m\u001b[0m\u001b[0m\n\u001b[0m",
      "\u001b[0;32m<ipython-input-24-3d3c42541561>\u001b[0m in \u001b[0;36mplot_category\u001b[0;34m(df, category, top)\u001b[0m\n\u001b[1;32m      1\u001b[0m \u001b[0;32mdef\u001b[0m \u001b[0mplot_category\u001b[0m\u001b[0;34m(\u001b[0m\u001b[0mdf\u001b[0m\u001b[0;34m,\u001b[0m\u001b[0mcategory\u001b[0m\u001b[0;34m,\u001b[0m\u001b[0mtop\u001b[0m\u001b[0;34m=\u001b[0m\u001b[0;36m1000\u001b[0m\u001b[0;34m)\u001b[0m\u001b[0;34m:\u001b[0m\u001b[0;34m\u001b[0m\u001b[0;34m\u001b[0m\u001b[0m\n\u001b[0;32m----> 2\u001b[0;31m     \u001b[0mword\u001b[0m \u001b[0;34m=\u001b[0m \u001b[0mmost_frequent_word\u001b[0m\u001b[0;34m(\u001b[0m\u001b[0mdf\u001b[0m\u001b[0;34m,\u001b[0m\u001b[0mcategory\u001b[0m\u001b[0;34m,\u001b[0m\u001b[0mtop\u001b[0m\u001b[0;34m)\u001b[0m\u001b[0;34m\u001b[0m\u001b[0;34m\u001b[0m\u001b[0m\n\u001b[0m\u001b[1;32m      3\u001b[0m     \u001b[0mfirst_pair\u001b[0m \u001b[0;34m=\u001b[0m \u001b[0mnext\u001b[0m\u001b[0;34m(\u001b[0m\u001b[0miter\u001b[0m\u001b[0;34m(\u001b[0m\u001b[0;34m(\u001b[0m\u001b[0mword\u001b[0m\u001b[0;34m.\u001b[0m\u001b[0mitems\u001b[0m\u001b[0;34m(\u001b[0m\u001b[0;34m)\u001b[0m\u001b[0;34m)\u001b[0m\u001b[0;34m)\u001b[0m\u001b[0;34m)\u001b[0m\u001b[0;34m\u001b[0m\u001b[0;34m\u001b[0m\u001b[0m\n\u001b[1;32m      4\u001b[0m     \u001b[0mkey\u001b[0m \u001b[0;34m=\u001b[0m \u001b[0mfirst_pair\u001b[0m\u001b[0;34m[\u001b[0m\u001b[0;36m0\u001b[0m\u001b[0;34m]\u001b[0m\u001b[0;34m\u001b[0m\u001b[0;34m\u001b[0m\u001b[0m\n\u001b[1;32m      5\u001b[0m     \u001b[0mcate_df\u001b[0m \u001b[0;34m=\u001b[0m \u001b[0mdf\u001b[0m\u001b[0;34m[\u001b[0m\u001b[0mdf\u001b[0m\u001b[0;34m[\u001b[0m\u001b[0;34m'Category'\u001b[0m\u001b[0;34m]\u001b[0m \u001b[0;34m==\u001b[0m \u001b[0mcategory\u001b[0m\u001b[0;34m]\u001b[0m\u001b[0;34m\u001b[0m\u001b[0;34m\u001b[0m\u001b[0m\n",
      "\u001b[0;32m<ipython-input-21-88134be35ab5>\u001b[0m in \u001b[0;36mmost_frequent_word\u001b[0;34m(df, category, top)\u001b[0m\n\u001b[1;32m      3\u001b[0m     \u001b[0mcategory\u001b[0m \u001b[0;34m=\u001b[0m \u001b[0mdf\u001b[0m\u001b[0;34m[\u001b[0m\u001b[0mdf\u001b[0m\u001b[0;34m[\u001b[0m\u001b[0;34m'Category'\u001b[0m\u001b[0;34m]\u001b[0m \u001b[0;34m==\u001b[0m \u001b[0mcategory\u001b[0m\u001b[0;34m]\u001b[0m\u001b[0;34m\u001b[0m\u001b[0;34m\u001b[0m\u001b[0m\n\u001b[1;32m      4\u001b[0m     \u001b[0mcategory_top\u001b[0m \u001b[0;34m=\u001b[0m \u001b[0mcategory\u001b[0m\u001b[0;34m.\u001b[0m\u001b[0mnlargest\u001b[0m\u001b[0;34m(\u001b[0m\u001b[0mtop\u001b[0m\u001b[0;34m,\u001b[0m\u001b[0;34m'Price'\u001b[0m\u001b[0;34m)\u001b[0m\u001b[0;34m\u001b[0m\u001b[0;34m\u001b[0m\u001b[0m\n\u001b[0;32m----> 5\u001b[0;31m     \u001b[0mkeyword\u001b[0m \u001b[0;34m=\u001b[0m \u001b[0mCounter\u001b[0m\u001b[0;34m(\u001b[0m\u001b[0;34m\" \"\u001b[0m\u001b[0;34m.\u001b[0m\u001b[0mjoin\u001b[0m\u001b[0;34m(\u001b[0m\u001b[0mcategory_top\u001b[0m\u001b[0;34m[\u001b[0m\u001b[0;34m'Product Title'\u001b[0m\u001b[0;34m]\u001b[0m\u001b[0;34m)\u001b[0m\u001b[0;34m.\u001b[0m\u001b[0msplit\u001b[0m\u001b[0;34m(\u001b[0m\u001b[0;34m\" \"\u001b[0m\u001b[0;34m)\u001b[0m\u001b[0;34m)\u001b[0m\u001b[0;34m.\u001b[0m\u001b[0mitems\u001b[0m\u001b[0;34m(\u001b[0m\u001b[0;34m)\u001b[0m\u001b[0;34m\u001b[0m\u001b[0;34m\u001b[0m\u001b[0m\n\u001b[0m\u001b[1;32m      6\u001b[0m     \u001b[0mcount\u001b[0m \u001b[0;34m=\u001b[0m \u001b[0msorted\u001b[0m\u001b[0;34m(\u001b[0m\u001b[0mkeyword\u001b[0m\u001b[0;34m,\u001b[0m \u001b[0mkey\u001b[0m\u001b[0;34m=\u001b[0m\u001b[0;32mlambda\u001b[0m \u001b[0mf\u001b[0m\u001b[0;34m:\u001b[0m \u001b[0mf\u001b[0m\u001b[0;34m[\u001b[0m\u001b[0;36m1\u001b[0m\u001b[0;34m]\u001b[0m\u001b[0;34m,\u001b[0m\u001b[0mreverse\u001b[0m \u001b[0;34m=\u001b[0m \u001b[0;32mTrue\u001b[0m\u001b[0;34m)\u001b[0m\u001b[0;34m\u001b[0m\u001b[0;34m\u001b[0m\u001b[0m\n\u001b[1;32m      7\u001b[0m     \u001b[0mcount_dict\u001b[0m \u001b[0;34m=\u001b[0m \u001b[0mdict\u001b[0m\u001b[0;34m(\u001b[0m\u001b[0mcount\u001b[0m\u001b[0;34m)\u001b[0m\u001b[0;34m\u001b[0m\u001b[0;34m\u001b[0m\u001b[0m\n",
      "\u001b[0;31mNameError\u001b[0m: name 'Counter' is not defined"
     ]
    }
   ],
   "source": [
    "plot_category(product_df,'Skin Care',top=1000)"
   ]
  },
  {
   "cell_type": "code",
   "execution_count": null,
   "metadata": {},
   "outputs": [],
   "source": [
    "plot_category(product_df,'Hair Care',top=1000)"
   ]
  },
  {
   "cell_type": "code",
   "execution_count": null,
   "metadata": {},
   "outputs": [],
   "source": [
    "plot_category(product_df,'Grocery & Gourmet Foods',top=1000)"
   ]
  },
  {
   "cell_type": "code",
   "execution_count": null,
   "metadata": {},
   "outputs": [],
   "source": [
    "plot_category(product_df,'Bath & Shower',top=1000)"
   ]
  },
  {
   "cell_type": "code",
   "execution_count": null,
   "metadata": {},
   "outputs": [],
   "source": [
    "plot_category(product_df,'Fragrance',top=1000)"
   ]
  },
  {
   "cell_type": "code",
   "execution_count": null,
   "metadata": {},
   "outputs": [],
   "source": [
    "plot_category(product_df,'Detergents & Dishwash',top=1000)"
   ]
  }
 ],
 "metadata": {
  "kernelspec": {
   "display_name": "Python 3",
   "language": "python",
   "name": "python3"
  },
  "language_info": {
   "codemirror_mode": {
    "name": "ipython",
    "version": 3
   },
   "file_extension": ".py",
   "mimetype": "text/x-python",
   "name": "python",
   "nbconvert_exporter": "python",
   "pygments_lexer": "ipython3",
   "version": "3.7.6"
  }
 },
 "nbformat": 4,
 "nbformat_minor": 5
}
