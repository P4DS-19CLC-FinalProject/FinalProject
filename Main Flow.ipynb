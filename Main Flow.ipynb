{
 "cells": [
  {
   "cell_type": "markdown",
   "metadata": {},
   "source": [
    "# Đồ Án Cuối Kỳ\n",
    "\n",
    "\n",
    "Thành viên 1:\n",
    "\n",
    "    Họ tên: ...\n",
    "\n",
    "    MSSV: ...\n",
    "\n",
    "\n",
    "Thành viên 2:\n",
    "\n",
    "    Họ tên: ...\n",
    "\n",
    "    MSSV: ...\n",
    "    "
   ]
  },
  {
   "cell_type": "markdown",
   "metadata": {},
   "source": [
    "## Môi trường code"
   ]
  },
  {
   "cell_type": "code",
   "execution_count": 1,
   "metadata": {},
   "outputs": [
    {
     "data": {
      "text/plain": [
       "'/home/nson/anaconda3/bin/python'"
      ]
     },
     "execution_count": 1,
     "metadata": {},
     "output_type": "execute_result"
    }
   ],
   "source": [
    "import sys\n",
    "sys.executable"
   ]
  },
  {
   "cell_type": "markdown",
   "metadata": {},
   "source": [
    "## Import các thư viện cần thiết"
   ]
  },
  {
   "cell_type": "code",
   "execution_count": 2,
   "metadata": {},
   "outputs": [],
   "source": [
    "import pandas as pd\n",
    "import numpy as np"
   ]
  },
  {
   "cell_type": "markdown",
   "metadata": {},
   "source": [
    "## Thu thập dữ liệu"
   ]
  },
  {
   "cell_type": "markdown",
   "metadata": {},
   "source": [
    "Trong bài này, ta sẽ dùng dữ liệu đã được thu thập sẵn là file \"data.csv\" đính kèm; đây là dữ liệu về thông tin của một sản phẩm sau khi được đặt từ 1 trang web bán hàng . Dữ liệu này được lấy từ các nhóm tại PromptCloud và DataStock [ở đây](https://data.cityofchicago.org/Public-Safety/Crimes-2001-to-present/ijzp-q8t2)."
   ]
  },
  {
   "cell_type": "markdown",
   "metadata": {},
   "source": [
    "## Khám phá dữ liệu"
   ]
  },
  {
   "cell_type": "markdown",
   "metadata": {},
   "source": [
    "## Đọc dữ liệu từ file csv"
   ]
  },
  {
   "cell_type": "code",
   "execution_count": 3,
   "metadata": {},
   "outputs": [
    {
     "data": {
      "text/html": [
       "<div>\n",
       "<style scoped>\n",
       "    .dataframe tbody tr th:only-of-type {\n",
       "        vertical-align: middle;\n",
       "    }\n",
       "\n",
       "    .dataframe tbody tr th {\n",
       "        vertical-align: top;\n",
       "    }\n",
       "\n",
       "    .dataframe thead th {\n",
       "        text-align: right;\n",
       "    }\n",
       "</style>\n",
       "<table border=\"1\" class=\"dataframe\">\n",
       "  <thead>\n",
       "    <tr style=\"text-align: right;\">\n",
       "      <th></th>\n",
       "      <th>Uniq Id</th>\n",
       "      <th>Crawl Timestamp</th>\n",
       "      <th>Category</th>\n",
       "      <th>Product Title</th>\n",
       "      <th>Product Description</th>\n",
       "      <th>Brand</th>\n",
       "      <th>Pack Size Or Quantity</th>\n",
       "      <th>Mrp</th>\n",
       "      <th>Price</th>\n",
       "      <th>Site Name</th>\n",
       "      <th>Offers</th>\n",
       "      <th>Combo Offers</th>\n",
       "      <th>Stock Availibility</th>\n",
       "      <th>Product Asin</th>\n",
       "      <th>Image Urls</th>\n",
       "    </tr>\n",
       "  </thead>\n",
       "  <tbody>\n",
       "    <tr>\n",
       "      <th>0</th>\n",
       "      <td>eb49cc038190f6f03c272f79fbbce894</td>\n",
       "      <td>2019-10-30 11:38:11 +0000</td>\n",
       "      <td>Skin Care</td>\n",
       "      <td>Lee posh Lactic Acid 60% Anti ageing Pigmenta...</td>\n",
       "      <td>PROFESSIONAL GRADE Face Peel: this peel stimul...</td>\n",
       "      <td>Lee Posh</td>\n",
       "      <td>NaN</td>\n",
       "      <td>2000.00</td>\n",
       "      <td>799.00</td>\n",
       "      <td>Amazon In</td>\n",
       "      <td>60.05%</td>\n",
       "      <td>NaN</td>\n",
       "      <td>YES</td>\n",
       "      <td>B072BGHNJ1</td>\n",
       "      <td>https://images-na.ssl-images-amazon.com/images...</td>\n",
       "    </tr>\n",
       "    <tr>\n",
       "      <th>1</th>\n",
       "      <td>1657cc30c438affede6a5060d6847363</td>\n",
       "      <td>2019-10-31 15:46:54 +0000</td>\n",
       "      <td>Skin Care</td>\n",
       "      <td>Branded SLB Works New 1.5mm Titanium 1200 nee...</td>\n",
       "      <td>Item name: 1.5mm titanium 1200 needles microne...</td>\n",
       "      <td>SLB Works</td>\n",
       "      <td>NaN</td>\n",
       "      <td>2040.00</td>\n",
       "      <td>2040.00</td>\n",
       "      <td>Amazon In</td>\n",
       "      <td>0%</td>\n",
       "      <td>NaN</td>\n",
       "      <td>YES</td>\n",
       "      <td>B07QDTZYSJ</td>\n",
       "      <td>https://images-na.ssl-images-amazon.com/images...</td>\n",
       "    </tr>\n",
       "    <tr>\n",
       "      <th>2</th>\n",
       "      <td>41654633cce38c8650690f6dbac01fd3</td>\n",
       "      <td>2019-10-30 09:53:23 +0000</td>\n",
       "      <td>Skin Care</td>\n",
       "      <td>Generic 1 Pc brand snail eye cream remove dar...</td>\n",
       "      <td>Use: eye, item type: cream, net wt: 20g, gzzz:...</td>\n",
       "      <td>Generic</td>\n",
       "      <td>NaN</td>\n",
       "      <td>1824.00</td>\n",
       "      <td>1042.00</td>\n",
       "      <td>Amazon In</td>\n",
       "      <td>42.87%</td>\n",
       "      <td>NaN</td>\n",
       "      <td>YES</td>\n",
       "      <td>B07DCSN8MP</td>\n",
       "      <td>https://images-na.ssl-images-amazon.com/images...</td>\n",
       "    </tr>\n",
       "    <tr>\n",
       "      <th>3</th>\n",
       "      <td>08b1bd85c3efc2d7aa556fd79b073382</td>\n",
       "      <td>2019-10-29 16:16:52 +0000</td>\n",
       "      <td>Skin Care</td>\n",
       "      <td>Generic Anti Snoring Snore Stopper Sleep Apne...</td>\n",
       "      <td>Prevent the tongue from dropping backward or b...</td>\n",
       "      <td>Generic</td>\n",
       "      <td>NaN</td>\n",
       "      <td>2185.00</td>\n",
       "      <td>1399.00</td>\n",
       "      <td>Amazon In</td>\n",
       "      <td>35.97%</td>\n",
       "      <td>NaN</td>\n",
       "      <td>YES</td>\n",
       "      <td>B07GLW9VQN</td>\n",
       "      <td>https://images-na.ssl-images-amazon.com/images...</td>\n",
       "    </tr>\n",
       "    <tr>\n",
       "      <th>4</th>\n",
       "      <td>3ac3f213732512d1d11bb73ab3b1900f</td>\n",
       "      <td>2019-10-31 09:32:06 +0000</td>\n",
       "      <td>Grocery &amp; Gourmet Foods</td>\n",
       "      <td>Harveys Crunchy &amp; Creame Gourmet Delicacies C...</td>\n",
       "      <td>Harvey's wafer Cream Wafer 110g. Made in India</td>\n",
       "      <td>Harveys</td>\n",
       "      <td>NaN</td>\n",
       "      <td>594.00</td>\n",
       "      <td>570.00</td>\n",
       "      <td>Amazon In</td>\n",
       "      <td>4.04%</td>\n",
       "      <td>NaN</td>\n",
       "      <td>YES</td>\n",
       "      <td>B07NFYYLF1</td>\n",
       "      <td>https://images-na.ssl-images-amazon.com/images...</td>\n",
       "    </tr>\n",
       "  </tbody>\n",
       "</table>\n",
       "</div>"
      ],
      "text/plain": [
       "                            Uniq Id            Crawl Timestamp  \\\n",
       "0  eb49cc038190f6f03c272f79fbbce894  2019-10-30 11:38:11 +0000   \n",
       "1  1657cc30c438affede6a5060d6847363  2019-10-31 15:46:54 +0000   \n",
       "2  41654633cce38c8650690f6dbac01fd3  2019-10-30 09:53:23 +0000   \n",
       "3  08b1bd85c3efc2d7aa556fd79b073382  2019-10-29 16:16:52 +0000   \n",
       "4  3ac3f213732512d1d11bb73ab3b1900f  2019-10-31 09:32:06 +0000   \n",
       "\n",
       "                  Category                                      Product Title  \\\n",
       "0                Skin Care   Lee posh Lactic Acid 60% Anti ageing Pigmenta...   \n",
       "1                Skin Care   Branded SLB Works New 1.5mm Titanium 1200 nee...   \n",
       "2                Skin Care   Generic 1 Pc brand snail eye cream remove dar...   \n",
       "3                Skin Care   Generic Anti Snoring Snore Stopper Sleep Apne...   \n",
       "4  Grocery & Gourmet Foods   Harveys Crunchy & Creame Gourmet Delicacies C...   \n",
       "\n",
       "                                 Product Description      Brand  \\\n",
       "0  PROFESSIONAL GRADE Face Peel: this peel stimul...   Lee Posh   \n",
       "1  Item name: 1.5mm titanium 1200 needles microne...  SLB Works   \n",
       "2  Use: eye, item type: cream, net wt: 20g, gzzz:...    Generic   \n",
       "3  Prevent the tongue from dropping backward or b...    Generic   \n",
       "4     Harvey's wafer Cream Wafer 110g. Made in India    Harveys   \n",
       "\n",
       "  Pack Size Or Quantity      Mrp    Price  Site Name  Offers Combo Offers  \\\n",
       "0                   NaN  2000.00   799.00  Amazon In  60.05%          NaN   \n",
       "1                   NaN  2040.00  2040.00  Amazon In      0%          NaN   \n",
       "2                   NaN  1824.00  1042.00  Amazon In  42.87%          NaN   \n",
       "3                   NaN  2185.00  1399.00  Amazon In  35.97%          NaN   \n",
       "4                   NaN   594.00   570.00  Amazon In   4.04%          NaN   \n",
       "\n",
       "  Stock Availibility Product Asin  \\\n",
       "0                YES   B072BGHNJ1   \n",
       "1                YES   B07QDTZYSJ   \n",
       "2                YES   B07DCSN8MP   \n",
       "3                YES   B07GLW9VQN   \n",
       "4                YES   B07NFYYLF1   \n",
       "\n",
       "                                          Image Urls  \n",
       "0  https://images-na.ssl-images-amazon.com/images...  \n",
       "1  https://images-na.ssl-images-amazon.com/images...  \n",
       "2  https://images-na.ssl-images-amazon.com/images...  \n",
       "3  https://images-na.ssl-images-amazon.com/images...  \n",
       "4  https://images-na.ssl-images-amazon.com/images...  "
      ]
     },
     "execution_count": 3,
     "metadata": {},
     "output_type": "execute_result"
    }
   ],
   "source": [
    "product_df = pd.read_csv('data.csv')\n",
    "product_df.head()\n",
    "\n",
    "# df.to_csv('out1.csv', sep='\\t', encoding='utf-8')"
   ]
  },
  {
   "cell_type": "markdown",
   "metadata": {},
   "source": [
    "## Bỏ Các Dòng Không Phải Thông Tin Product"
   ]
  },
  {
   "cell_type": "code",
   "execution_count": 4,
   "metadata": {},
   "outputs": [],
   "source": [
    "product_df = product_df.dropna(how='all', subset=['Crawl Timestamp'], axis=0)"
   ]
  },
  {
   "cell_type": "markdown",
   "metadata": {},
   "source": [
    "### Dữ liệu có bao nhiêu dòng và cột?"
   ]
  },
  {
   "cell_type": "code",
   "execution_count": 5,
   "metadata": {},
   "outputs": [
    {
     "name": "stdout",
     "output_type": "stream",
     "text": [
      "15 30000\n"
     ]
    }
   ],
   "source": [
    "num_rows = len(product_df.values)\n",
    "num_cols = len(product_df.loc[0])\n",
    "\n",
    "print(num_cols,num_rows)"
   ]
  },
  {
   "cell_type": "markdown",
   "metadata": {},
   "source": [
    "### Ý nghĩa của mỗi dòng. Có vấn đề các dòng có ý nghĩa khác nhau không?"
   ]
  },
  {
   "cell_type": "markdown",
   "metadata": {},
   "source": [
    "Theo mô tả dữ liệu từ các nhóm tại PromptCloud và DataStock và theo quan sát sơ bộ về dữ liệu thì một dòng cho biết thông tin của một một sản phẩm đang được trưng bày bán. Có vẻ không có dòng nào bị \"lạc loài\"."
   ]
  },
  {
   "cell_type": "markdown",
   "metadata": {},
   "source": [
    "### Dữ liệu có các dòng bị lặp không?"
   ]
  },
  {
   "cell_type": "code",
   "execution_count": 6,
   "metadata": {},
   "outputs": [
    {
     "name": "stdout",
     "output_type": "stream",
     "text": [
      "Không\n"
     ]
    }
   ],
   "source": [
    "have_duplicated_rows = product_df[\"Uniq Id\"].duplicated().any()\n",
    "if have_duplicated_rows:\n",
    "    print('Có')\n",
    "else :\n",
    "    print ('Không')"
   ]
  },
  {
   "cell_type": "markdown",
   "metadata": {},
   "source": [
    "### Ý nghĩa của mỗi cột"
   ]
  },
  {
   "cell_type": "markdown",
   "metadata": {},
   "source": [
    "Dưới đây là phần mô tả dữ liệu từ các nhóm tại PromptCloud và DataStock về các cột trong file \"data.csv\":\n",
    "- **Uniq Id**: a unique identifier for each product.\n",
    "- **Crawl Timestamp**: Data collection time for this product.\n",
    "- **Category**: Product category.\n",
    "- **Product Title**: where you list your product in an eCommerce store.\n",
    "- **Product Description**: Detailed description of the product\n",
    "- **Brand**: The brand that owns the Product.\n",
    "- **Pack Size Or Quantity**: Size and quantity of products available.\n",
    "- **Mrp**: .\n",
    "- **Price**: price of this product.\n",
    "- **Site Name**: the name of the website that is selling the product.\n",
    "- **Offers**: Percentage on offer\n",
    "- **Combo Offers**: combo packages.\n",
    "- **Stock Availibility**: the product is available or not (if the product is available, it is YES, if it is not, it is NO) .\n",
    "- **Product Asin**: ASIN (Amazon Standard Identification Number) is one of the unique product identifiers used for managing the Amazon product catalog. In a technical sense, it's a 10-digit code made up of numbers and letters.\n",
    "- **Image Urls**: Link to the product's profile picture."
   ]
  },
  {
   "cell_type": "markdown",
   "metadata": {},
   "source": [
    "### Mỗi cột có kiểu dữ liệu gì? Có cột nào có kiểu dữ liệu chưa phù hợp để có thể xử lý tiếp không?"
   ]
  },
  {
   "cell_type": "markdown",
   "metadata": {},
   "source": [
    "Lấy `dtype` (kiểu dữ liệu của mỗi phần tử) của mỗi cột trong `df` và lưu kết quả vào series `col_dtypes`; series này có index là tên cột. \n"
   ]
  },
  {
   "cell_type": "code",
   "execution_count": 7,
   "metadata": {},
   "outputs": [],
   "source": [
    "col_dtypes = product_df.dtypes\n",
    "col_dtypes\n",
    "product_df.head(5)\n",
    "\n",
    "\n",
    "def check_dtype_element(s):\n",
    "    return type(s)\n",
    "def open_object_dtype(s):\n",
    "    dtypes = set(s.apply(check_dtype_element))\n",
    "    return dtypes"
   ]
  },
  {
   "cell_type": "code",
   "execution_count": 8,
   "metadata": {},
   "outputs": [
    {
     "data": {
      "text/plain": [
       "{str}"
      ]
     },
     "execution_count": 8,
     "metadata": {},
     "output_type": "execute_result"
    }
   ],
   "source": [
    "open_object_dtype(product_df[\"Image Urls\"])"
   ]
  },
  {
   "cell_type": "markdown",
   "metadata": {},
   "source": [
    "### Cột có dtype là object nghĩa là sao?"
   ]
  },
  {
   "cell_type": "markdown",
   "metadata": {},
   "source": [
    "Ta cần biết tập các kiểu dữ liệu thật sự có trong mỗi cột để dễ dàng tiền xử lý"
   ]
  },
  {
   "cell_type": "markdown",
   "metadata": {},
   "source": [
    "`product_df` có 4 cột có `dtype` là `object`: \"Date\", \"LocationDescription\", \"District\", \"CommunityArea\". Trong Pandas, kiểu dữ liệu `object` thường ám chỉ chuỗi, nhưng thật ra kiểu dữ liệu `object` có thể chứa một đối tượng bất kỳ trong Python (vì thật ra ở bên dưới kiểu dữ liệu `object` chứa địa chỉ). Nếu một cột trong dataframe có `dtype` là `object` thì có thể các phần tử trong cột này sẽ có kiểu dữ liệu khác nhau; để biết được kiểu dữ liệu thật sự của các phần tử trong cột này thì ta phải truy xuất vào từng phần tử và dùng câu lệnh `type` để xem kiểu dữ liệu, ví dụ `type(s.iloc[i])` với `s` là một cột. Lúc đọc dữ liệu từ file \"mvt.csv\" lên, nếu bạn để ý thì sẽ thấy warning là: \"Columns (6,7) have mixed types\", nghĩa là cột 6 (\"District\") và 7 (\"CommunityArea\") có `dtype` không đồng nhất (trong nội bộ mỗi cột). Ta muốn xem thử trong nội bộ mỗi cột này có các kiểu dữ liệu nào."
   ]
  },
  {
   "cell_type": "markdown",
   "metadata": {},
   "source": [
    "## Tiền xử lý (nếu cần)"
   ]
  },
  {
   "cell_type": "markdown",
   "metadata": {},
   "source": [
    "Ta sẽ tiền xử lý các cột `Crawl Timestamp`,`Mrp`, `Price`, `Offers`"
   ]
  },
  {
   "cell_type": "code",
   "execution_count": 9,
   "metadata": {},
   "outputs": [],
   "source": [
    "product_df[\"Mrp\"] =  product_df[\"Mrp\"].str.lstrip('.').astype(float)\n",
    "product_df[\"Crawl Timestamp\"] = product_df[\"Crawl Timestamp\"].astype('datetime64[s]')\n",
    "product_df[\"Price\"] =  product_df[\"Price\"].str.lstrip('.').astype(float)\n",
    "product_df[\"Offers\"] = product_df[\"Offers\"].str.replace('%','').astype(float) / 100"
   ]
  },
  {
   "cell_type": "markdown",
   "metadata": {},
   "source": [
    "## Khám phá dữ liệu (tiếp tục)"
   ]
  },
  {
   "cell_type": "markdown",
   "metadata": {},
   "source": [
    "### Với mỗi cột numeric, các giá trị được phân phối như thế nào?"
   ]
  },
  {
   "cell_type": "markdown",
   "metadata": {},
   "source": [
    "Với mỗi cột numeric bạn sẽ tính tỉ lệ % giá trị thiếu (từ 0 đến 100), min, max. Bạn lưu kết quả vào dataframe nume_col_profiles_df. Dataframe này có 3 dòng là \"missing_ratio\", \"min\", \"max\"; và có n cột (n là số cột numeric)"
   ]
  },
  {
   "cell_type": "code",
   "execution_count": 10,
   "metadata": {},
   "outputs": [
    {
     "name": "stderr",
     "output_type": "stream",
     "text": [
      "/home/nson/anaconda3/lib/python3.7/site-packages/ipykernel_launcher.py:2: DeprecationWarning: The default dtype for empty Series will be 'object' instead of 'float64' in a future version. Specify a dtype explicitly to silence this warning.\n",
      "  \n"
     ]
    }
   ],
   "source": [
    "# YOUR CODE HERE\n",
    "nume_col_profiles_df = pd.Series([])\n",
    "\n",
    "def missing_ratio(s):\n",
    "    return s.isna().mean() * 100\n",
    "\n",
    "nume_col_profiles_df = pd.concat([product_df['Mrp'],product_df['Price'],product_df['Crawl Timestamp'],\\\n",
    "                                  product_df['Offers']], axis=1)\n",
    "nume_col_profiles_df = nume_col_profiles_df.agg([missing_ratio, pd.Series.min, pd.Series.max])"
   ]
  },
  {
   "cell_type": "code",
   "execution_count": 11,
   "metadata": {},
   "outputs": [
    {
     "data": {
      "text/html": [
       "<div>\n",
       "<style scoped>\n",
       "    .dataframe tbody tr th:only-of-type {\n",
       "        vertical-align: middle;\n",
       "    }\n",
       "\n",
       "    .dataframe tbody tr th {\n",
       "        vertical-align: top;\n",
       "    }\n",
       "\n",
       "    .dataframe thead th {\n",
       "        text-align: right;\n",
       "    }\n",
       "</style>\n",
       "<table border=\"1\" class=\"dataframe\">\n",
       "  <thead>\n",
       "    <tr style=\"text-align: right;\">\n",
       "      <th></th>\n",
       "      <th>Mrp</th>\n",
       "      <th>Price</th>\n",
       "      <th>Crawl Timestamp</th>\n",
       "      <th>Offers</th>\n",
       "    </tr>\n",
       "  </thead>\n",
       "  <tbody>\n",
       "    <tr>\n",
       "      <th>missing_ratio</th>\n",
       "      <td>2.33</td>\n",
       "      <td>2.0</td>\n",
       "      <td>0</td>\n",
       "      <td>1.553333</td>\n",
       "    </tr>\n",
       "    <tr>\n",
       "      <th>min</th>\n",
       "      <td>12.00</td>\n",
       "      <td>12.0</td>\n",
       "      <td>2019-10-28 14:30:19</td>\n",
       "      <td>0.000000</td>\n",
       "    </tr>\n",
       "    <tr>\n",
       "      <th>max</th>\n",
       "      <td>80000.00</td>\n",
       "      <td>21990.0</td>\n",
       "      <td>2019-10-31 19:13:19</td>\n",
       "      <td>0.972400</td>\n",
       "    </tr>\n",
       "  </tbody>\n",
       "</table>\n",
       "</div>"
      ],
      "text/plain": [
       "                    Mrp    Price      Crawl Timestamp    Offers\n",
       "missing_ratio      2.33      2.0                    0  1.553333\n",
       "min               12.00     12.0  2019-10-28 14:30:19  0.000000\n",
       "max            80000.00  21990.0  2019-10-31 19:13:19  0.972400"
      ]
     },
     "execution_count": 11,
     "metadata": {},
     "output_type": "execute_result"
    }
   ],
   "source": [
    "nume_col_profiles_df"
   ]
  },
  {
   "cell_type": "markdown",
   "metadata": {},
   "source": [
    "### Nhận xét về \"missing_ratio\", \"min\", \"max\" của các cột numeric"
   ]
  },
  {
   "cell_type": "markdown",
   "metadata": {},
   "source": [
    "missing_ratio và Min và max của các cột có vẻ không có gì bất thường."
   ]
  },
  {
   "cell_type": "markdown",
   "metadata": {},
   "source": [
    "### Với mỗi cột categorical, các giá trị được phân phối như thế nào?"
   ]
  },
  {
   "cell_type": "markdown",
   "metadata": {},
   "source": [
    "Với mỗi cột categorical, bạn tính tỉ lệ % giá trị thiếu (từ 0 đến 100), số lượng giá trị khác nhau (không xét giá trị thiếu), list/array các giá trị khác nhau (không xét giá trị thiếu). Bạn lưu kết quả vào dataframe cate_col_profiles_df. Dataframe này có 3 dòng là \"missing_ratio\", \"num_diff_vals\", \"diff_vals\"; và có n cột là (n là số lượng cột categorical)"
   ]
  },
  {
   "cell_type": "code",
   "execution_count": 12,
   "metadata": {},
   "outputs": [
    {
     "name": "stderr",
     "output_type": "stream",
     "text": [
      "/home/nson/anaconda3/lib/python3.7/site-packages/ipykernel_launcher.py:2: DeprecationWarning: The default dtype for empty Series will be 'object' instead of 'float64' in a future version. Specify a dtype explicitly to silence this warning.\n",
      "  \n"
     ]
    }
   ],
   "source": [
    "# YOUR CODE HERE\n",
    "cate_col_profiles_df = pd.Series([])\n",
    "\n",
    "\n",
    "def num_diff_vals(s):\n",
    "    return pd.Series.nunique(s.dropna())\n",
    "\n",
    "def diff_vals(s):\n",
    "    s=s.dropna()\n",
    "    return pd.Series.unique(s.dropna())\n",
    "\n",
    "\n",
    "def missing_ratio(s):\n",
    "    return s.isna().mean() * 100\n",
    "\n",
    "cate_col_profiles_df = pd.concat([product_df['Uniq Id'],product_df['Category'],product_df['Product Title'],\\\n",
    "                                  product_df['Product Description'],product_df['Brand'],product_df['Site Name'],\\\n",
    "                                  product_df['Combo Offers'],product_df['Stock Availibility'],product_df['Product Asin'],\\\n",
    "                                 product_df['Image Urls']], axis=1)\n",
    "cate_col_profiles_df = cate_col_profiles_df.agg([missing_ratio,num_diff_vals,diff_vals ])"
   ]
  },
  {
   "cell_type": "code",
   "execution_count": 13,
   "metadata": {},
   "outputs": [
    {
     "data": {
      "text/html": [
       "<div>\n",
       "<style scoped>\n",
       "    .dataframe tbody tr th:only-of-type {\n",
       "        vertical-align: middle;\n",
       "    }\n",
       "\n",
       "    .dataframe tbody tr th {\n",
       "        vertical-align: top;\n",
       "    }\n",
       "\n",
       "    .dataframe thead th {\n",
       "        text-align: right;\n",
       "    }\n",
       "</style>\n",
       "<table border=\"1\" class=\"dataframe\">\n",
       "  <thead>\n",
       "    <tr style=\"text-align: right;\">\n",
       "      <th></th>\n",
       "      <th>Uniq Id</th>\n",
       "      <th>Category</th>\n",
       "      <th>Product Title</th>\n",
       "      <th>Product Description</th>\n",
       "      <th>Brand</th>\n",
       "      <th>Site Name</th>\n",
       "      <th>Combo Offers</th>\n",
       "      <th>Stock Availibility</th>\n",
       "      <th>Product Asin</th>\n",
       "      <th>Image Urls</th>\n",
       "    </tr>\n",
       "  </thead>\n",
       "  <tbody>\n",
       "    <tr>\n",
       "      <th>missing_ratio</th>\n",
       "      <td>0</td>\n",
       "      <td>0</td>\n",
       "      <td>0</td>\n",
       "      <td>6.63333</td>\n",
       "      <td>0.29</td>\n",
       "      <td>0</td>\n",
       "      <td>99.8767</td>\n",
       "      <td>0</td>\n",
       "      <td>0</td>\n",
       "      <td>0</td>\n",
       "    </tr>\n",
       "    <tr>\n",
       "      <th>num_diff_vals</th>\n",
       "      <td>30000</td>\n",
       "      <td>6</td>\n",
       "      <td>29630</td>\n",
       "      <td>22584</td>\n",
       "      <td>8454</td>\n",
       "      <td>1</td>\n",
       "      <td>36</td>\n",
       "      <td>2</td>\n",
       "      <td>30000</td>\n",
       "      <td>29578</td>\n",
       "    </tr>\n",
       "    <tr>\n",
       "      <th>diff_vals</th>\n",
       "      <td>[eb49cc038190f6f03c272f79fbbce894, 1657cc30c43...</td>\n",
       "      <td>[Skin Care, Grocery &amp; Gourmet Foods, Bath &amp; Sh...</td>\n",
       "      <td>[ Lee posh Lactic Acid 60% Anti ageing Pigment...</td>\n",
       "      <td>[PROFESSIONAL GRADE Face Peel: this peel stimu...</td>\n",
       "      <td>[Lee Posh, SLB Works, Generic, Harveys, ShiKai...</td>\n",
       "      <td>[Amazon In]</td>\n",
       "      <td>[ Myoc Neem Face Wash: Buy 2 Neem face Wash 10...</td>\n",
       "      <td>[YES, NO]</td>\n",
       "      <td>[B072BGHNJ1, B07QDTZYSJ, B07DCSN8MP, B07GLW9VQ...</td>\n",
       "      <td>[https://images-na.ssl-images-amazon.com/image...</td>\n",
       "    </tr>\n",
       "  </tbody>\n",
       "</table>\n",
       "</div>"
      ],
      "text/plain": [
       "                                                         Uniq Id  \\\n",
       "missing_ratio                                                  0   \n",
       "num_diff_vals                                              30000   \n",
       "diff_vals      [eb49cc038190f6f03c272f79fbbce894, 1657cc30c43...   \n",
       "\n",
       "                                                        Category  \\\n",
       "missing_ratio                                                  0   \n",
       "num_diff_vals                                                  6   \n",
       "diff_vals      [Skin Care, Grocery & Gourmet Foods, Bath & Sh...   \n",
       "\n",
       "                                                   Product Title  \\\n",
       "missing_ratio                                                  0   \n",
       "num_diff_vals                                              29630   \n",
       "diff_vals      [ Lee posh Lactic Acid 60% Anti ageing Pigment...   \n",
       "\n",
       "                                             Product Description  \\\n",
       "missing_ratio                                            6.63333   \n",
       "num_diff_vals                                              22584   \n",
       "diff_vals      [PROFESSIONAL GRADE Face Peel: this peel stimu...   \n",
       "\n",
       "                                                           Brand    Site Name  \\\n",
       "missing_ratio                                               0.29            0   \n",
       "num_diff_vals                                               8454            1   \n",
       "diff_vals      [Lee Posh, SLB Works, Generic, Harveys, ShiKai...  [Amazon In]   \n",
       "\n",
       "                                                    Combo Offers  \\\n",
       "missing_ratio                                            99.8767   \n",
       "num_diff_vals                                                 36   \n",
       "diff_vals      [ Myoc Neem Face Wash: Buy 2 Neem face Wash 10...   \n",
       "\n",
       "              Stock Availibility  \\\n",
       "missing_ratio                  0   \n",
       "num_diff_vals                  2   \n",
       "diff_vals              [YES, NO]   \n",
       "\n",
       "                                                    Product Asin  \\\n",
       "missing_ratio                                                  0   \n",
       "num_diff_vals                                              30000   \n",
       "diff_vals      [B072BGHNJ1, B07QDTZYSJ, B07DCSN8MP, B07GLW9VQ...   \n",
       "\n",
       "                                                      Image Urls  \n",
       "missing_ratio                                                  0  \n",
       "num_diff_vals                                              29578  \n",
       "diff_vals      [https://images-na.ssl-images-amazon.com/image...  "
      ]
     },
     "execution_count": 13,
     "metadata": {},
     "output_type": "execute_result"
    }
   ],
   "source": [
    "cate_col_profiles_df"
   ]
  },
  {
   "cell_type": "code",
   "execution_count": null,
   "metadata": {},
   "outputs": [],
   "source": []
  },
  {
   "cell_type": "markdown",
   "metadata": {},
   "source": [
    "### Nhận xét về \"missing_ratio\", \"num_diff_vals\", \"diff_vals\" của các cột categorical"
   ]
  },
  {
   "cell_type": "markdown",
   "metadata": {},
   "source": []
  },
  {
   "cell_type": "markdown",
   "metadata": {},
   "source": [
    "## "
   ]
  },
  {
   "cell_type": "code",
   "execution_count": 14,
   "metadata": {},
   "outputs": [
    {
     "data": {
      "text/html": [
       "<div>\n",
       "<style scoped>\n",
       "    .dataframe tbody tr th:only-of-type {\n",
       "        vertical-align: middle;\n",
       "    }\n",
       "\n",
       "    .dataframe tbody tr th {\n",
       "        vertical-align: top;\n",
       "    }\n",
       "\n",
       "    .dataframe thead th {\n",
       "        text-align: right;\n",
       "    }\n",
       "</style>\n",
       "<table border=\"1\" class=\"dataframe\">\n",
       "  <thead>\n",
       "    <tr style=\"text-align: right;\">\n",
       "      <th></th>\n",
       "      <th>Uniq Id</th>\n",
       "      <th>Crawl Timestamp</th>\n",
       "      <th>Category</th>\n",
       "      <th>Product Title</th>\n",
       "      <th>Product Description</th>\n",
       "      <th>Brand</th>\n",
       "      <th>Pack Size Or Quantity</th>\n",
       "      <th>Mrp</th>\n",
       "      <th>Price</th>\n",
       "      <th>Site Name</th>\n",
       "      <th>Offers</th>\n",
       "      <th>Combo Offers</th>\n",
       "      <th>Stock Availibility</th>\n",
       "      <th>Product Asin</th>\n",
       "      <th>Image Urls</th>\n",
       "      <th>price is reduced</th>\n",
       "    </tr>\n",
       "  </thead>\n",
       "  <tbody>\n",
       "    <tr>\n",
       "      <th>0</th>\n",
       "      <td>eb49cc038190f6f03c272f79fbbce894</td>\n",
       "      <td>2019-10-30 11:38:11</td>\n",
       "      <td>Skin Care</td>\n",
       "      <td>Lee posh Lactic Acid 60% Anti ageing Pigmenta...</td>\n",
       "      <td>PROFESSIONAL GRADE Face Peel: this peel stimul...</td>\n",
       "      <td>Lee Posh</td>\n",
       "      <td>NaN</td>\n",
       "      <td>2000.0</td>\n",
       "      <td>799.0</td>\n",
       "      <td>Amazon In</td>\n",
       "      <td>0.6005</td>\n",
       "      <td>NaN</td>\n",
       "      <td>YES</td>\n",
       "      <td>B072BGHNJ1</td>\n",
       "      <td>https://images-na.ssl-images-amazon.com/images...</td>\n",
       "      <td>1201.0000</td>\n",
       "    </tr>\n",
       "    <tr>\n",
       "      <th>1</th>\n",
       "      <td>1657cc30c438affede6a5060d6847363</td>\n",
       "      <td>2019-10-31 15:46:54</td>\n",
       "      <td>Skin Care</td>\n",
       "      <td>Branded SLB Works New 1.5mm Titanium 1200 nee...</td>\n",
       "      <td>Item name: 1.5mm titanium 1200 needles microne...</td>\n",
       "      <td>SLB Works</td>\n",
       "      <td>NaN</td>\n",
       "      <td>2040.0</td>\n",
       "      <td>2040.0</td>\n",
       "      <td>Amazon In</td>\n",
       "      <td>0.0000</td>\n",
       "      <td>NaN</td>\n",
       "      <td>YES</td>\n",
       "      <td>B07QDTZYSJ</td>\n",
       "      <td>https://images-na.ssl-images-amazon.com/images...</td>\n",
       "      <td>0.0000</td>\n",
       "    </tr>\n",
       "    <tr>\n",
       "      <th>2</th>\n",
       "      <td>41654633cce38c8650690f6dbac01fd3</td>\n",
       "      <td>2019-10-30 09:53:23</td>\n",
       "      <td>Skin Care</td>\n",
       "      <td>Generic 1 Pc brand snail eye cream remove dar...</td>\n",
       "      <td>Use: eye, item type: cream, net wt: 20g, gzzz:...</td>\n",
       "      <td>Generic</td>\n",
       "      <td>NaN</td>\n",
       "      <td>1824.0</td>\n",
       "      <td>1042.0</td>\n",
       "      <td>Amazon In</td>\n",
       "      <td>0.4287</td>\n",
       "      <td>NaN</td>\n",
       "      <td>YES</td>\n",
       "      <td>B07DCSN8MP</td>\n",
       "      <td>https://images-na.ssl-images-amazon.com/images...</td>\n",
       "      <td>781.9488</td>\n",
       "    </tr>\n",
       "    <tr>\n",
       "      <th>3</th>\n",
       "      <td>08b1bd85c3efc2d7aa556fd79b073382</td>\n",
       "      <td>2019-10-29 16:16:52</td>\n",
       "      <td>Skin Care</td>\n",
       "      <td>Generic Anti Snoring Snore Stopper Sleep Apne...</td>\n",
       "      <td>Prevent the tongue from dropping backward or b...</td>\n",
       "      <td>Generic</td>\n",
       "      <td>NaN</td>\n",
       "      <td>2185.0</td>\n",
       "      <td>1399.0</td>\n",
       "      <td>Amazon In</td>\n",
       "      <td>0.3597</td>\n",
       "      <td>NaN</td>\n",
       "      <td>YES</td>\n",
       "      <td>B07GLW9VQN</td>\n",
       "      <td>https://images-na.ssl-images-amazon.com/images...</td>\n",
       "      <td>785.9445</td>\n",
       "    </tr>\n",
       "    <tr>\n",
       "      <th>4</th>\n",
       "      <td>3ac3f213732512d1d11bb73ab3b1900f</td>\n",
       "      <td>2019-10-31 09:32:06</td>\n",
       "      <td>Grocery &amp; Gourmet Foods</td>\n",
       "      <td>Harveys Crunchy &amp; Creame Gourmet Delicacies C...</td>\n",
       "      <td>Harvey's wafer Cream Wafer 110g. Made in India</td>\n",
       "      <td>Harveys</td>\n",
       "      <td>NaN</td>\n",
       "      <td>594.0</td>\n",
       "      <td>570.0</td>\n",
       "      <td>Amazon In</td>\n",
       "      <td>0.0404</td>\n",
       "      <td>NaN</td>\n",
       "      <td>YES</td>\n",
       "      <td>B07NFYYLF1</td>\n",
       "      <td>https://images-na.ssl-images-amazon.com/images...</td>\n",
       "      <td>23.9976</td>\n",
       "    </tr>\n",
       "    <tr>\n",
       "      <th>...</th>\n",
       "      <td>...</td>\n",
       "      <td>...</td>\n",
       "      <td>...</td>\n",
       "      <td>...</td>\n",
       "      <td>...</td>\n",
       "      <td>...</td>\n",
       "      <td>...</td>\n",
       "      <td>...</td>\n",
       "      <td>...</td>\n",
       "      <td>...</td>\n",
       "      <td>...</td>\n",
       "      <td>...</td>\n",
       "      <td>...</td>\n",
       "      <td>...</td>\n",
       "      <td>...</td>\n",
       "      <td>...</td>\n",
       "    </tr>\n",
       "    <tr>\n",
       "      <th>29995</th>\n",
       "      <td>da4176899c56baa8f68490a3a80669a0</td>\n",
       "      <td>2019-10-31 06:29:39</td>\n",
       "      <td>Skin Care</td>\n",
       "      <td>Pure Organics Skin Lightening Mild Face Scrub...</td>\n",
       "      <td>For a smooth &amp; Flawless complexion this scrub ...</td>\n",
       "      <td>Pure Organics</td>\n",
       "      <td>NaN</td>\n",
       "      <td>249.0</td>\n",
       "      <td>224.0</td>\n",
       "      <td>Amazon In</td>\n",
       "      <td>0.1004</td>\n",
       "      <td>NaN</td>\n",
       "      <td>YES</td>\n",
       "      <td>B07HN4VRBP</td>\n",
       "      <td>https://images-na.ssl-images-amazon.com/images...</td>\n",
       "      <td>24.9996</td>\n",
       "    </tr>\n",
       "    <tr>\n",
       "      <th>29996</th>\n",
       "      <td>67111b7f857f2531f18583dab6fac3c4</td>\n",
       "      <td>2019-10-30 04:10:36</td>\n",
       "      <td>Skin Care</td>\n",
       "      <td>Yashus Moisturizing Anti-aging Gold Collagen ...</td>\n",
       "      <td>Gold eye mask is suitable for people: Eye patt...</td>\n",
       "      <td>YASHUS</td>\n",
       "      <td>NaN</td>\n",
       "      <td>1050.0</td>\n",
       "      <td>1050.0</td>\n",
       "      <td>Amazon In</td>\n",
       "      <td>0.0000</td>\n",
       "      <td>NaN</td>\n",
       "      <td>YES</td>\n",
       "      <td>B07M5JXYTG</td>\n",
       "      <td>https://images-na.ssl-images-amazon.com/images...</td>\n",
       "      <td>0.0000</td>\n",
       "    </tr>\n",
       "    <tr>\n",
       "      <th>29997</th>\n",
       "      <td>6038643bc2adfd0228acf4eeb8c4a4fc</td>\n",
       "      <td>2019-10-30 22:54:39</td>\n",
       "      <td>Skin Care</td>\n",
       "      <td>Elancyl Slim Design Flat Stomach 150ml</td>\n",
       "      <td>NaN</td>\n",
       "      <td>NaN</td>\n",
       "      <td>NaN</td>\n",
       "      <td>7287.0</td>\n",
       "      <td>7287.0</td>\n",
       "      <td>Amazon In</td>\n",
       "      <td>0.0000</td>\n",
       "      <td>NaN</td>\n",
       "      <td>YES</td>\n",
       "      <td>B078S7K42M</td>\n",
       "      <td>https://images-na.ssl-images-amazon.com/images...</td>\n",
       "      <td>0.0000</td>\n",
       "    </tr>\n",
       "    <tr>\n",
       "      <th>29998</th>\n",
       "      <td>3ccde473d9a55023ac0a566bf5448df9</td>\n",
       "      <td>2019-10-31 08:20:12</td>\n",
       "      <td>Hair Care</td>\n",
       "      <td>KEYA SETH AROMATHERAPY, DEVICE OF DROP Alopex...</td>\n",
       "      <td>NaN</td>\n",
       "      <td>KEYA SETH AROMATHERAPY, DEVICE OF DROP</td>\n",
       "      <td>NaN</td>\n",
       "      <td>350.0</td>\n",
       "      <td>350.0</td>\n",
       "      <td>Amazon In</td>\n",
       "      <td>0.0000</td>\n",
       "      <td>NaN</td>\n",
       "      <td>YES</td>\n",
       "      <td>B07KM37RDH</td>\n",
       "      <td>https://images-na.ssl-images-amazon.com/images...</td>\n",
       "      <td>0.0000</td>\n",
       "    </tr>\n",
       "    <tr>\n",
       "      <th>29999</th>\n",
       "      <td>59cd6ea8f1025519a4ce26b2c89fabfc</td>\n",
       "      <td>2019-10-30 07:54:05</td>\n",
       "      <td>Skin Care</td>\n",
       "      <td>Slss Anti Wrinkle Organic Hyaluronic Acid Vit...</td>\n",
       "      <td>With 2.5% active Retinol, Hyaluronic Acid, Vit...</td>\n",
       "      <td>Slss</td>\n",
       "      <td>NaN</td>\n",
       "      <td>2134.0</td>\n",
       "      <td>2134.0</td>\n",
       "      <td>Amazon In</td>\n",
       "      <td>0.0000</td>\n",
       "      <td>NaN</td>\n",
       "      <td>YES</td>\n",
       "      <td>B07LB1L8YR</td>\n",
       "      <td>https://images-na.ssl-images-amazon.com/images...</td>\n",
       "      <td>0.0000</td>\n",
       "    </tr>\n",
       "  </tbody>\n",
       "</table>\n",
       "<p>30000 rows × 16 columns</p>\n",
       "</div>"
      ],
      "text/plain": [
       "                                Uniq Id     Crawl Timestamp  \\\n",
       "0      eb49cc038190f6f03c272f79fbbce894 2019-10-30 11:38:11   \n",
       "1      1657cc30c438affede6a5060d6847363 2019-10-31 15:46:54   \n",
       "2      41654633cce38c8650690f6dbac01fd3 2019-10-30 09:53:23   \n",
       "3      08b1bd85c3efc2d7aa556fd79b073382 2019-10-29 16:16:52   \n",
       "4      3ac3f213732512d1d11bb73ab3b1900f 2019-10-31 09:32:06   \n",
       "...                                 ...                 ...   \n",
       "29995  da4176899c56baa8f68490a3a80669a0 2019-10-31 06:29:39   \n",
       "29996  67111b7f857f2531f18583dab6fac3c4 2019-10-30 04:10:36   \n",
       "29997  6038643bc2adfd0228acf4eeb8c4a4fc 2019-10-30 22:54:39   \n",
       "29998  3ccde473d9a55023ac0a566bf5448df9 2019-10-31 08:20:12   \n",
       "29999  59cd6ea8f1025519a4ce26b2c89fabfc 2019-10-30 07:54:05   \n",
       "\n",
       "                      Category  \\\n",
       "0                    Skin Care   \n",
       "1                    Skin Care   \n",
       "2                    Skin Care   \n",
       "3                    Skin Care   \n",
       "4      Grocery & Gourmet Foods   \n",
       "...                        ...   \n",
       "29995                Skin Care   \n",
       "29996                Skin Care   \n",
       "29997                Skin Care   \n",
       "29998                Hair Care   \n",
       "29999                Skin Care   \n",
       "\n",
       "                                           Product Title  \\\n",
       "0       Lee posh Lactic Acid 60% Anti ageing Pigmenta...   \n",
       "1       Branded SLB Works New 1.5mm Titanium 1200 nee...   \n",
       "2       Generic 1 Pc brand snail eye cream remove dar...   \n",
       "3       Generic Anti Snoring Snore Stopper Sleep Apne...   \n",
       "4       Harveys Crunchy & Creame Gourmet Delicacies C...   \n",
       "...                                                  ...   \n",
       "29995   Pure Organics Skin Lightening Mild Face Scrub...   \n",
       "29996   Yashus Moisturizing Anti-aging Gold Collagen ...   \n",
       "29997            Elancyl Slim Design Flat Stomach 150ml    \n",
       "29998   KEYA SETH AROMATHERAPY, DEVICE OF DROP Alopex...   \n",
       "29999   Slss Anti Wrinkle Organic Hyaluronic Acid Vit...   \n",
       "\n",
       "                                     Product Description  \\\n",
       "0      PROFESSIONAL GRADE Face Peel: this peel stimul...   \n",
       "1      Item name: 1.5mm titanium 1200 needles microne...   \n",
       "2      Use: eye, item type: cream, net wt: 20g, gzzz:...   \n",
       "3      Prevent the tongue from dropping backward or b...   \n",
       "4         Harvey's wafer Cream Wafer 110g. Made in India   \n",
       "...                                                  ...   \n",
       "29995  For a smooth & Flawless complexion this scrub ...   \n",
       "29996  Gold eye mask is suitable for people: Eye patt...   \n",
       "29997                                                NaN   \n",
       "29998                                                NaN   \n",
       "29999  With 2.5% active Retinol, Hyaluronic Acid, Vit...   \n",
       "\n",
       "                                        Brand Pack Size Or Quantity     Mrp  \\\n",
       "0                                    Lee Posh                   NaN  2000.0   \n",
       "1                                   SLB Works                   NaN  2040.0   \n",
       "2                                     Generic                   NaN  1824.0   \n",
       "3                                     Generic                   NaN  2185.0   \n",
       "4                                     Harveys                   NaN   594.0   \n",
       "...                                       ...                   ...     ...   \n",
       "29995                           Pure Organics                   NaN   249.0   \n",
       "29996                                  YASHUS                   NaN  1050.0   \n",
       "29997                                     NaN                   NaN  7287.0   \n",
       "29998  KEYA SETH AROMATHERAPY, DEVICE OF DROP                   NaN   350.0   \n",
       "29999                                    Slss                   NaN  2134.0   \n",
       "\n",
       "        Price  Site Name  Offers Combo Offers Stock Availibility Product Asin  \\\n",
       "0       799.0  Amazon In  0.6005          NaN                YES   B072BGHNJ1   \n",
       "1      2040.0  Amazon In  0.0000          NaN                YES   B07QDTZYSJ   \n",
       "2      1042.0  Amazon In  0.4287          NaN                YES   B07DCSN8MP   \n",
       "3      1399.0  Amazon In  0.3597          NaN                YES   B07GLW9VQN   \n",
       "4       570.0  Amazon In  0.0404          NaN                YES   B07NFYYLF1   \n",
       "...       ...        ...     ...          ...                ...          ...   \n",
       "29995   224.0  Amazon In  0.1004          NaN                YES   B07HN4VRBP   \n",
       "29996  1050.0  Amazon In  0.0000          NaN                YES   B07M5JXYTG   \n",
       "29997  7287.0  Amazon In  0.0000          NaN                YES   B078S7K42M   \n",
       "29998   350.0  Amazon In  0.0000          NaN                YES   B07KM37RDH   \n",
       "29999  2134.0  Amazon In  0.0000          NaN                YES   B07LB1L8YR   \n",
       "\n",
       "                                              Image Urls  price is reduced  \n",
       "0      https://images-na.ssl-images-amazon.com/images...         1201.0000  \n",
       "1      https://images-na.ssl-images-amazon.com/images...            0.0000  \n",
       "2      https://images-na.ssl-images-amazon.com/images...          781.9488  \n",
       "3      https://images-na.ssl-images-amazon.com/images...          785.9445  \n",
       "4      https://images-na.ssl-images-amazon.com/images...           23.9976  \n",
       "...                                                  ...               ...  \n",
       "29995  https://images-na.ssl-images-amazon.com/images...           24.9996  \n",
       "29996  https://images-na.ssl-images-amazon.com/images...            0.0000  \n",
       "29997  https://images-na.ssl-images-amazon.com/images...            0.0000  \n",
       "29998  https://images-na.ssl-images-amazon.com/images...            0.0000  \n",
       "29999  https://images-na.ssl-images-amazon.com/images...            0.0000  \n",
       "\n",
       "[30000 rows x 16 columns]"
      ]
     },
     "execution_count": 14,
     "metadata": {},
     "output_type": "execute_result"
    }
   ],
   "source": [
    "# YOUR CODE HERE\n",
    "series = product_df['Mrp'] *   product_df['Offers']\n",
    "series.name = \"price is reduced\"\n",
    "\n",
    "product_df = pd.concat([product_df,series],axis=1)\n",
    "product_df\n",
    "\n",
    "# top5 = product_df[product_df['Category'].isin([2012,2011,2010])].groupby([\"LocationDescription\"]).size()\n",
    "\n",
    "\n",
    "\n",
    "# product_df\n",
    "# def cal_price_offers()\n",
    "# S_Month = mvt_df['Date'].dt.month\n",
    "# S_Month.name = 'Month'\n",
    "# mvt_df = pd.concat([mvt_df,S_Month],axis = 1)"
   ]
  },
  {
   "cell_type": "code",
   "execution_count": 60,
   "metadata": {},
   "outputs": [
    {
     "data": {
      "text/html": [
       "<div>\n",
       "<style scoped>\n",
       "    .dataframe tbody tr th:only-of-type {\n",
       "        vertical-align: middle;\n",
       "    }\n",
       "\n",
       "    .dataframe tbody tr th {\n",
       "        vertical-align: top;\n",
       "    }\n",
       "\n",
       "    .dataframe thead th {\n",
       "        text-align: right;\n",
       "    }\n",
       "</style>\n",
       "<table border=\"1\" class=\"dataframe\">\n",
       "  <thead>\n",
       "    <tr style=\"text-align: right;\">\n",
       "      <th></th>\n",
       "      <th>Uniq Id</th>\n",
       "      <th>Crawl Timestamp</th>\n",
       "      <th>Category</th>\n",
       "      <th>Product Title</th>\n",
       "      <th>Product Description</th>\n",
       "      <th>Brand</th>\n",
       "      <th>Pack Size Or Quantity</th>\n",
       "      <th>Mrp</th>\n",
       "      <th>Price</th>\n",
       "      <th>Site Name</th>\n",
       "      <th>Offers</th>\n",
       "      <th>Combo Offers</th>\n",
       "      <th>Stock Availibility</th>\n",
       "      <th>Product Asin</th>\n",
       "      <th>Image Urls</th>\n",
       "      <th>price is reduced</th>\n",
       "    </tr>\n",
       "  </thead>\n",
       "  <tbody>\n",
       "    <tr>\n",
       "      <th>19424</th>\n",
       "      <td>a4843400bc89a58ff3ee4342e579d08f</td>\n",
       "      <td>2019-10-28 16:15:35</td>\n",
       "      <td>Skin Care</td>\n",
       "      <td>Petite Shea Hand Cream Lavender 1 oz by The S...</td>\n",
       "      <td>This pure, velvety hand cream is beautifully p...</td>\n",
       "      <td>Soap and Paper Factory</td>\n",
       "      <td>113 g</td>\n",
       "      <td>4939.0</td>\n",
       "      <td>2961.0</td>\n",
       "      <td>Amazon In</td>\n",
       "      <td>0.4005</td>\n",
       "      <td>NaN</td>\n",
       "      <td>YES</td>\n",
       "      <td>B01ELZQ9TA</td>\n",
       "      <td>https://images-na.ssl-images-amazon.com/images...</td>\n",
       "      <td>1978.0695</td>\n",
       "    </tr>\n",
       "  </tbody>\n",
       "</table>\n",
       "</div>"
      ],
      "text/plain": [
       "                                Uniq Id     Crawl Timestamp   Category  \\\n",
       "19424  a4843400bc89a58ff3ee4342e579d08f 2019-10-28 16:15:35  Skin Care   \n",
       "\n",
       "                                           Product Title  \\\n",
       "19424   Petite Shea Hand Cream Lavender 1 oz by The S...   \n",
       "\n",
       "                                     Product Description  \\\n",
       "19424  This pure, velvety hand cream is beautifully p...   \n",
       "\n",
       "                        Brand Pack Size Or Quantity     Mrp   Price  \\\n",
       "19424  Soap and Paper Factory                 113 g  4939.0  2961.0   \n",
       "\n",
       "       Site Name  Offers Combo Offers Stock Availibility Product Asin  \\\n",
       "19424  Amazon In  0.4005          NaN                YES   B01ELZQ9TA   \n",
       "\n",
       "                                              Image Urls  price is reduced  \n",
       "19424  https://images-na.ssl-images-amazon.com/images...         1978.0695  "
      ]
     },
     "execution_count": 60,
     "metadata": {},
     "output_type": "execute_result"
    }
   ],
   "source": [
    "product_df.sample(10)"
   ]
  },
  {
   "cell_type": "code",
   "execution_count": null,
   "metadata": {},
   "outputs": [],
   "source": []
  },
  {
   "cell_type": "code",
   "execution_count": null,
   "metadata": {},
   "outputs": [],
   "source": [
    "\n"
   ]
  },
  {
   "cell_type": "code",
   "execution_count": 39,
   "metadata": {},
   "outputs": [
    {
     "ename": "AttributeError",
     "evalue": "'list' object has no attribute 'sort_values'",
     "output_type": "error",
     "traceback": [
      "\u001b[0;31m---------------------------------------------------------------------------\u001b[0m",
      "\u001b[0;31mAttributeError\u001b[0m                            Traceback (most recent call last)",
      "\u001b[0;32m<ipython-input-39-c9205ac09bb5>\u001b[0m in \u001b[0;36m<module>\u001b[0;34m\u001b[0m\n\u001b[1;32m      7\u001b[0m     \u001b[0mlist_price_reduced_cat\u001b[0m\u001b[0;34m[\u001b[0m\u001b[0mi\u001b[0m\u001b[0;34m]\u001b[0m \u001b[0;34m=\u001b[0m \u001b[0msum_price_reduce_cat\u001b[0m\u001b[0;34m\u001b[0m\u001b[0;34m\u001b[0m\u001b[0m\n\u001b[1;32m      8\u001b[0m \u001b[0;34m\u001b[0m\u001b[0m\n\u001b[0;32m----> 9\u001b[0;31m \u001b[0mprint\u001b[0m\u001b[0;34m(\u001b[0m\u001b[0mlist\u001b[0m\u001b[0;34m(\u001b[0m\u001b[0mlist_price_reduced_cat\u001b[0m\u001b[0;34m)\u001b[0m\u001b[0;34m.\u001b[0m\u001b[0msort_values\u001b[0m\u001b[0;34m(\u001b[0m\u001b[0;34m)\u001b[0m\u001b[0;34m)\u001b[0m\u001b[0;34m\u001b[0m\u001b[0;34m\u001b[0m\u001b[0m\n\u001b[0m",
      "\u001b[0;31mAttributeError\u001b[0m: 'list' object has no attribute 'sort_values'"
     ]
    }
   ],
   "source": [
    "top1 = product_df.groupby(['Category','price is reduced']).size()\n",
    "list_price_reduced_cat = {}\n",
    "\n",
    "for i in pd.Series.unique(product_df['Category']):\n",
    "    all_price_reduce_cat = top1[i].values * top1[i].index\n",
    "    sum_price_reduce_cat = pd.Series(all_price_reduce_cat).sum()\n",
    "    list_price_reduced_cat[i] = sum_price_reduce_cat\n",
    "    \n",
    "print(list_price_reduced_cat)"
   ]
  },
  {
   "cell_type": "code",
   "execution_count": null,
   "metadata": {},
   "outputs": [],
   "source": []
  },
  {
   "cell_type": "code",
   "execution_count": null,
   "metadata": {},
   "outputs": [],
   "source": []
  },
  {
   "cell_type": "code",
   "execution_count": null,
   "metadata": {},
   "outputs": [],
   "source": []
  },
  {
   "cell_type": "code",
   "execution_count": null,
   "metadata": {},
   "outputs": [],
   "source": []
  },
  {
   "cell_type": "code",
   "execution_count": null,
   "metadata": {},
   "outputs": [],
   "source": []
  },
  {
   "cell_type": "code",
   "execution_count": null,
   "metadata": {},
   "outputs": [],
   "source": []
  },
  {
   "cell_type": "code",
   "execution_count": null,
   "metadata": {},
   "outputs": [],
   "source": []
  },
  {
   "cell_type": "code",
   "execution_count": null,
   "metadata": {},
   "outputs": [],
   "source": []
  },
  {
   "cell_type": "code",
   "execution_count": null,
   "metadata": {},
   "outputs": [],
   "source": []
  },
  {
   "cell_type": "code",
   "execution_count": 16,
   "metadata": {},
   "outputs": [],
   "source": [
    "# df = product_df[product_df['Category'] == 'Skin Care']"
   ]
  },
  {
   "cell_type": "code",
   "execution_count": 17,
   "metadata": {},
   "outputs": [
    {
     "data": {
      "text/plain": [
       "Category       Price  \n",
       "Bath & Shower  20.0       1\n",
       "               28.0       1\n",
       "               32.0       1\n",
       "               50.0       1\n",
       "               51.0       1\n",
       "                         ..\n",
       "Skin Care      10848.0    1\n",
       "               10993.0    1\n",
       "               11189.0    1\n",
       "               11970.0    1\n",
       "               12250.0    1\n",
       "Length: 10072, dtype: int64"
      ]
     },
     "execution_count": 17,
     "metadata": {},
     "output_type": "execute_result"
    }
   ],
   "source": [
    "gd_price_cat = product_df.groupby(['Category','Price']).size()\n",
    "gd_price_cat"
   ]
  },
  {
   "cell_type": "code",
   "execution_count": 18,
   "metadata": {},
   "outputs": [],
   "source": [
    "num_products_each_category = pd.Series(product_df['Category'].value_counts(),index = pd.Series.unique(product_df['Category']))"
   ]
  },
  {
   "cell_type": "code",
   "execution_count": 35,
   "metadata": {},
   "outputs": [
    {
     "data": {
      "text/plain": [
       "Skin Care                  15033\n",
       "Grocery & Gourmet Foods     8064\n",
       "Bath & Shower               2140\n",
       "Fragrance                   2107\n",
       "Hair Care                   2459\n",
       "Detergents & Dishwash        197\n",
       "Name: Category, dtype: int64"
      ]
     },
     "execution_count": 35,
     "metadata": {},
     "output_type": "execute_result"
    }
   ],
   "source": [
    "num_products_each_category"
   ]
  },
  {
   "cell_type": "code",
   "execution_count": null,
   "metadata": {},
   "outputs": [],
   "source": []
  },
  {
   "cell_type": "code",
   "execution_count": 37,
   "metadata": {},
   "outputs": [
    {
     "data": {
      "text/plain": [
       "<matplotlib.axes._subplots.AxesSubplot at 0x7f1402016f90>"
      ]
     },
     "execution_count": 37,
     "metadata": {},
     "output_type": "execute_result"
    },
    {
     "data": {
      "image/png": "[encoded data removed]",
      "text/plain": [
       "<Figure size 432x288 with 1 Axes>"
      ]
     },
     "metadata": {
      "needs_background": "light"
     },
     "output_type": "display_data"
    }
   ],
   "source": [
    "# YOUR CODE HERE\n",
    "df = pd.DataFrame({'Category': num_products_each_category.index,\n",
    "                   'NumProducts': np.array(num_products_each_category.values)})\n",
    "\n",
    "df.plot.line(x='Category', y='NumProducts', marker='o' ,rot = 30 )"
   ]
  },
  {
   "cell_type": "code",
   "execution_count": null,
   "metadata": {},
   "outputs": [],
   "source": []
  },
  {
   "cell_type": "code",
   "execution_count": 52,
   "metadata": {},
   "outputs": [
    {
     "data": {
      "text/plain": [
       "Category\n",
       "Bath & Shower              0.978505\n",
       "Detergents & Dishwash      0.994924\n",
       "Fragrance                  0.997152\n",
       "Grocery & Gourmet Foods    0.997272\n",
       "Hair Care                  0.990240\n",
       "Skin Care                  0.974855\n",
       "Name: Total, dtype: float64"
      ]
     },
     "execution_count": 52,
     "metadata": {},
     "output_type": "execute_result"
    }
   ],
   "source": [
    "# YOUR CODE HERE\n",
    "gb_arrest_year = product_df.groupby(['Category','Stock Availibility']).size()\n",
    "\n",
    "\n",
    "gb_arrest_year.name = \"Total\"\n",
    "\n",
    "df_arrest_year = gb_arrest_year.to_frame()\n",
    "df_arrest_year\n",
    "\n",
    "\n",
    "# multi_district_ratio = vl_beat_district[vl_beat_district>=2].count()/vl_beat_district.count()\n",
    "arrest_ratio_each_year = df_arrest_year.groupby(level=0).apply(lambda x:\n",
    "                                                 x / float(x.sum()))\n",
    "arrest_ratio_each_year = arrest_ratio_each_year.reset_index()\n",
    "# arrest_ratio_each_year = arrest_ratio_each_year[==True]\n",
    "arrest_ratio_each_year = arrest_ratio_each_year[arrest_ratio_each_year['Stock Availibility']==\"YES\"]\n",
    "arrest_ratio_each_year = arrest_ratio_each_year.set_index('Category')\n",
    "\n",
    "# index = arrest_ratio_each_year['Year']\n",
    "arrest_ratio_each_year = arrest_ratio_each_year['Total']\n",
    "# arrest_ratio_each_year = arrest_ratio_each_year.reindex(index)\n",
    "arrest_ratio_each_year"
   ]
  },
  {
   "cell_type": "code",
   "execution_count": 59,
   "metadata": {},
   "outputs": [
    {
     "data": {
      "text/plain": [
       "<matplotlib.axes._subplots.AxesSubplot at 0x7f1401b3ae50>"
      ]
     },
     "execution_count": 59,
     "metadata": {},
     "output_type": "execute_result"
    },
    {
     "data": {
      "image/png": "[encoded data removed]",
      "text/plain": [
       "<Figure size 432x288 with 1 Axes>"
      ]
     },
     "metadata": {
      "needs_background": "light"
     },
     "output_type": "display_data"
    }
   ],
   "source": [
    "# YOUR CODE HERE\n",
    "df = pd.DataFrame({'Year': arrest_ratio_each_year.index,\n",
    "                   'ArrestRatio': arrest_ratio_each_year.values})\n",
    "\n",
    "df.plot.line(x='Year', y='ArrestRatio', marker='o' , ylim = (0,2) ,rot =30)\n"
   ]
  },
  {
   "cell_type": "code",
   "execution_count": null,
   "metadata": {},
   "outputs": [],
   "source": []
  },
  {
   "cell_type": "code",
   "execution_count": null,
   "metadata": {},
   "outputs": [],
   "source": []
  },
  {
   "cell_type": "code",
   "execution_count": null,
   "metadata": {},
   "outputs": [],
   "source": []
  },
  {
   "cell_type": "code",
   "execution_count": null,
   "metadata": {},
   "outputs": [],
   "source": []
  },
  {
   "cell_type": "code",
   "execution_count": null,
   "metadata": {},
   "outputs": [],
   "source": []
  },
  {
   "cell_type": "code",
   "execution_count": null,
   "metadata": {},
   "outputs": [],
   "source": []
  },
  {
   "cell_type": "code",
   "execution_count": null,
   "metadata": {},
   "outputs": [],
   "source": []
  },
  {
   "cell_type": "code",
   "execution_count": null,
   "metadata": {},
   "outputs": [],
   "source": []
  },
  {
   "cell_type": "code",
   "execution_count": null,
   "metadata": {},
   "outputs": [],
   "source": []
  },
  {
   "cell_type": "code",
   "execution_count": null,
   "metadata": {},
   "outputs": [],
   "source": []
  },
  {
   "cell_type": "code",
   "execution_count": null,
   "metadata": {},
   "outputs": [],
   "source": []
  },
  {
   "cell_type": "code",
   "execution_count": null,
   "metadata": {},
   "outputs": [],
   "source": []
  },
  {
   "cell_type": "code",
   "execution_count": null,
   "metadata": {},
   "outputs": [],
   "source": []
  },
  {
   "cell_type": "code",
   "execution_count": null,
   "metadata": {},
   "outputs": [],
   "source": []
  },
  {
   "cell_type": "code",
   "execution_count": 46,
   "metadata": {},
   "outputs": [
    {
     "data": {
      "text/plain": [
       "Series([], Name: Total, dtype: float64)"
      ]
     },
     "execution_count": 46,
     "metadata": {},
     "output_type": "execute_result"
    }
   ],
   "source": [
    "arrest_ratio_each_year"
   ]
  },
  {
   "cell_type": "code",
   "execution_count": null,
   "metadata": {},
   "outputs": [],
   "source": []
  },
  {
   "cell_type": "code",
   "execution_count": null,
   "metadata": {},
   "outputs": [],
   "source": []
  },
  {
   "cell_type": "code",
   "execution_count": null,
   "metadata": {},
   "outputs": [],
   "source": []
  },
  {
   "cell_type": "code",
   "execution_count": null,
   "metadata": {},
   "outputs": [],
   "source": []
  },
  {
   "cell_type": "code",
   "execution_count": null,
   "metadata": {},
   "outputs": [],
   "source": []
  },
  {
   "cell_type": "code",
   "execution_count": null,
   "metadata": {},
   "outputs": [],
   "source": []
  },
  {
   "cell_type": "code",
   "execution_count": null,
   "metadata": {},
   "outputs": [],
   "source": []
  },
  {
   "cell_type": "code",
   "execution_count": null,
   "metadata": {},
   "outputs": [],
   "source": []
  },
  {
   "cell_type": "code",
   "execution_count": null,
   "metadata": {},
   "outputs": [],
   "source": []
  },
  {
   "cell_type": "code",
   "execution_count": null,
   "metadata": {},
   "outputs": [],
   "source": []
  },
  {
   "cell_type": "code",
   "execution_count": null,
   "metadata": {},
   "outputs": [],
   "source": []
  },
  {
   "cell_type": "code",
   "execution_count": null,
   "metadata": {},
   "outputs": [],
   "source": []
  },
  {
   "cell_type": "code",
   "execution_count": null,
   "metadata": {},
   "outputs": [],
   "source": []
  },
  {
   "cell_type": "code",
   "execution_count": null,
   "metadata": {},
   "outputs": [],
   "source": []
  },
  {
   "cell_type": "code",
   "execution_count": null,
   "metadata": {},
   "outputs": [],
   "source": []
  },
  {
   "cell_type": "code",
   "execution_count": null,
   "metadata": {},
   "outputs": [],
   "source": []
  },
  {
   "cell_type": "code",
   "execution_count": null,
   "metadata": {},
   "outputs": [],
   "source": []
  },
  {
   "cell_type": "code",
   "execution_count": null,
   "metadata": {},
   "outputs": [],
   "source": []
  },
  {
   "cell_type": "code",
   "execution_count": null,
   "metadata": {},
   "outputs": [],
   "source": []
  },
  {
   "cell_type": "code",
   "execution_count": null,
   "metadata": {},
   "outputs": [],
   "source": []
  },
  {
   "cell_type": "code",
   "execution_count": null,
   "metadata": {},
   "outputs": [],
   "source": []
  },
  {
   "cell_type": "code",
   "execution_count": null,
   "metadata": {},
   "outputs": [],
   "source": []
  },
  {
   "cell_type": "code",
   "execution_count": null,
   "metadata": {},
   "outputs": [],
   "source": []
  },
  {
   "cell_type": "code",
   "execution_count": null,
   "metadata": {},
   "outputs": [],
   "source": []
  },
  {
   "cell_type": "code",
   "execution_count": null,
   "metadata": {},
   "outputs": [],
   "source": []
  },
  {
   "cell_type": "code",
   "execution_count": null,
   "metadata": {},
   "outputs": [],
   "source": []
  },
  {
   "cell_type": "code",
   "execution_count": null,
   "metadata": {},
   "outputs": [],
   "source": []
  },
  {
   "cell_type": "code",
   "execution_count": null,
   "metadata": {},
   "outputs": [],
   "source": []
  },
  {
   "cell_type": "code",
   "execution_count": null,
   "metadata": {},
   "outputs": [],
   "source": []
  },
  {
   "cell_type": "code",
   "execution_count": null,
   "metadata": {},
   "outputs": [],
   "source": []
  },
  {
   "cell_type": "code",
   "execution_count": null,
   "metadata": {},
   "outputs": [],
   "source": []
  },
  {
   "cell_type": "code",
   "execution_count": null,
   "metadata": {},
   "outputs": [],
   "source": []
  },
  {
   "cell_type": "code",
   "execution_count": null,
   "metadata": {},
   "outputs": [],
   "source": []
  },
  {
   "cell_type": "code",
   "execution_count": null,
   "metadata": {},
   "outputs": [],
   "source": []
  },
  {
   "cell_type": "code",
   "execution_count": null,
   "metadata": {},
   "outputs": [],
   "source": []
  },
  {
   "cell_type": "code",
   "execution_count": null,
   "metadata": {},
   "outputs": [],
   "source": []
  },
  {
   "cell_type": "code",
   "execution_count": null,
   "metadata": {},
   "outputs": [],
   "source": []
  },
  {
   "cell_type": "code",
   "execution_count": null,
   "metadata": {},
   "outputs": [],
   "source": []
  },
  {
   "cell_type": "code",
   "execution_count": null,
   "metadata": {},
   "outputs": [],
   "source": []
  },
  {
   "cell_type": "code",
   "execution_count": null,
   "metadata": {},
   "outputs": [],
   "source": []
  },
  {
   "cell_type": "code",
   "execution_count": null,
   "metadata": {},
   "outputs": [],
   "source": []
  },
  {
   "cell_type": "code",
   "execution_count": null,
   "metadata": {},
   "outputs": [],
   "source": []
  },
  {
   "cell_type": "code",
   "execution_count": 20,
   "metadata": {},
   "outputs": [],
   "source": [
    "top1_locs = top1.sort_values(ascending = True)[:10]\n"
   ]
  },
  {
   "cell_type": "code",
   "execution_count": null,
   "metadata": {},
   "outputs": [],
   "source": []
  },
  {
   "cell_type": "code",
   "execution_count": null,
   "metadata": {},
   "outputs": [],
   "source": []
  },
  {
   "cell_type": "code",
   "execution_count": 21,
   "metadata": {},
   "outputs": [
    {
     "data": {
      "text/plain": [
       "Category   price is reduced\n",
       "Skin Care  75704.0000          1\n",
       "           250.0050            1\n",
       "           250.0100            1\n",
       "           250.0146            1\n",
       "           250.0225            1\n",
       "           2592.1283           1\n",
       "           250.0305            1\n",
       "           250.0323            1\n",
       "           2600.6400           1\n",
       "           250.9850            1\n",
       "dtype: int64"
      ]
     },
     "execution_count": 21,
     "metadata": {},
     "output_type": "execute_result"
    }
   ],
   "source": [
    "top1_locs"
   ]
  },
  {
   "cell_type": "code",
   "execution_count": null,
   "metadata": {},
   "outputs": [],
   "source": []
  },
  {
   "cell_type": "code",
   "execution_count": null,
   "metadata": {},
   "outputs": [],
   "source": []
  },
  {
   "cell_type": "code",
   "execution_count": null,
   "metadata": {},
   "outputs": [],
   "source": []
  },
  {
   "cell_type": "code",
   "execution_count": null,
   "metadata": {},
   "outputs": [],
   "source": []
  },
  {
   "cell_type": "code",
   "execution_count": null,
   "metadata": {},
   "outputs": [],
   "source": []
  },
  {
   "cell_type": "code",
   "execution_count": null,
   "metadata": {},
   "outputs": [],
   "source": []
  },
  {
   "cell_type": "code",
   "execution_count": null,
   "metadata": {},
   "outputs": [],
   "source": []
  },
  {
   "cell_type": "code",
   "execution_count": null,
   "metadata": {},
   "outputs": [],
   "source": []
  },
  {
   "cell_type": "code",
   "execution_count": null,
   "metadata": {},
   "outputs": [],
   "source": []
  },
  {
   "cell_type": "code",
   "execution_count": null,
   "metadata": {},
   "outputs": [],
   "source": []
  },
  {
   "cell_type": "code",
   "execution_count": null,
   "metadata": {},
   "outputs": [],
   "source": []
  },
  {
   "cell_type": "code",
   "execution_count": null,
   "metadata": {},
   "outputs": [],
   "source": []
  },
  {
   "cell_type": "code",
   "execution_count": null,
   "metadata": {},
   "outputs": [],
   "source": []
  },
  {
   "cell_type": "markdown",
   "metadata": {},
   "source": [
    "## Đưa ra câu hỏi có ý nghĩa cần trả lời"
   ]
  },
  {
   "cell_type": "markdown",
   "metadata": {},
   "source": [
    "### Với các sản phẩm ở mỗi tháng, tỉ lệ sản phẩm có hàng tồn kho tính đến thời điểm dữ liệu được thu thập là bao nhiêu?\n",
    "\n",
    "Để trả lời cho câu hỏi này, bạn sẽ làm như sau:\n",
    "- Bước 1: Tính tỉ lệ (từ 0 đến 1) bắt được thủ phạm của mỗi năm (năm ở đây là năm xảy ra các vụ phạm tội, còn bắt được hay không bắt được là tính tới thời điểm dữ liệu được thu thập). Bạn lưu kết quả vào series `arrest_ratio_each_year`, trong đó index là năm.\n",
    "- Bước 2: Từ kết quả ở trên, bạn vẽ đồ thị dạng line, trong đó trục hoành là năm và trục tung là tỉ lệ bị bắt. Bạn dùng thêm marker là điểm tròn để cho thấy rõ các điểm dữ liệu. Bạn đặt tên trục hoành là \"Year\" và tên trục tung là \"ArrestRatio\". Ngoài ra, bạn cũng cần chỉnh miền giá trị của trục tung là từ 0 đến 1."
   ]
  },
  {
   "cell_type": "code",
   "execution_count": null,
   "metadata": {},
   "outputs": [],
   "source": []
  },
  {
   "cell_type": "markdown",
   "metadata": {},
   "source": [
    "### Số lượng thể loại sản phẩm thay đổi như thế nào theo tháng?\n",
    "Để trả lời cho câu hỏi này, bạn sẽ làm như sau:\n",
    "- Bước 1: Tính số sản phầm của mỗi tháng. Bạn lưu kết quả vào series `num_product_each_month`, trong đó index là tháng.\n",
    "- Bước 2: Từ kết quả ở trên, bạn vẽ đồ thị dạng line, trong đó trục hoành là tháng và trục tung là số sản phầm của mỗi tháng. Bạn dùng thêm marker là điểm tròn để cho thấy rõ các điểm dữ liệu. Bạn đặt tên trục hoành là \"Month\" và tên trục tung là \"NumProducts\".\n"
   ]
  },
  {
   "cell_type": "code",
   "execution_count": null,
   "metadata": {},
   "outputs": [],
   "source": []
  },
  {
   "cell_type": "markdown",
   "metadata": {},
   "source": [
    "Bạn sẽ thấy tỉ lệ bị bắt nhìn chung là giảm trong các năm gần đây. Tại sao lại như vậy? Nói chung là ta không biết chắc được. Nhưng bạn thử suy nghĩ và đưa ra một giả thuyết để giải thích cho xu hướng này dựa vào thông tin sau: năm ở đây là năm xảy ra vụ phạm tội, bắt được hay không bắt được là tính đến thời điểm dữ liệu được thu thập (dữ liệu này được thu thập vào khoảng năm 2012-2013, là thời điểm mở của khóa học \"The Analytics Edge\")."
   ]
  },
  {
   "cell_type": "markdown",
   "metadata": {},
   "source": [
    "### 2 loại sản phẩm nào thường được thu thập từ những dịp mùa xuân đến hết mùa hè?(từ thăng 1 đến tháng 6) (0.75đ)\n",
    "\n",
    "Loại địa điểm ở đây được lưu trong cột \"LocationDescription\". Năm loại địa điểm trong câu hỏi là không tính \"OTHER\". Bạn lưu kết quả vào list `top5_locs` theo thứ tự phần tử đầu tiên là có nhiều vụ phạm tội nhất, phần tử thứ hai là có nhiều vụ phạm tội nhì, ..."
   ]
  },
  {
   "cell_type": "code",
   "execution_count": null,
   "metadata": {},
   "outputs": [],
   "source": []
  },
  {
   "cell_type": "markdown",
   "metadata": {},
   "source": [
    "### Trong 6 tháng đầu năm của năm 2019, số lượng sản phẩm thay đổi như thế nào theo tháng? (1đ)\n",
    "\n",
    "Để trả lời cho câu hỏi này, bạn sẽ làm như sau:\n",
    "- Bước 1: Tính dataframe `num_thefts_each_month_df` gồm có 3 cột (tên là 2010, 2011, 2012) ứng với số lượng vụ phạm tội theo các tháng của 3 năm, và 12 dòng (tên là 1, 2, ..., 12) ứng với 12 tháng.  \n",
    "- Bước 2: Từ kết quả ở trên, bạn vẽ 3 đường dạng line (ứng với 3 năm) trên cùng một đồ thị, trong đó trục hoành là tháng và trục tung là số lượng vụ phạm tội. Bạn dùng thêm marker là điểm tròn để cho thấy rõ các điểm dữ liệu. Bạn đặt tên trục hoành là \"Month\" và tên trục tung là \"NumThefts\". Bạn cũng cần dùng legend để ghi chú là đường nào thì ứng với năm nào."
   ]
  },
  {
   "cell_type": "code",
   "execution_count": null,
   "metadata": {},
   "outputs": [],
   "source": []
  },
  {
   "cell_type": "markdown",
   "metadata": {},
   "source": [
    "Bạn có thể thấy xu hướng của các loại sản phẩm có sự thay đổi rõ của 6 tháng đầu. Tại sao lại như vậy?"
   ]
  },
  {
   "cell_type": "markdown",
   "metadata": {},
   "source": [
    "## Tiền xử lý (nếu cần) + phân tích dữ liệu để trả lời cho câu hỏi 1"
   ]
  },
  {
   "cell_type": "code",
   "execution_count": null,
   "metadata": {},
   "outputs": [],
   "source": []
  },
  {
   "cell_type": "markdown",
   "metadata": {},
   "source": [
    "## Tiền xử lý (nếu cần) + phân tích dữ liệu để trả lời cho câu hỏi 2"
   ]
  },
  {
   "cell_type": "code",
   "execution_count": null,
   "metadata": {},
   "outputs": [],
   "source": []
  }
 ],
 "metadata": {
  "kernelspec": {
   "display_name": "Python 3",
   "language": "python",
   "name": "python3"
  },
  "language_info": {
   "codemirror_mode": {
    "name": "ipython",
    "version": 3
   },
   "file_extension": ".py",
   "mimetype": "text/x-python",
   "name": "python",
   "nbconvert_exporter": "python",
   "pygments_lexer": "ipython3",
   "version": "3.7.6"
  }
 },
 "nbformat": 4,
 "nbformat_minor": 5
}
