{
 "cells": [
  {
   "cell_type": "markdown",
   "id": "1c7f5c36",
   "metadata": {},
   "source": [
    "# Đồ Án Cuối Kỳ"
   ]
  },
  {
   "cell_type": "markdown",
   "id": "706dc657",
   "metadata": {},
   "source": [
    "## Môi trường code"
   ]
  },
  {
   "cell_type": "code",
   "execution_count": 2,
   "id": "b03384ae",
   "metadata": {},
   "outputs": [
    {
     "data": {
      "text/plain": [
       "'/home/uyen_trang/miniconda3/envs/min_ds-env/bin/python'"
      ]
     },
     "execution_count": 2,
     "metadata": {},
     "output_type": "execute_result"
    }
   ],
   "source": [
    "import sys\n",
    "sys.executable"
   ]
  },
  {
   "cell_type": "markdown",
   "id": "9d134961",
   "metadata": {},
   "source": [
    "## Import các thư viện cần thiết"
   ]
  },
  {
   "cell_type": "code",
   "execution_count": 3,
   "id": "b4458189",
   "metadata": {},
   "outputs": [],
   "source": [
    "import pandas as pd"
   ]
  },
  {
   "cell_type": "markdown",
   "id": "829831c8",
   "metadata": {},
   "source": [
    "## Thu thập dữ liệu"
   ]
  },
  {
   "cell_type": "markdown",
   "id": "62164149",
   "metadata": {},
   "source": [
    "Dữ liệu được thu thập trên Kaggle"
   ]
  },
  {
   "cell_type": "markdown",
   "id": "5eb6e5e4",
   "metadata": {},
   "source": [
    "## Khám phá dữ liệu"
   ]
  },
  {
   "cell_type": "markdown",
   "id": "f7ba8cc5",
   "metadata": {},
   "source": [
    "## Đọc dữ liệu từ file csv"
   ]
  },
  {
   "cell_type": "code",
   "execution_count": 5,
   "id": "f5a42cbf",
   "metadata": {},
   "outputs": [
    {
     "data": {
      "text/html": [
       "<div>\n",
       "<style scoped>\n",
       "    .dataframe tbody tr th:only-of-type {\n",
       "        vertical-align: middle;\n",
       "    }\n",
       "\n",
       "    .dataframe tbody tr th {\n",
       "        vertical-align: top;\n",
       "    }\n",
       "\n",
       "    .dataframe thead th {\n",
       "        text-align: right;\n",
       "    }\n",
       "</style>\n",
       "<table border=\"1\" class=\"dataframe\">\n",
       "  <thead>\n",
       "    <tr style=\"text-align: right;\">\n",
       "      <th></th>\n",
       "      <th>Uniq Id</th>\n",
       "      <th>Crawl Timestamp</th>\n",
       "      <th>Category</th>\n",
       "      <th>Product Title</th>\n",
       "      <th>Product Description</th>\n",
       "      <th>Brand</th>\n",
       "      <th>Pack Size Or Quantity</th>\n",
       "      <th>Mrp</th>\n",
       "      <th>Price</th>\n",
       "      <th>Site Name</th>\n",
       "      <th>Offers</th>\n",
       "      <th>Combo Offers</th>\n",
       "      <th>Stock Availibility</th>\n",
       "      <th>Product Asin</th>\n",
       "      <th>Image Urls</th>\n",
       "    </tr>\n",
       "  </thead>\n",
       "  <tbody>\n",
       "    <tr>\n",
       "      <th>0</th>\n",
       "      <td>eb49cc038190f6f03c272f79fbbce894</td>\n",
       "      <td>2019-10-30 11:38:11 +0000</td>\n",
       "      <td>Skin Care</td>\n",
       "      <td>Lee posh Lactic Acid 60% Anti ageing Pigmenta...</td>\n",
       "      <td>PROFESSIONAL GRADE Face Peel: this peel stimul...</td>\n",
       "      <td>Lee Posh</td>\n",
       "      <td>NaN</td>\n",
       "      <td>2000.00</td>\n",
       "      <td>799.00</td>\n",
       "      <td>Amazon In</td>\n",
       "      <td>60.05%</td>\n",
       "      <td>NaN</td>\n",
       "      <td>YES</td>\n",
       "      <td>B072BGHNJ1</td>\n",
       "      <td>https://images-na.ssl-images-amazon.com/images...</td>\n",
       "    </tr>\n",
       "    <tr>\n",
       "      <th>1</th>\n",
       "      <td>1657cc30c438affede6a5060d6847363</td>\n",
       "      <td>2019-10-31 15:46:54 +0000</td>\n",
       "      <td>Skin Care</td>\n",
       "      <td>Branded SLB Works New 1.5mm Titanium 1200 nee...</td>\n",
       "      <td>Item name: 1.5mm titanium 1200 needles microne...</td>\n",
       "      <td>SLB Works</td>\n",
       "      <td>NaN</td>\n",
       "      <td>2040.00</td>\n",
       "      <td>2040.00</td>\n",
       "      <td>Amazon In</td>\n",
       "      <td>0%</td>\n",
       "      <td>NaN</td>\n",
       "      <td>YES</td>\n",
       "      <td>B07QDTZYSJ</td>\n",
       "      <td>https://images-na.ssl-images-amazon.com/images...</td>\n",
       "    </tr>\n",
       "    <tr>\n",
       "      <th>2</th>\n",
       "      <td>41654633cce38c8650690f6dbac01fd3</td>\n",
       "      <td>2019-10-30 09:53:23 +0000</td>\n",
       "      <td>Skin Care</td>\n",
       "      <td>Generic 1 Pc brand snail eye cream remove dar...</td>\n",
       "      <td>Use: eye, item type: cream, net wt: 20g, gzzz:...</td>\n",
       "      <td>Generic</td>\n",
       "      <td>NaN</td>\n",
       "      <td>1824.00</td>\n",
       "      <td>1042.00</td>\n",
       "      <td>Amazon In</td>\n",
       "      <td>42.87%</td>\n",
       "      <td>NaN</td>\n",
       "      <td>YES</td>\n",
       "      <td>B07DCSN8MP</td>\n",
       "      <td>https://images-na.ssl-images-amazon.com/images...</td>\n",
       "    </tr>\n",
       "    <tr>\n",
       "      <th>3</th>\n",
       "      <td>08b1bd85c3efc2d7aa556fd79b073382</td>\n",
       "      <td>2019-10-29 16:16:52 +0000</td>\n",
       "      <td>Skin Care</td>\n",
       "      <td>Generic Anti Snoring Snore Stopper Sleep Apne...</td>\n",
       "      <td>Prevent the tongue from dropping backward or b...</td>\n",
       "      <td>Generic</td>\n",
       "      <td>NaN</td>\n",
       "      <td>2185.00</td>\n",
       "      <td>1399.00</td>\n",
       "      <td>Amazon In</td>\n",
       "      <td>35.97%</td>\n",
       "      <td>NaN</td>\n",
       "      <td>YES</td>\n",
       "      <td>B07GLW9VQN</td>\n",
       "      <td>https://images-na.ssl-images-amazon.com/images...</td>\n",
       "    </tr>\n",
       "    <tr>\n",
       "      <th>4</th>\n",
       "      <td>3ac3f213732512d1d11bb73ab3b1900f</td>\n",
       "      <td>2019-10-31 09:32:06 +0000</td>\n",
       "      <td>Grocery &amp; Gourmet Foods</td>\n",
       "      <td>Harveys Crunchy &amp; Creame Gourmet Delicacies C...</td>\n",
       "      <td>Harvey's wafer Cream Wafer 110g. Made in India</td>\n",
       "      <td>Harveys</td>\n",
       "      <td>NaN</td>\n",
       "      <td>594.00</td>\n",
       "      <td>570.00</td>\n",
       "      <td>Amazon In</td>\n",
       "      <td>4.04%</td>\n",
       "      <td>NaN</td>\n",
       "      <td>YES</td>\n",
       "      <td>B07NFYYLF1</td>\n",
       "      <td>https://images-na.ssl-images-amazon.com/images...</td>\n",
       "    </tr>\n",
       "    <tr>\n",
       "      <th>...</th>\n",
       "      <td>...</td>\n",
       "      <td>...</td>\n",
       "      <td>...</td>\n",
       "      <td>...</td>\n",
       "      <td>...</td>\n",
       "      <td>...</td>\n",
       "      <td>...</td>\n",
       "      <td>...</td>\n",
       "      <td>...</td>\n",
       "      <td>...</td>\n",
       "      <td>...</td>\n",
       "      <td>...</td>\n",
       "      <td>...</td>\n",
       "      <td>...</td>\n",
       "      <td>...</td>\n",
       "    </tr>\n",
       "    <tr>\n",
       "      <th>29995</th>\n",
       "      <td>da4176899c56baa8f68490a3a80669a0</td>\n",
       "      <td>2019-10-31 06:29:39 +0000</td>\n",
       "      <td>Skin Care</td>\n",
       "      <td>Pure Organics Skin Lightening Mild Face Scrub...</td>\n",
       "      <td>For a smooth &amp; Flawless complexion this scrub ...</td>\n",
       "      <td>Pure Organics</td>\n",
       "      <td>NaN</td>\n",
       "      <td>249.00</td>\n",
       "      <td>224.00</td>\n",
       "      <td>Amazon In</td>\n",
       "      <td>10.04%</td>\n",
       "      <td>NaN</td>\n",
       "      <td>YES</td>\n",
       "      <td>B07HN4VRBP</td>\n",
       "      <td>https://images-na.ssl-images-amazon.com/images...</td>\n",
       "    </tr>\n",
       "    <tr>\n",
       "      <th>29996</th>\n",
       "      <td>67111b7f857f2531f18583dab6fac3c4</td>\n",
       "      <td>2019-10-30 04:10:36 +0000</td>\n",
       "      <td>Skin Care</td>\n",
       "      <td>Yashus Moisturizing Anti-aging Gold Collagen ...</td>\n",
       "      <td>Gold eye mask is suitable for people: Eye patt...</td>\n",
       "      <td>YASHUS</td>\n",
       "      <td>NaN</td>\n",
       "      <td>1050.00</td>\n",
       "      <td>1050.00</td>\n",
       "      <td>Amazon In</td>\n",
       "      <td>0%</td>\n",
       "      <td>NaN</td>\n",
       "      <td>YES</td>\n",
       "      <td>B07M5JXYTG</td>\n",
       "      <td>https://images-na.ssl-images-amazon.com/images...</td>\n",
       "    </tr>\n",
       "    <tr>\n",
       "      <th>29997</th>\n",
       "      <td>6038643bc2adfd0228acf4eeb8c4a4fc</td>\n",
       "      <td>2019-10-30 22:54:39 +0000</td>\n",
       "      <td>Skin Care</td>\n",
       "      <td>Elancyl Slim Design Flat Stomach 150ml</td>\n",
       "      <td>NaN</td>\n",
       "      <td>NaN</td>\n",
       "      <td>NaN</td>\n",
       "      <td>7287.00</td>\n",
       "      <td>7287.00</td>\n",
       "      <td>Amazon In</td>\n",
       "      <td>0%</td>\n",
       "      <td>NaN</td>\n",
       "      <td>YES</td>\n",
       "      <td>B078S7K42M</td>\n",
       "      <td>https://images-na.ssl-images-amazon.com/images...</td>\n",
       "    </tr>\n",
       "    <tr>\n",
       "      <th>29998</th>\n",
       "      <td>3ccde473d9a55023ac0a566bf5448df9</td>\n",
       "      <td>2019-10-31 08:20:12 +0000</td>\n",
       "      <td>Hair Care</td>\n",
       "      <td>KEYA SETH AROMATHERAPY, DEVICE OF DROP Alopex...</td>\n",
       "      <td>NaN</td>\n",
       "      <td>KEYA SETH AROMATHERAPY, DEVICE OF DROP</td>\n",
       "      <td>NaN</td>\n",
       "      <td>350.00</td>\n",
       "      <td>350.00</td>\n",
       "      <td>Amazon In</td>\n",
       "      <td>0%</td>\n",
       "      <td>NaN</td>\n",
       "      <td>YES</td>\n",
       "      <td>B07KM37RDH</td>\n",
       "      <td>https://images-na.ssl-images-amazon.com/images...</td>\n",
       "    </tr>\n",
       "    <tr>\n",
       "      <th>29999</th>\n",
       "      <td>59cd6ea8f1025519a4ce26b2c89fabfc</td>\n",
       "      <td>2019-10-30 07:54:05 +0000</td>\n",
       "      <td>Skin Care</td>\n",
       "      <td>Slss Anti Wrinkle Organic Hyaluronic Acid Vit...</td>\n",
       "      <td>With 2.5% active Retinol, Hyaluronic Acid, Vit...</td>\n",
       "      <td>Slss</td>\n",
       "      <td>NaN</td>\n",
       "      <td>2134.00</td>\n",
       "      <td>2134.00</td>\n",
       "      <td>Amazon In</td>\n",
       "      <td>0%</td>\n",
       "      <td>NaN</td>\n",
       "      <td>YES</td>\n",
       "      <td>B07LB1L8YR</td>\n",
       "      <td>https://images-na.ssl-images-amazon.com/images...</td>\n",
       "    </tr>\n",
       "  </tbody>\n",
       "</table>\n",
       "<p>30000 rows × 15 columns</p>\n",
       "</div>"
      ],
      "text/plain": [
       "                                Uniq Id            Crawl Timestamp  \\\n",
       "0      eb49cc038190f6f03c272f79fbbce894  2019-10-30 11:38:11 +0000   \n",
       "1      1657cc30c438affede6a5060d6847363  2019-10-31 15:46:54 +0000   \n",
       "2      41654633cce38c8650690f6dbac01fd3  2019-10-30 09:53:23 +0000   \n",
       "3      08b1bd85c3efc2d7aa556fd79b073382  2019-10-29 16:16:52 +0000   \n",
       "4      3ac3f213732512d1d11bb73ab3b1900f  2019-10-31 09:32:06 +0000   \n",
       "...                                 ...                        ...   \n",
       "29995  da4176899c56baa8f68490a3a80669a0  2019-10-31 06:29:39 +0000   \n",
       "29996  67111b7f857f2531f18583dab6fac3c4  2019-10-30 04:10:36 +0000   \n",
       "29997  6038643bc2adfd0228acf4eeb8c4a4fc  2019-10-30 22:54:39 +0000   \n",
       "29998  3ccde473d9a55023ac0a566bf5448df9  2019-10-31 08:20:12 +0000   \n",
       "29999  59cd6ea8f1025519a4ce26b2c89fabfc  2019-10-30 07:54:05 +0000   \n",
       "\n",
       "                      Category  \\\n",
       "0                    Skin Care   \n",
       "1                    Skin Care   \n",
       "2                    Skin Care   \n",
       "3                    Skin Care   \n",
       "4      Grocery & Gourmet Foods   \n",
       "...                        ...   \n",
       "29995                Skin Care   \n",
       "29996                Skin Care   \n",
       "29997                Skin Care   \n",
       "29998                Hair Care   \n",
       "29999                Skin Care   \n",
       "\n",
       "                                           Product Title  \\\n",
       "0       Lee posh Lactic Acid 60% Anti ageing Pigmenta...   \n",
       "1       Branded SLB Works New 1.5mm Titanium 1200 nee...   \n",
       "2       Generic 1 Pc brand snail eye cream remove dar...   \n",
       "3       Generic Anti Snoring Snore Stopper Sleep Apne...   \n",
       "4       Harveys Crunchy & Creame Gourmet Delicacies C...   \n",
       "...                                                  ...   \n",
       "29995   Pure Organics Skin Lightening Mild Face Scrub...   \n",
       "29996   Yashus Moisturizing Anti-aging Gold Collagen ...   \n",
       "29997            Elancyl Slim Design Flat Stomach 150ml    \n",
       "29998   KEYA SETH AROMATHERAPY, DEVICE OF DROP Alopex...   \n",
       "29999   Slss Anti Wrinkle Organic Hyaluronic Acid Vit...   \n",
       "\n",
       "                                     Product Description  \\\n",
       "0      PROFESSIONAL GRADE Face Peel: this peel stimul...   \n",
       "1      Item name: 1.5mm titanium 1200 needles microne...   \n",
       "2      Use: eye, item type: cream, net wt: 20g, gzzz:...   \n",
       "3      Prevent the tongue from dropping backward or b...   \n",
       "4         Harvey's wafer Cream Wafer 110g. Made in India   \n",
       "...                                                  ...   \n",
       "29995  For a smooth & Flawless complexion this scrub ...   \n",
       "29996  Gold eye mask is suitable for people: Eye patt...   \n",
       "29997                                                NaN   \n",
       "29998                                                NaN   \n",
       "29999  With 2.5% active Retinol, Hyaluronic Acid, Vit...   \n",
       "\n",
       "                                        Brand Pack Size Or Quantity      Mrp  \\\n",
       "0                                    Lee Posh                   NaN  2000.00   \n",
       "1                                   SLB Works                   NaN  2040.00   \n",
       "2                                     Generic                   NaN  1824.00   \n",
       "3                                     Generic                   NaN  2185.00   \n",
       "4                                     Harveys                   NaN   594.00   \n",
       "...                                       ...                   ...      ...   \n",
       "29995                           Pure Organics                   NaN   249.00   \n",
       "29996                                  YASHUS                   NaN  1050.00   \n",
       "29997                                     NaN                   NaN  7287.00   \n",
       "29998  KEYA SETH AROMATHERAPY, DEVICE OF DROP                   NaN   350.00   \n",
       "29999                                    Slss                   NaN  2134.00   \n",
       "\n",
       "         Price  Site Name  Offers Combo Offers Stock Availibility  \\\n",
       "0       799.00  Amazon In  60.05%          NaN                YES   \n",
       "1      2040.00  Amazon In      0%          NaN                YES   \n",
       "2      1042.00  Amazon In  42.87%          NaN                YES   \n",
       "3      1399.00  Amazon In  35.97%          NaN                YES   \n",
       "4       570.00  Amazon In   4.04%          NaN                YES   \n",
       "...        ...        ...     ...          ...                ...   \n",
       "29995   224.00  Amazon In  10.04%          NaN                YES   \n",
       "29996  1050.00  Amazon In      0%          NaN                YES   \n",
       "29997  7287.00  Amazon In      0%          NaN                YES   \n",
       "29998   350.00  Amazon In      0%          NaN                YES   \n",
       "29999  2134.00  Amazon In      0%          NaN                YES   \n",
       "\n",
       "      Product Asin                                         Image Urls  \n",
       "0       B072BGHNJ1  https://images-na.ssl-images-amazon.com/images...  \n",
       "1       B07QDTZYSJ  https://images-na.ssl-images-amazon.com/images...  \n",
       "2       B07DCSN8MP  https://images-na.ssl-images-amazon.com/images...  \n",
       "3       B07GLW9VQN  https://images-na.ssl-images-amazon.com/images...  \n",
       "4       B07NFYYLF1  https://images-na.ssl-images-amazon.com/images...  \n",
       "...            ...                                                ...  \n",
       "29995   B07HN4VRBP  https://images-na.ssl-images-amazon.com/images...  \n",
       "29996   B07M5JXYTG  https://images-na.ssl-images-amazon.com/images...  \n",
       "29997   B078S7K42M  https://images-na.ssl-images-amazon.com/images...  \n",
       "29998   B07KM37RDH  https://images-na.ssl-images-amazon.com/images...  \n",
       "29999   B07LB1L8YR  https://images-na.ssl-images-amazon.com/images...  \n",
       "\n",
       "[30000 rows x 15 columns]"
      ]
     },
     "execution_count": 5,
     "metadata": {},
     "output_type": "execute_result"
    }
   ],
   "source": [
    "df = pd.read_csv('data.csv')\n",
    "df"
   ]
  },
  {
   "cell_type": "markdown",
   "id": "d342c7b6",
   "metadata": {},
   "source": [
    "### Dữ liệu có bao nhiêu dòng và cột?"
   ]
  },
  {
   "cell_type": "code",
   "execution_count": null,
   "id": "c5e9c5cd",
   "metadata": {},
   "outputs": [],
   "source": [
    "#num_rows\n",
    "#num_cols"
   ]
  },
  {
   "cell_type": "markdown",
   "id": "764a3545",
   "metadata": {},
   "source": [
    "### Ý nghĩa của mỗi dòng. Có vấn đề các dòng có ý nghĩa khác nhau không?"
   ]
  },
  {
   "cell_type": "markdown",
   "id": "b15e6e26",
   "metadata": {},
   "source": []
  },
  {
   "cell_type": "markdown",
   "id": "85f46c6c",
   "metadata": {},
   "source": [
    "### Dữ liệu có các dòng bị lặp không?"
   ]
  },
  {
   "cell_type": "code",
   "execution_count": null,
   "id": "040d352b",
   "metadata": {},
   "outputs": [],
   "source": [
    "#have_duplicated_rows"
   ]
  },
  {
   "cell_type": "markdown",
   "id": "91fa1529",
   "metadata": {},
   "source": [
    "### Ý nghĩa của mỗi cột"
   ]
  },
  {
   "cell_type": "markdown",
   "id": "82cefa94",
   "metadata": {},
   "source": []
  },
  {
   "cell_type": "markdown",
   "id": "1f05102b",
   "metadata": {},
   "source": [
    "### Mỗi cột có kiểu dữ liệu gì? Có cột nào có kiểu dữ liệu chưa phù hợp để có thể xử lý tiếp không?"
   ]
  },
  {
   "cell_type": "markdown",
   "id": "2d760969",
   "metadata": {},
   "source": [
    "Lấy `dtype` (kiểu dữ liệu của mỗi phần tử) của mỗi cột trong `df` và lưu kết quả vào series `col_dtypes`; series này có index là tên cột. \n"
   ]
  },
  {
   "cell_type": "code",
   "execution_count": null,
   "id": "f1e9bb98",
   "metadata": {},
   "outputs": [],
   "source": [
    "#col_dtypes"
   ]
  },
  {
   "cell_type": "markdown",
   "id": "8b71c2af",
   "metadata": {},
   "source": [
    "## Tiền xử lý (nếu cần)"
   ]
  },
  {
   "cell_type": "markdown",
   "id": "b0a5ee21",
   "metadata": {},
   "source": [
    "Chỗ này sẽ chuyển kiểu dữ liệu của cột `Crawl Timestamp` từ object sang datetime. Các cột `Mrp` ,`Price`từ object sang float. Trước mắt là xử lý 2 cột này trước, cột `Offers` có đơn vị là % nên nếu có xài thì sẽ xử lý sau"
   ]
  },
  {
   "cell_type": "code",
   "execution_count": null,
   "id": "de6b82e6",
   "metadata": {},
   "outputs": [],
   "source": []
  },
  {
   "cell_type": "markdown",
   "id": "2f3d8572",
   "metadata": {},
   "source": [
    "## Khám phá dữ liệu (tiếp tục)"
   ]
  },
  {
   "cell_type": "markdown",
   "id": "ef69bdc6",
   "metadata": {},
   "source": [
    "### Với mỗi cột numeric, các giá trị được phân phối như thế nào?"
   ]
  },
  {
   "cell_type": "markdown",
   "id": "dbb023bc",
   "metadata": {},
   "source": [
    "Với mỗi cột numeric bạn sẽ tính tỉ lệ % giá trị thiếu (từ 0 đến 100), min, max. Bạn lưu kết quả vào dataframe nume_col_profiles_df. Dataframe này có 3 dòng là \"missing_ratio\", \"min\", \"max\"; và có n cột (n là số cột numeric)"
   ]
  },
  {
   "cell_type": "code",
   "execution_count": null,
   "id": "b46fba50",
   "metadata": {},
   "outputs": [],
   "source": [
    "#nume_col_profiles_df"
   ]
  },
  {
   "cell_type": "markdown",
   "id": "85aa1dad",
   "metadata": {},
   "source": [
    "### Nhận xét về \"missing_ratio\", \"min\", \"max\" của các cột numeric"
   ]
  },
  {
   "cell_type": "markdown",
   "id": "e942036e",
   "metadata": {},
   "source": []
  },
  {
   "cell_type": "markdown",
   "id": "ec1413f1",
   "metadata": {},
   "source": [
    "### Với mỗi cột categorical, các giá trị được phân phối như thế nào?"
   ]
  },
  {
   "cell_type": "markdown",
   "id": "9a965014",
   "metadata": {},
   "source": [
    "Với mỗi cột categorical, bạn tính tỉ lệ % giá trị thiếu (từ 0 đến 100), số lượng giá trị khác nhau (không xét giá trị thiếu), list/array các giá trị khác nhau (không xét giá trị thiếu). Bạn lưu kết quả vào dataframe cate_col_profiles_df. Dataframe này có 3 dòng là \"missing_ratio\", \"num_diff_vals\", \"diff_vals\"; và có n cột là (n là số lượng cột categorical)"
   ]
  },
  {
   "cell_type": "code",
   "execution_count": null,
   "id": "f0376ca0",
   "metadata": {},
   "outputs": [],
   "source": []
  },
  {
   "cell_type": "markdown",
   "id": "ba12f46a",
   "metadata": {},
   "source": [
    "### Nhận xét về \"missing_ratio\", \"num_diff_vals\", \"diff_vals\" của các cột categorical"
   ]
  },
  {
   "cell_type": "markdown",
   "id": "79a4a0c1",
   "metadata": {},
   "source": []
  },
  {
   "cell_type": "markdown",
   "id": "033dfcff",
   "metadata": {},
   "source": [
    "## Đưa ra câu hỏi có ý nghĩa cần trả lời"
   ]
  },
  {
   "cell_type": "code",
   "execution_count": null,
   "id": "6f94519d",
   "metadata": {},
   "outputs": [],
   "source": []
  },
  {
   "cell_type": "markdown",
   "id": "d725cf6e",
   "metadata": {},
   "source": [
    "## Tiền xử lý (nếu cần) + phân tích dữ liệu để trả lời cho câu hỏi 1"
   ]
  },
  {
   "cell_type": "code",
   "execution_count": null,
   "id": "efccb591",
   "metadata": {},
   "outputs": [],
   "source": []
  },
  {
   "cell_type": "markdown",
   "id": "03a26399",
   "metadata": {},
   "source": [
    "## Tiền xử lý (nếu cần) + phân tích dữ liệu để trả lời cho câu hỏi 2"
   ]
  },
  {
   "cell_type": "code",
   "execution_count": null,
   "id": "84ff09d5",
   "metadata": {},
   "outputs": [],
   "source": []
  }
 ],
 "metadata": {
  "kernelspec": {
   "display_name": "Python 3 (ipykernel)",
   "language": "python",
   "name": "python3"
  },
  "language_info": {
   "codemirror_mode": {
    "name": "ipython",
    "version": 3
   },
   "file_extension": ".py",
   "mimetype": "text/x-python",
   "name": "python",
   "nbconvert_exporter": "python",
   "pygments_lexer": "ipython3",
   "version": "3.8.8"
  }
 },
 "nbformat": 4,
 "nbformat_minor": 5
}
